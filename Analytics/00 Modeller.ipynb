{
 "cells": [
  {
   "cell_type": "code",
   "execution_count": 1,
   "metadata": {},
   "outputs": [],
   "source": [
    "%load_ext autoreload\n",
    "%autoreload 2\n",
    "\n",
    "import os\n",
    "import pickle\n",
    "import datetime\n",
    "import numpy as np\n",
    "import pandas as pd\n",
    "import rioxarray as rxr\n",
    "import statsmodels.api as sm\n",
    "import matplotlib.pyplot as plt\n",
    "import polars as pl #libs for faster data processing\n",
    "\n",
    "\n",
    "from dateutil import tz\n",
    "import geopandas as gpd\n",
    "\n",
    "from pyproj import CRS\n",
    "\n",
    "\n",
    "import sklearn.metrics as metrics\n",
    "from sklearn.model_selection import  train_test_split\n",
    "from sklearn.linear_model import LinearRegression\n",
    "\n",
    "\n",
    "os.chdir('/Users/gaurav/UAH/temperature_modelling/')\n",
    "\n",
    "#Custom modules\n",
    "import lib.satellite as sat\n",
    "import lib.dataprocess as dp \n",
    "import lib.crowdqc as cqc\n",
    "from lib import helper\n",
    "from lib import modeller as mod\n",
    "from lib import visualizer\n",
    "\n",
    "\n",
    "\n",
    "#For the issue with .loc[]\n",
    "pd.options.mode.chained_assignment = None"
   ]
  },
  {
   "cell_type": "markdown",
   "metadata": {},
   "source": [
    "### Step 1 : Clean Data \n",
    "\n",
    "Run     : python lib/cleaner.py Madison 2021 <br>\n",
    "Output  : New clean data saved in /Users/gaurav/UAH/temperature_modelling/data/processed_data/Madison_2021/clean_Madison_pws_.csv"
   ]
  },
  {
   "cell_type": "code",
   "execution_count": 2,
   "metadata": {},
   "outputs": [],
   "source": [
    "#updating necessary columns from satellite\n",
    "necessary_col_sat = ['station', 'beg_time', 'latitude', 'longitude', \n",
    "                # 'humidityAvg',\n",
    "                  'temperature',\n",
    "               # 'windspeed', 'dewpt', 'heatindex', 'precipRate',\n",
    "               'day_of_year',\n",
    "               'hour', 'adjusted_lst', 'valueImperviousfraction', 'valueTreefraction',\n",
    "               'valueBuildingheight', 'valueNearestDistWater', 'valueWaterfraction',\n",
    "              #  'valueLandcover', \n",
    "               'valueBuildingfraction']\n",
    "\n",
    "#updating temporal columns\n",
    "spatial_columns = [ 'station', 'beg_time', 'latitude','longitude',\n",
    "                     'temperature', \n",
    "                     'closest_station_1_temp','closest_station_2_temp','closest_station_3_temp',\n",
    "                     'closest_1_distance','closest_2_distance','closest_3_distance',\n",
    "                     ]\n",
    "\n",
    "##### Note : \n",
    "# 1. valueLandcover is not included as it is categorical\n",
    "default_location = 'Madison'\n",
    "default_year = 2021\n"
   ]
  },
  {
   "cell_type": "markdown",
   "metadata": {},
   "source": [
    "## Readin PWS Data\n",
    "### Step 1 : Clean Data \n",
    "#Run     : python lib/cleaner.py Madison 2021 <br>\n",
    "#Output  : New clean data saved in /Users/gaurav/UAH/temperature_modelling/data/processed_data/Madison_2021/clean_Madison_pws_.csv\n"
   ]
  },
  {
   "cell_type": "code",
   "execution_count": 247,
   "metadata": {},
   "outputs": [],
   "source": [
    "#Readin PWS Data\n",
    "### Step 1 : Clean Data \n",
    "# Run     : python lib/cleaner.py Madison 2021 <br>\n",
    "# Output  : New clean data saved in /Users/gaurav/UAH/temperature_modelling/data/processed_data/Madison_2021/clean_Madison_pws_.csv\n",
    "\n",
    "clean_data = pd.read_csv('data/processed_data/Madison_2021/clean_Madison_pws_.csv')\n",
    "# clean_data = pd.read_csv('data/processed_data/Madison_2022/clean_Madison_pws_.csv')\n",
    "clean_data['beg_time'] = pd.to_datetime(clean_data['beg_time'])\n",
    "clean_data['hour'] = clean_data['beg_time'].dt.hour\n",
    "\n",
    "clean_data = clean_data.query(\"day_of_year >= 120 & day_of_year <= 320\")\n",
    "clean_data.station = clean_data.station.str.upper()\n",
    "\n",
    "# dp.plot_(clean_data,'day_of_year',200)\n"
   ]
  },
  {
   "cell_type": "code",
   "execution_count": 174,
   "metadata": {},
   "outputs": [
    {
     "name": "stderr",
     "output_type": "stream",
     "text": [
      "/var/folders/qr/fds_zg7j76g51mq0zmqdqfnc0000gn/T/ipykernel_75218/15239590.py:4: DtypeWarning:\n",
      "\n",
      "Columns (3,21,27,28,29,31,32,33,38,42,43,44,49,50,52,54,56,64,70,72,73,74,76,77,89,90,96,97,98,99,100,101,102,103,104,105,106,107,108) have mixed types. Specify dtype option on import or set low_memory=False.\n",
      "\n"
     ]
    }
   ],
   "source": [
    "# visualizer.plot_(grouped_data,'hour',resample=False)\n",
    "\n",
    "import pandas as pd\n",
    "wind_data = pd.read_csv('Analytics/wind_data.csv')\n",
    "wind_data.DATE = pd.to_datetime(wind_data.DATE)\n",
    "wind_data = wind_data[(wind_data.DATE.dt.year==2021) & (wind_data.DATE.dt.month==7)]\n",
    "\n",
    "wind_cols = [k for k in  wind_data.columns if 'wind' in k.lower() or \"wnd\" in k.lower()]\n",
    "wind_cols = ['STATION', 'DATE', 'SOURCE',]+ wind_cols\n",
    "wind_data_ = wind_data[wind_cols]\n",
    "wind_data_.isna().sum()\n",
    "\n",
    "wind_data_seg = wind_data_[['STATION', 'DATE','HourlyWindDirection','HourlyWindSpeed']]\n",
    "# wind_data_mean = wind_data_seg.resample('H', on='DATE').mean().reset_index()\n",
    "wind_data_seg['hour'] = wind_data_seg.DATE.dt.hour\n",
    "wind_data_seg = wind_data_seg[(~wind_data_seg.HourlyWindDirection.isna()) & (wind_data_seg.HourlyWindDirection != 'VRB')]\n",
    "\n",
    "import numpy as np\n",
    "\n",
    "wind_data_seg['HourlyWindDirection']  = wind_data_seg['HourlyWindDirection'].astype(int)\n",
    "wind_data_mean = wind_data_seg.groupby(['STATION','hour']).mean().reset_index()\n",
    "wind_data_mean['horizontal_wind'] =wind_data_mean['HourlyWindSpeed'] * np.cos(np.radians(wind_data_mean['HourlyWindDirection']))\n",
    "wind_data_mean['vertical_wind'] =wind_data_mean['HourlyWindSpeed'] * np.sin(np.radians(wind_data_mean['HourlyWindDirection']))\n",
    "# wind_data_mean.to_csv('Analytics/temp_data/wind_data_mean.csv',index=False)\n",
    "# wind_data_mean = wind_data_mean[[ 'hour', 'horizontal_wind', 'vertical_wind']]\n",
    "wind_data_mean.to_csv('Analytics/temp_data/wind_data_mean.csv',index=False)"
   ]
  },
  {
   "cell_type": "markdown",
   "metadata": {},
   "source": [
    "### Step 2: Generate Ecostress and Urban Satellite Data"
   ]
  },
  {
   "cell_type": "code",
   "execution_count": 248,
   "metadata": {},
   "outputs": [
    {
     "name": "stderr",
     "output_type": "stream",
     "text": [
      "/Users/gaurav/UAH/temperature_modelling/lib/satellite.py:111: FutureWarning:\n",
      "\n",
      "You are adding a column named 'geometry' to a GeoDataFrame constructed without an active geometry column. Currently, this automatically sets the active geometry column to 'geometry' but in the future that will no longer happen. Instead, either provide geometry to the GeoDataFrame constructor (GeoDataFrame(... geometry=GeoSeries()) or use `set_geometry('geometry')` to explicitly set the active geometry column.\n",
      "\n"
     ]
    },
    {
     "name": "stdout",
     "output_type": "stream",
     "text": [
      "/Users/gaurav/UAH/temperature_modelling/../ECOSTRESS_and_urban_surface_dataset/Madison/ECOSTRESS/adjusted_output_directory/interpolated_temperature_01.tif\n",
      "/Users/gaurav/UAH/temperature_modelling/../ECOSTRESS_and_urban_surface_dataset/Madison/ECOSTRESS/adjusted_output_directory/temperature_16.tif\n",
      "/Users/gaurav/UAH/temperature_modelling/../ECOSTRESS_and_urban_surface_dataset/Madison/ECOSTRESS/adjusted_output_directory/temperature_02.tif\n",
      "/Users/gaurav/UAH/temperature_modelling/../ECOSTRESS_and_urban_surface_dataset/Madison/ECOSTRESS/adjusted_output_directory/temperature_14.tif\n",
      "/Users/gaurav/UAH/temperature_modelling/../ECOSTRESS_and_urban_surface_dataset/Madison/ECOSTRESS/adjusted_output_directory/temperature_00.tif\n",
      "/Users/gaurav/UAH/temperature_modelling/../ECOSTRESS_and_urban_surface_dataset/Madison/ECOSTRESS/adjusted_output_directory/interpolated_temperature_17.tif\n",
      "/Users/gaurav/UAH/temperature_modelling/../ECOSTRESS_and_urban_surface_dataset/Madison/ECOSTRESS/adjusted_output_directory/interpolated_temperature_03.tif\n",
      "/Users/gaurav/UAH/temperature_modelling/../ECOSTRESS_and_urban_surface_dataset/Madison/ECOSTRESS/adjusted_output_directory/temperature_15.tif\n",
      "/Users/gaurav/UAH/temperature_modelling/../ECOSTRESS_and_urban_surface_dataset/Madison/ECOSTRESS/adjusted_output_directory/temperature_11.tif\n",
      "/Users/gaurav/UAH/temperature_modelling/../ECOSTRESS_and_urban_surface_dataset/Madison/ECOSTRESS/adjusted_output_directory/temperature_05.tif\n",
      "/Users/gaurav/UAH/temperature_modelling/../ECOSTRESS_and_urban_surface_dataset/Madison/ECOSTRESS/adjusted_output_directory/interpolated_temperature_13.tif\n",
      "/Users/gaurav/UAH/temperature_modelling/../ECOSTRESS_and_urban_surface_dataset/Madison/ECOSTRESS/adjusted_output_directory/temperature_04.tif\n",
      "/Users/gaurav/UAH/temperature_modelling/../ECOSTRESS_and_urban_surface_dataset/Madison/ECOSTRESS/adjusted_output_directory/temperature_10.tif\n",
      "/Users/gaurav/UAH/temperature_modelling/../ECOSTRESS_and_urban_surface_dataset/Madison/ECOSTRESS/adjusted_output_directory/temperature_06.tif\n",
      "/Users/gaurav/UAH/temperature_modelling/../ECOSTRESS_and_urban_surface_dataset/Madison/ECOSTRESS/adjusted_output_directory/temperature_12.tif\n",
      "/Users/gaurav/UAH/temperature_modelling/../ECOSTRESS_and_urban_surface_dataset/Madison/ECOSTRESS/adjusted_output_directory/temperature_07.tif\n",
      "/Users/gaurav/UAH/temperature_modelling/../ECOSTRESS_and_urban_surface_dataset/Madison/ECOSTRESS/adjusted_output_directory/temperature_22.tif\n",
      "/Users/gaurav/UAH/temperature_modelling/../ECOSTRESS_and_urban_surface_dataset/Madison/ECOSTRESS/adjusted_output_directory/temperature_09.tif\n",
      "/Users/gaurav/UAH/temperature_modelling/../ECOSTRESS_and_urban_surface_dataset/Madison/ECOSTRESS/adjusted_output_directory/temperature_21.tif\n",
      "/Users/gaurav/UAH/temperature_modelling/../ECOSTRESS_and_urban_surface_dataset/Madison/ECOSTRESS/adjusted_output_directory/interpolated_temperature_23.tif\n",
      "/Users/gaurav/UAH/temperature_modelling/../ECOSTRESS_and_urban_surface_dataset/Madison/ECOSTRESS/adjusted_output_directory/temperature_20.tif\n",
      "/Users/gaurav/UAH/temperature_modelling/../ECOSTRESS_and_urban_surface_dataset/Madison/ECOSTRESS/adjusted_output_directory/temperature_08.tif\n",
      "/Users/gaurav/UAH/temperature_modelling/../ECOSTRESS_and_urban_surface_dataset/Madison/ECOSTRESS/adjusted_output_directory/temperature_18.tif\n",
      "/Users/gaurav/UAH/temperature_modelling/../ECOSTRESS_and_urban_surface_dataset/Madison/ECOSTRESS/adjusted_output_directory/temperature_19.tif\n",
      "Ecostress file saved in /Users/gaurav/UAH/temperature_modelling/data/raster_op/ECOSTRESS_values.csv\n"
     ]
    },
    {
     "name": "stderr",
     "output_type": "stream",
     "text": [
      "/Users/gaurav/UAH/temperature_modelling/lib/satellite.py:111: FutureWarning:\n",
      "\n",
      "You are adding a column named 'geometry' to a GeoDataFrame constructed without an active geometry column. Currently, this automatically sets the active geometry column to 'geometry' but in the future that will no longer happen. Instead, either provide geometry to the GeoDataFrame constructor (GeoDataFrame(... geometry=GeoSeries()) or use `set_geometry('geometry')` to explicitly set the active geometry column.\n",
      "\n"
     ]
    },
    {
     "name": "stdout",
     "output_type": "stream",
     "text": [
      "/Users/gaurav/UAH/temperature_modelling/../ECOSTRESS_and_urban_surface_dataset/Madison/urban_surface_data/Imperviousfraction_madison.tif\n",
      "/Users/gaurav/UAH/temperature_modelling/../ECOSTRESS_and_urban_surface_dataset/Madison/urban_surface_data/Treefraction_madison.tif\n",
      "/Users/gaurav/UAH/temperature_modelling/../ECOSTRESS_and_urban_surface_dataset/Madison/urban_surface_data/Buildingheight_madison.tif\n",
      "/Users/gaurav/UAH/temperature_modelling/../ECOSTRESS_and_urban_surface_dataset/Madison/urban_surface_data/NearestDistWater_madison.tif\n",
      "/Users/gaurav/UAH/temperature_modelling/../ECOSTRESS_and_urban_surface_dataset/Madison/urban_surface_data/Waterfraction_madison.tif\n",
      "/Users/gaurav/UAH/temperature_modelling/../ECOSTRESS_and_urban_surface_dataset/Madison/urban_surface_data/Landcover_madison.tif\n",
      "/Users/gaurav/UAH/temperature_modelling/../ECOSTRESS_and_urban_surface_dataset/Madison/urban_surface_data/Buildingfraction_madison.tif\n",
      "Urban surface properties file saved in /Users/gaurav/UAH/temperature_modelling/data/raster_op/urban_surface_properties_values.csv\n"
     ]
    },
    {
     "name": "stderr",
     "output_type": "stream",
     "text": [
      "/Users/gaurav/UAH/temperature_modelling/lib/satellite.py:239: FutureWarning:\n",
      "\n",
      "Passing 'suffixes' which cause duplicate columns {'station_x', 'beg_time_x', 'geometry_x', 'longitude_x', 'latitude_x'} in the result is deprecated and will raise a MergeError in a future version.\n",
      "\n",
      "/Users/gaurav/UAH/temperature_modelling/lib/satellite.py:239: FutureWarning:\n",
      "\n",
      "Passing 'suffixes' which cause duplicate columns {'station_x', 'beg_time_x', 'geometry_x', 'longitude_x', 'latitude_x'} in the result is deprecated and will raise a MergeError in a future version.\n",
      "\n"
     ]
    }
   ],
   "source": [
    "sat.create_station_file('Madison',default_year,urban_data=False)\n",
    "sat.create_station_file('Madison',default_year,urban_data=True)\n",
    "\n",
    "# sat.create_station_file('Madison',2022,urban_data=True)"
   ]
  },
  {
   "cell_type": "markdown",
   "metadata": {},
   "source": [
    "### Step 4 : Calculate Adjsuted LST\n"
   ]
  },
  {
   "cell_type": "markdown",
   "metadata": {},
   "source": [
    "#### Note : \n",
    "By now I have access to : <br>\n",
    "- One **clean_data** dataframe that records hourly temperature for each station for 1 year.\n",
    "-  **result_df** dataframe that has adjusted LST temperature (i.e. LST-mean(LST)).\n",
    "- **urban_data** dataframe that has urban surface properties.\n",
    "    - The **valueLandcover** column is categorical"
   ]
  },
  {
   "cell_type": "code",
   "execution_count": 249,
   "metadata": {},
   "outputs": [],
   "source": [
    "# This data consists of stations, lat, long, time, temp adjusted lst and all surface values\n",
    "#The process raster data function is used to download the satellite data and process it\n",
    "# default_year = '2022'\n",
    "eco_data = mod.process_raster_data(clean_data,create=False,year=default_year,location=default_location)\n",
    "eco_data = eco_data[necessary_col_sat]"
   ]
  },
  {
   "cell_type": "markdown",
   "metadata": {},
   "source": [
    "### Step 5 : EDA of urban surface properties "
   ]
  },
  {
   "cell_type": "markdown",
   "metadata": {},
   "source": [
    "### Step 6 : Modelling Data"
   ]
  },
  {
   "cell_type": "code",
   "execution_count": 250,
   "metadata": {},
   "outputs": [],
   "source": [
    "#This data combines stations with closest stations\n",
    "temperature_data = helper.find_closest_temperatures(eco_data)"
   ]
  },
  {
   "cell_type": "markdown",
   "metadata": {},
   "source": [
    "#### Step 6.1 : Strategy for Null Values\n",
    "\n",
    "1. Filling null closest temperature vallues with interpolation\n",
    "2. In the future, it can be replaced with second closest or average"
   ]
  },
  {
   "cell_type": "markdown",
   "metadata": {},
   "source": [
    "#### Step 6.2 : Splitting into sequences\n"
   ]
  },
  {
   "cell_type": "markdown",
   "metadata": {},
   "source": [
    "**Model 1 : Linear Regression**"
   ]
  },
  {
   "cell_type": "code",
   "execution_count": 98,
   "metadata": {},
   "outputs": [],
   "source": [
    "from sklearn.preprocessing import StandardScaler\n",
    "\n",
    "window_size = 5\n",
    "#Its here because I don't want to pass final_df everytime\n",
    "def get_partitions(final_df,col_list,selection_hour,scaler=False):\n",
    "    ''' Get final split of data based on hour selected\n",
    "        selection_hour = [1] or None\n",
    "    '''\n",
    "    final_df_x = final_df.query(f'hour == {list([selection_hour or list(np.arange(0,24,1))][0])}')\n",
    "    X_train, X_test, y_train, y_test = mod.get_train_test_data(final_df_x,window_size)\n",
    "    hour_status = final_df_x.hour.unique()\n",
    "\n",
    "    d_train, d_test = X_train[col_list], X_test[col_list]\n",
    "\n",
    "    #if there is no hour column, then its set to none, such that the plotter function behaves accordingly\n",
    "    # hour_status = True if 'hour' in d_train.columns else False\n",
    "\n",
    "    if scaler:\n",
    "        scaler = StandardScaler()\n",
    "\n",
    "        d_train =  scaler.fit_transform(d_train)\n",
    "        d_train = pd.DataFrame(d_train,columns=col_list)\n",
    "        d_test = scaler.transform(d_test)\n",
    "        d_test = pd.DataFrame(d_test,columns=col_list)\n",
    "\n",
    "    return [d_train, d_test, y_train, y_test], hour_status\n",
    "\n",
    "\n",
    "def bulk_model_runner(model,grouped_data,col_list,delete=True,bulk_mode=True,fit = True,residuals=False):\n",
    "    ''' This function runs the model for all hours and saves the predictions and error\n",
    "        grouped_data = data grouped by station\n",
    "        col_list = columns to be used for modelling\n",
    "        delete = True if you want to delete the contents of directory\n",
    "        bulk_mode = True if you want to train one model for each hour\n",
    "        fit = True if you want to fit the model, False if you want to load the model\n",
    "            will be used for transfer learning\n",
    "    '''\n",
    "\n",
    "    #cleaning the directory first\n",
    "    model_name = model.__class__.__name__\n",
    "    model_path = os.path.join(mod.MODEL_PATH,model_name)\n",
    "    if delete:\n",
    "        helper.clean_directory(model_path)\n",
    "\n",
    "    new_grouped_data = grouped_data.copy()\n",
    "\n",
    "    if residuals:\n",
    "        #group the grouped data by hour to find hourly mean and subtract it from the temperature\n",
    "        print('Residuals are being subtracted from data')\n",
    "        new_grouped_data['delta_temp'] = new_grouped_data['temperature']-new_grouped_data.groupby('hour')['temperature'].transform('mean')\n",
    "        new_grouped_data['old_temperature'] = new_grouped_data['temperature']\n",
    "        new_grouped_data['temperature'] = new_grouped_data['delta_temp']\n",
    "        hour_lookup = new_grouped_data.groupby('hour')['old_temperature'].mean().reset_index()\n",
    "\n",
    "        hour_lookup.to_csv('Analytics/temp_data/hour_lookup.csv',index=False)\n",
    "        print('Hour lookup saved in Analytics/temp_data/hour_lookup.csv')\n",
    "\n",
    "    model_dict = {}\n",
    "    model_output_dict = {}\n",
    "    if bulk_mode:\n",
    "        feature_importances_dict = dict()\n",
    "        for hour_ in range(24):\n",
    "            data,hour_status = get_partitions(new_grouped_data,col_list,[hour_])  #or None\n",
    "            predictions,error = mod.train_save(model, data, hour_status)\n",
    "            try:\n",
    "                feature_importances = model.feature_importances_\n",
    "            except:\n",
    "                feature_importances = None\n",
    "            model_dict[hour_] = [predictions,error,feature_importances]\n",
    "\n",
    "        for hour in model_dict.keys():\n",
    "            feature_importances_dict[hour] = model_dict[hour][2]\n",
    "            model_dict[hour][0]['hourly_rms'] = model_dict[hour][1]\n",
    "\n",
    "        hour0 = model_dict[0][0]\n",
    "\n",
    "        for hour in model_dict.keys():\n",
    "            if hour != 0:\n",
    "                hour0 = pd.concat([hour0,model_dict[hour][0]],axis=0)\n",
    "\n",
    "        model_output_dict['hourly_values'] = hour0\n",
    "        model_output_dict['feature_importances'] = pd.DataFrame(feature_importances_dict).mean(axis=1).values\n",
    "\n",
    "        \n",
    "        \n",
    "    \n",
    "    if not bulk_mode:\n",
    "        data,hour_status = get_partitions(new_grouped_data,col_list,None)\n",
    "        predictions,error = mod.train_save(model, data, hour_status)\n",
    "        try:\n",
    "            feature_importances = model.feature_importances_\n",
    "        except:\n",
    "            feature_importances = None\n",
    "        model_dict['hourly_values'] = [predictions,error,feature_importances]\n",
    "\n",
    "        #new module to uniformly output data\n",
    "        combined_df = model_dict['hourly_values'][0]\n",
    "        hourly_rmse = combined_df.groupby('hour').apply(lambda x : metrics.mean_squared_error(x.predicted_temperature,x.true_temperature,squared=False)).reset_index(name='hourly_rms')\n",
    "        combined_df = pd.merge(combined_df, hourly_rmse, on='hour')\n",
    "\n",
    "        model_output_dict['hourly_values'] = combined_df\n",
    "        model_output_dict['feature_importances'] = model_dict['hourly_values'][2]\n",
    "\n",
    "    if residuals:\n",
    "        print('Residuals are being added back to the predictions')\n",
    "        predictions = model_output_dict['hourly_values']\n",
    "\n",
    "        model_dict_updated = predictions.merge(hour_lookup,on='hour')\n",
    "        model_dict_updated['predicted_temperature'] = model_dict_updated['predicted_temperature']+model_dict_updated['old_temperature']\n",
    "        model_dict_updated['true_temperature'] = model_dict_updated['true_temperature']+model_dict_updated['old_temperature']\n",
    "\n",
    "        model_output_dict['hourly_values'] = model_dict_updated\n",
    "    \n",
    "        \n",
    "    return model_output_dict\n",
    "\n",
    "def find_frequent(outliers_dict,number=6):\n",
    "    hash_map = dict()\n",
    "    hash_map_tree = dict()\n",
    "\n",
    "    for hrs in outliers_dict.keys():\n",
    "        val = outliers_dict[hrs]\n",
    "        for v in val:\n",
    "            hash_map[v] = 1 + hash_map.get(v,0)\n",
    "            hash_map_tree[v] = 1 + hash_map_tree.get(v,0)\n",
    "\n",
    "    hash_map_tree = {k: v for k, v in sorted(hash_map_tree.items(), key=lambda item: item[1],reverse=True)}\n",
    "    top_n = {k:v for k,v in sorted(hash_map_tree.items(),key=lambda x: x[1],reverse=True)[:number]}\n",
    "    return top_n\n",
    "\n",
    "def combine_hashes(hash1,hash2):\n",
    "    for k,v in hash2.items():\n",
    "        hash1[k] = 1 + hash1.get(k,0)\n",
    "    return hash1"
   ]
  },
  {
   "cell_type": "code",
   "execution_count": 172,
   "metadata": {},
   "outputs": [
    {
     "name": "stdout",
     "output_type": "stream",
     "text": [
      "Original station count : 118\n",
      "Flag station count : 7\n",
      "Missing station count : 4\n",
      "Final station count : 108\n"
     ]
    }
   ],
   "source": [
    "year = 2021\n",
    "month = 6\n",
    "\n",
    "beg_time = str(year) + '-' + str(month) + '-01'\n",
    "end_time = str(year) + '-' + str(month + 1) +'-01'\n",
    "\n",
    "# temperature_data_segment = temperature_data.query(\"beg_time >= '2021-05-01' & beg_time < '2021-06-01'\")\n",
    "temperature_data_segment = temperature_data.query(f\"beg_time >= '{beg_time}' & beg_time < '{end_time}'\")\n",
    "final_df = mod.get_final_df(temperature_data_segment,eco_data,spatial_columns)\n",
    "grouped_data = final_df.groupby(['station','hour']).mean().reset_index()\n",
    "\n",
    "# Data cleaning pipeline \n",
    "# cqc.level_1_plot(grouped_data)\n",
    "print(f'Original station count : {len(grouped_data.station.unique())}')\n",
    "flag_stations = cqc.cleaning_outliers(grouped_data)\n",
    "missing_stations = cqc.clean_missing_data(final_df,print_missing=False,missing_count=18)\n",
    "\n",
    "grouped_data = grouped_data.query(\"station not in @flag_stations\")\n",
    "grouped_data = grouped_data.query(\"station not in @missing_stations\")\n",
    "# cqc.level_1_plot(grouped_data)\n",
    "\n",
    "print(f'Flag station count : {len(flag_stations)}')\n",
    "print(f'Missing station count : {len(missing_stations)}')\n",
    "print(f'Final station count : {len(grouped_data.station.unique())}')\n",
    "\n"
   ]
  },
  {
   "cell_type": "code",
   "execution_count": 173,
   "metadata": {},
   "outputs": [
    {
     "name": "stdout",
     "output_type": "stream",
     "text": [
      "Final station count : 105\n"
     ]
    }
   ],
   "source": [
    "import plotly.express as pe\n",
    "\n",
    "grouped_data = grouped_data.query(\"station not in @flag_stations\")\n",
    "grouped_data = grouped_data.query(\"station not in @missing_stations\")\n",
    "grouped_data['beg_time'] = final_df['beg_time'][0]\n",
    "\n",
    "#calculating outliers based on quartiles for valueTreefraction and valueImperviousfraction\n",
    "predictions1,outliers_tree = cqc.filter_quartiles(grouped_data,quantiles=[0.025, 0.97])\n",
    "predictions2,outliers_impe = cqc.filter_quartiles(grouped_data,feature_column='valueImperviousfraction')\n",
    "\n",
    "outliers_tree = find_frequent(outliers_tree)\n",
    "outliers_impe = find_frequent(outliers_impe)\n",
    "\n",
    "\n",
    "outliers = combine_hashes(outliers_tree,outliers_impe)\n",
    "outliers_3 = ({k:v for k,v in sorted(outliers.items(),key=lambda x: x[1],reverse=True)[:3]}).keys()\n",
    "\n",
    "grouped_data.to_csv('Analytics/temp_data/grouped_data_untouched.csv',index=False)\n",
    "\n",
    "grouped_data = grouped_data.query(\"station not in @outliers_3\")\n",
    "\n",
    "grouped_data.to_csv('Analytics/temp_data/grouped_data_filtered.csv',index=False)\n",
    "\n",
    "##the grouped data is saved in the temp_data folder and used for final scatter plots\n",
    "helper.convert_to_gpd(grouped_data,'epsg:4326',convert_to='epsg:6879')[['hour','latitude','longitude','temperature']].to_csv('Analytics/temp_data/grouped_data.csv',index=False)\n",
    "\n",
    "print(f'Final station count : {len(grouped_data.station.unique())}')\n",
    "\n",
    "# pe.scatter(grouped_data, x=\"hour\", y=\"temperature\", color='station', title='Temperature Pattern for Normal Stations',)\n"
   ]
  },
  {
   "cell_type": "code",
   "execution_count": 131,
   "metadata": {},
   "outputs": [
    {
     "name": "stdout",
     "output_type": "stream",
     "text": [
      "{'KWIMADIS138': 19, 'KWIMADIS352': 12, 'KWIMADIS334': 11, 'KWIMADIS118': 9, 'KWIMADIS104': 7, 'KWIMADIS35': 5, 'KWIMIDDL25': 1}\n",
      "{'KWIMADIS138': 17, 'KWIMADIS352': 11, 'KWIMADIS334': 10, 'KWIMADIS104': 6, 'KWIMIDDL25': 5, 'KWIMADIS118': 5}\n",
      "{'KWIMADIS138': 19, 'KWIMADIS352': 12, 'KWIMADIS334': 11, 'KWIMADIS118': 9, 'KWIMADIS104': 7, 'KWIMADIS35': 5, 'KWIMIDDL25': 1}\n"
     ]
    }
   ],
   "source": [
    "# pe.scatter(grouped_data, x=\"hour\", y=\"temperature\", color='station', title='Temperature Pattern for Normal Stations')\n",
    "\n",
    "print(outliers_tree)\n",
    "print(outliers_impe)\n",
    "print(outliers)"
   ]
  },
  {
   "cell_type": "code",
   "execution_count": 108,
   "metadata": {},
   "outputs": [],
   "source": [
    "if not 'horizontal_wind' in grouped_data.columns:\n",
    "    grouped_data = grouped_data.merge(wind_data_mean,on='hour')\n",
    "\n",
    "\n",
    "# grouped_data[grouped_data.hour ==0]"
   ]
  },
  {
   "cell_type": "markdown",
   "metadata": {},
   "source": [
    "# Model 1 : Random Forest "
   ]
  },
  {
   "cell_type": "code",
   "execution_count": 109,
   "metadata": {},
   "outputs": [
    {
     "name": "stdout",
     "output_type": "stream",
     "text": [
      "Residuals are being subtracted from data\n",
      "Hour lookup saved in Analytics/temp_data/hour_lookup.csv\n",
      "Model Saved : /Users/gaurav/UAH/temperature_modelling/Resources/trained_models/RandomForestRegressor/RandomForestRegressor_0.sav\n",
      "Residuals are being added back to the predictions\n",
      "Time at which model ran : 01/16/24 16:29:07\n"
     ]
    },
    {
     "data": {
      "image/png": "[encoded data removed]",
      "text/plain": [
       "<Figure size 432x288 with 1 Axes>"
      ]
     },
     "metadata": {
      "needs_background": "light"
     },
     "output_type": "display_data"
    },
    {
     "data": {
      "image/png": "[encoded data removed]",
      "text/plain": [
       "<Figure size 432x288 with 1 Axes>"
      ]
     },
     "metadata": {
      "needs_background": "light"
     },
     "output_type": "display_data"
    },
    {
     "data": {
      "image/png": "[encoded data removed]",
      "text/plain": [
       "<Figure size 432x288 with 1 Axes>"
      ]
     },
     "metadata": {
      "needs_background": "light"
     },
     "output_type": "display_data"
    }
   ],
   "source": [
    "from sklearn.ensemble import RandomForestRegressor\n",
    "\n",
    "col_list = [\n",
    "    # 'latitude', 'longitude', \n",
    "            'hour', \n",
    "            # 'closest_station_1_temp',\n",
    "            # 'closest_1_distance',\n",
    "      #  'day_of_year', \n",
    "       'adjusted_lst',\n",
    "       'valueImperviousfraction', 'valueTreefraction', 'valueBuildingheight',\n",
    "      #  'valueNearestDistWater',\n",
    "         'valueWaterfraction', 'valueBuildingfraction',\n",
    "        #  'horizontal_wind','vertical_wind'\n",
    "         ]\n",
    "\n",
    "rrf = RandomForestRegressor(max_depth=20, min_samples_leaf=2, min_samples_split=8,\n",
    "                            n_estimators=300)\n",
    "\n",
    "\n",
    "\n",
    "\n",
    "# model_dict = bulk_model_runner(rrf,grouped_data,col_list,bulk_mode=False,delete=True)\n",
    "# visualizer.plot_mean(model_dict,'Random Forest',col_list)\n",
    "\n",
    "model_dict = bulk_model_runner(rrf,grouped_data,col_list,bulk_mode=False,delete=True,residuals=True)\n",
    "visualizer.plot_mean(model_dict,'Random Forest',col_list)\n",
    "\n",
    "\n"
   ]
  },
  {
   "cell_type": "code",
   "execution_count": 152,
   "metadata": {},
   "outputs": [
    {
     "data": {
      "text/plain": [
       "Text(0.5, 1.0, 'Mean and Standard Deviation of Predicted and Actual Temperature :Random Forest')"
      ]
     },
     "execution_count": 152,
     "metadata": {},
     "output_type": "execute_result"
    },
    {
     "data": {
      "image/png": "[encoded data removed]",
      "text/plain": [
       "<Figure size 1152x360 with 1 Axes>"
      ]
     },
     "metadata": {
      "needs_background": "light"
     },
     "output_type": "display_data"
    }
   ],
   "source": [
    "mean_std_matrix = model_dict['hourly_values'].groupby('hour')[['predicted_temperature','true_temperature']].agg(['std','mean']).reset_index()\n",
    "plt.figure(figsize=(16,5))\n",
    "plt.errorbar(mean_std_matrix['hour'],mean_std_matrix['predicted_temperature']['mean'],mean_std_matrix['predicted_temperature']['std'],label = 'Predicted Temperature', capsize=2, capthick=1)\n",
    "plt.errorbar(mean_std_matrix['hour'],mean_std_matrix['true_temperature']['mean'],mean_std_matrix['true_temperature']['std'],label = 'True Temperature', capsize=2, capthick=1)\n",
    "\n",
    "plt.xlabel('Hour')\n",
    "plt.ylabel('Temperature in C')\n",
    "plt.legend()\n",
    "plt.grid()\n",
    "plt.title('Mean and Standard Deviation of Predicted and Actual Temperature :Random Forest')\n",
    "\n"
   ]
  },
  {
   "cell_type": "markdown",
   "metadata": {},
   "source": [
    "**Model 2 : GBR**"
   ]
  },
  {
   "cell_type": "code",
   "execution_count": 179,
   "metadata": {},
   "outputs": [],
   "source": []
  },
  {
   "cell_type": "code",
   "execution_count": null,
   "metadata": {},
   "outputs": [],
   "source": []
  },
  {
   "cell_type": "code",
   "execution_count": null,
   "metadata": {},
   "outputs": [],
   "source": []
  },
  {
   "cell_type": "code",
   "execution_count": 118,
   "metadata": {},
   "outputs": [
    {
     "name": "stdout",
     "output_type": "stream",
     "text": [
      "Residuals are being subtracted from data\n",
      "Hour lookup saved in Analytics/temp_data/hour_lookup.csv\n"
     ]
    },
    {
     "ename": "ValueError",
     "evalue": "alpha must be in (0.0, 1.0) but was 1.0",
     "output_type": "error",
     "traceback": [
      "\u001b[0;31m---------------------------------------------------------------------------\u001b[0m",
      "\u001b[0;31mValueError\u001b[0m                                Traceback (most recent call last)",
      "Input \u001b[0;32mIn [118]\u001b[0m, in \u001b[0;36m<cell line: 30>\u001b[0;34m()\u001b[0m\n\u001b[1;32m     26\u001b[0m gbr \u001b[38;5;241m=\u001b[39m GBR(\u001b[38;5;241m*\u001b[39m\u001b[38;5;241m*\u001b[39mparams)\n\u001b[1;32m     27\u001b[0m gbr \u001b[38;5;241m=\u001b[39m GBR(alpha\u001b[38;5;241m=\u001b[39m\u001b[38;5;241m1.0\u001b[39m)\n\u001b[0;32m---> 30\u001b[0m model_dict \u001b[38;5;241m=\u001b[39m \u001b[43mbulk_model_runner\u001b[49m\u001b[43m(\u001b[49m\u001b[43mgbr\u001b[49m\u001b[43m,\u001b[49m\u001b[43mgrouped_data\u001b[49m\u001b[43m,\u001b[49m\u001b[43mcol_list\u001b[49m\u001b[43m,\u001b[49m\u001b[43mbulk_mode\u001b[49m\u001b[38;5;241;43m=\u001b[39;49m\u001b[38;5;28;43;01mFalse\u001b[39;49;00m\u001b[43m,\u001b[49m\u001b[43mdelete\u001b[49m\u001b[38;5;241;43m=\u001b[39;49m\u001b[38;5;28;43;01mTrue\u001b[39;49;00m\u001b[43m,\u001b[49m\u001b[43mresiduals\u001b[49m\u001b[38;5;241;43m=\u001b[39;49m\u001b[38;5;28;43;01mTrue\u001b[39;49;00m\u001b[43m)\u001b[49m\n\u001b[1;32m     31\u001b[0m visualizer\u001b[38;5;241m.\u001b[39mplot_mean(model_dict,\u001b[38;5;124m'\u001b[39m\u001b[38;5;124mGBR\u001b[39m\u001b[38;5;124m'\u001b[39m,col_list)\n",
      "Input \u001b[0;32mIn [98]\u001b[0m, in \u001b[0;36mbulk_model_runner\u001b[0;34m(model, grouped_data, col_list, delete, bulk_mode, fit, residuals)\u001b[0m\n\u001b[1;32m     87\u001b[0m \u001b[38;5;28;01mif\u001b[39;00m \u001b[38;5;129;01mnot\u001b[39;00m bulk_mode:\n\u001b[1;32m     88\u001b[0m     data,hour_status \u001b[38;5;241m=\u001b[39m get_partitions(new_grouped_data,col_list,\u001b[38;5;28;01mNone\u001b[39;00m)\n\u001b[0;32m---> 89\u001b[0m     predictions,error \u001b[38;5;241m=\u001b[39m \u001b[43mmod\u001b[49m\u001b[38;5;241;43m.\u001b[39;49m\u001b[43mtrain_save\u001b[49m\u001b[43m(\u001b[49m\u001b[43mmodel\u001b[49m\u001b[43m,\u001b[49m\u001b[43m \u001b[49m\u001b[43mdata\u001b[49m\u001b[43m,\u001b[49m\u001b[43m \u001b[49m\u001b[43mhour_status\u001b[49m\u001b[43m)\u001b[49m\n\u001b[1;32m     90\u001b[0m     \u001b[38;5;28;01mtry\u001b[39;00m:\n\u001b[1;32m     91\u001b[0m         feature_importances \u001b[38;5;241m=\u001b[39m model\u001b[38;5;241m.\u001b[39mfeature_importances_\n",
      "File \u001b[0;32m~/UAH/temperature_modelling/lib/modeller.py:241\u001b[0m, in \u001b[0;36mtrain_save\u001b[0;34m(modelx, data, hour_filter, neural_net, fit)\u001b[0m\n\u001b[1;32m    239\u001b[0m         modelx\u001b[38;5;241m.\u001b[39mfit(d_train, y_train, epochs\u001b[38;5;241m=\u001b[39mneural_net[\u001b[38;5;124m'\u001b[39m\u001b[38;5;124mepochs\u001b[39m\u001b[38;5;124m'\u001b[39m], batch_size\u001b[38;5;241m=\u001b[39mneural_net[\u001b[38;5;124m'\u001b[39m\u001b[38;5;124mbatch_size\u001b[39m\u001b[38;5;124m'\u001b[39m], verbose\u001b[38;5;241m=\u001b[39m\u001b[38;5;241m1\u001b[39m)\n\u001b[1;32m    240\u001b[0m     \u001b[38;5;28;01melse\u001b[39;00m: \n\u001b[0;32m--> 241\u001b[0m         \u001b[43mmodelx\u001b[49m\u001b[38;5;241;43m.\u001b[39;49m\u001b[43mfit\u001b[49m\u001b[43m(\u001b[49m\u001b[43md_train\u001b[49m\u001b[43m,\u001b[49m\u001b[43m \u001b[49m\u001b[43my_train\u001b[49m\u001b[43m)\u001b[49m\n\u001b[1;32m    243\u001b[0m \u001b[38;5;28;01melif\u001b[39;00m fit \u001b[38;5;129;01mis\u001b[39;00m \u001b[38;5;28;01mFalse\u001b[39;00m:\n\u001b[1;32m    244\u001b[0m     \u001b[38;5;28mprint\u001b[39m(\u001b[38;5;124m'\u001b[39m\u001b[38;5;124mSkipping model fit\u001b[39m\u001b[38;5;124m'\u001b[39m)\n",
      "File \u001b[0;32m~/opt/anaconda3/lib/python3.9/site-packages/sklearn/ensemble/_gb.py:525\u001b[0m, in \u001b[0;36mBaseGradientBoosting.fit\u001b[0;34m(self, X, y, sample_weight, monitor)\u001b[0m\n\u001b[1;32m    522\u001b[0m \u001b[38;5;28;01melse\u001b[39;00m:\n\u001b[1;32m    523\u001b[0m     X_val \u001b[38;5;241m=\u001b[39m y_val \u001b[38;5;241m=\u001b[39m sample_weight_val \u001b[38;5;241m=\u001b[39m \u001b[38;5;28;01mNone\u001b[39;00m\n\u001b[0;32m--> 525\u001b[0m \u001b[38;5;28;43mself\u001b[39;49m\u001b[38;5;241;43m.\u001b[39;49m\u001b[43m_check_params\u001b[49m\u001b[43m(\u001b[49m\u001b[43m)\u001b[49m\n\u001b[1;32m    527\u001b[0m \u001b[38;5;28;01mif\u001b[39;00m \u001b[38;5;129;01mnot\u001b[39;00m \u001b[38;5;28mself\u001b[39m\u001b[38;5;241m.\u001b[39m_is_initialized():\n\u001b[1;32m    528\u001b[0m     \u001b[38;5;66;03m# init state\u001b[39;00m\n\u001b[1;32m    529\u001b[0m     \u001b[38;5;28mself\u001b[39m\u001b[38;5;241m.\u001b[39m_init_state()\n",
      "File \u001b[0;32m~/opt/anaconda3/lib/python3.9/site-packages/sklearn/ensemble/_gb.py:330\u001b[0m, in \u001b[0;36mBaseGradientBoosting._check_params\u001b[0;34m(self)\u001b[0m\n\u001b[1;32m    324\u001b[0m         \u001b[38;5;28;01mraise\u001b[39;00m \u001b[38;5;167;01mValueError\u001b[39;00m(\n\u001b[1;32m    325\u001b[0m             \u001b[38;5;124m\"\u001b[39m\u001b[38;5;124mThe init parameter must be an estimator or \u001b[39m\u001b[38;5;124m'\u001b[39m\u001b[38;5;124mzero\u001b[39m\u001b[38;5;124m'\u001b[39m\u001b[38;5;124m. \u001b[39m\u001b[38;5;124m\"\u001b[39m\n\u001b[1;32m    326\u001b[0m             \u001b[38;5;124m\"\u001b[39m\u001b[38;5;124mGot init=\u001b[39m\u001b[38;5;132;01m{}\u001b[39;00m\u001b[38;5;124m\"\u001b[39m\u001b[38;5;241m.\u001b[39mformat(\u001b[38;5;28mself\u001b[39m\u001b[38;5;241m.\u001b[39minit)\n\u001b[1;32m    327\u001b[0m         )\n\u001b[1;32m    329\u001b[0m \u001b[38;5;28;01mif\u001b[39;00m \u001b[38;5;129;01mnot\u001b[39;00m (\u001b[38;5;241m0.0\u001b[39m \u001b[38;5;241m<\u001b[39m \u001b[38;5;28mself\u001b[39m\u001b[38;5;241m.\u001b[39malpha \u001b[38;5;241m<\u001b[39m \u001b[38;5;241m1.0\u001b[39m):\n\u001b[0;32m--> 330\u001b[0m     \u001b[38;5;28;01mraise\u001b[39;00m \u001b[38;5;167;01mValueError\u001b[39;00m(\u001b[38;5;124m\"\u001b[39m\u001b[38;5;124malpha must be in (0.0, 1.0) but was \u001b[39m\u001b[38;5;132;01m%r\u001b[39;00m\u001b[38;5;124m\"\u001b[39m \u001b[38;5;241m%\u001b[39m \u001b[38;5;28mself\u001b[39m\u001b[38;5;241m.\u001b[39malpha)\n\u001b[1;32m    332\u001b[0m \u001b[38;5;28;01mif\u001b[39;00m \u001b[38;5;28misinstance\u001b[39m(\u001b[38;5;28mself\u001b[39m\u001b[38;5;241m.\u001b[39mmax_features, \u001b[38;5;28mstr\u001b[39m):\n\u001b[1;32m    333\u001b[0m     \u001b[38;5;28;01mif\u001b[39;00m \u001b[38;5;28mself\u001b[39m\u001b[38;5;241m.\u001b[39mmax_features \u001b[38;5;241m==\u001b[39m \u001b[38;5;124m\"\u001b[39m\u001b[38;5;124mauto\u001b[39m\u001b[38;5;124m\"\u001b[39m:\n",
      "\u001b[0;31mValueError\u001b[0m: alpha must be in (0.0, 1.0) but was 1.0"
     ]
    }
   ],
   "source": [
    "from sklearn.ensemble import GradientBoostingRegressor as GBR\n",
    "\n",
    "col_list = [\n",
    "    # 'latitude', 'longitude', \n",
    "            'hour',  \n",
    "            'closest_station_1_temp',\n",
    "            # 'closest_1_distance',\n",
    "      #  'day_of_year', \n",
    "       'adjusted_lst',\n",
    "       'valueImperviousfraction', 'valueTreefraction', 'valueBuildingheight',\n",
    "    #    'valueNearestDistWater',\n",
    "         'valueWaterfraction', 'valueBuildingfraction',\n",
    "                #   'horizontal_wind','vertical_wind'\n",
    "        ]\n",
    "params = {\n",
    "    'learning_rate': 0.1,  # Learning rate (shrinkage)\n",
    "    'n_estimators': 300,  # Number of boosting stages\n",
    "    'max_depth': 5,  # Maximum depth of the individual trees\n",
    "    'subsample': 0.8,  # Fraction of samples used for fitting the trees (controls overfitting)\n",
    "    'loss': 'squared_error',  # Least Squares regression\n",
    "    'alpha': 0.5,  # L1 regularization term (only available in scikit-learn 0.24.0 and later)\n",
    "}\n",
    "\n",
    "\n",
    "\n",
    "gbr = GBR(**params)\n",
    "gbr = GBR(alpha=1.0)\n",
    "\n",
    "\n",
    "model_dict = bulk_model_runner(gbr,grouped_data,col_list,bulk_mode=False,delete=True,residuals=True)\n",
    "visualizer.plot_mean(model_dict,'GBR',col_list)\n"
   ]
  },
  {
   "cell_type": "markdown",
   "metadata": {},
   "source": [
    "# Model 3 : XGB"
   ]
  },
  {
   "cell_type": "code",
   "execution_count": 111,
   "metadata": {},
   "outputs": [
    {
     "name": "stdout",
     "output_type": "stream",
     "text": [
      "Residuals are being subtracted from data\n",
      "Hour lookup saved in Analytics/temp_data/hour_lookup.csv\n",
      "Model Saved : /Users/gaurav/UAH/temperature_modelling/Resources/trained_models/XGBRegressor/XGBRegressor_0.sav\n",
      "Residuals are being added back to the predictions\n",
      "Time at which model ran : 01/16/24 16:29:18\n"
     ]
    },
    {
     "data": {
      "image/png": "[encoded data removed]",
      "text/plain": [
       "<Figure size 432x288 with 1 Axes>"
      ]
     },
     "metadata": {
      "needs_background": "light"
     },
     "output_type": "display_data"
    },
    {
     "data": {
      "image/png": "[encoded data removed]",
      "text/plain": [
       "<Figure size 432x288 with 1 Axes>"
      ]
     },
     "metadata": {
      "needs_background": "light"
     },
     "output_type": "display_data"
    },
    {
     "data": {
      "image/png": "[encoded data removed]",
      "text/plain": [
       "<Figure size 432x288 with 1 Axes>"
      ]
     },
     "metadata": {
      "needs_background": "light"
     },
     "output_type": "display_data"
    }
   ],
   "source": [
    "import xgboost as xgb\n",
    "from sklearn.model_selection import RandomizedSearchCV\n",
    "import scipy.stats as stats\n",
    "\n",
    "# Define the hyperparameter distributions\n",
    "# params = {\n",
    "#     'objective': 'reg:squarederror',\n",
    "#     'eval_metric': 'rmse',\n",
    "#     # 'eta': 0.01,  # Learning rate (shrinkage)\n",
    "#     'eta': 0.15,  # Learning rate (shrinkage)\n",
    "#     # 'max_depth': 5,\n",
    "#     'lambda': 1,  # L2 regularization term\n",
    "#     'alpha': 0.5,  # L1 regularization term\n",
    "# }\n",
    "\n",
    "\n",
    "params = {\n",
    "    'objective': 'reg:squarederror',\n",
    "    'eval_metric': 'rmse',\n",
    "    # 'eta': 0.01,  # Learning rate (shrinkage)\n",
    "    'eta': 0.035,  # Learning rate (shrinkage)\n",
    "    # 'max_depth': 5,\n",
    "    'lambda': 0.25,  # L2 regularization term\n",
    "    'alpha': 0.20,  # L1 regularization term\n",
    "}\n",
    "\n",
    "col_list = [\n",
    "    # 'latitude', 'longitude', \n",
    "            'hour', \n",
    "            'closest_station_1_temp',\n",
    "          # 'closest_1_distance',\n",
    "      #  'day_of_year', \n",
    "       'adjusted_lst',\n",
    "       'valueImperviousfraction', 'valueTreefraction', 'valueBuildingheight',\n",
    "      #  'valueNearestDistWater',\n",
    "         'valueWaterfraction', \n",
    "         'valueBuildingfraction',\n",
    "        #   'horizontal_wind','vertical_wind'\n",
    "          ]\n",
    "\n",
    "\n",
    "xgb_model = xgb.XGBRegressor(**params)\n",
    "# xgb_model = xgb.XGBRegressor()\n",
    "\n",
    "\n",
    "model_dict = bulk_model_runner(xgb_model,grouped_data,col_list,bulk_mode=False,delete=True,residuals=True)\n",
    "visualizer.plot_mean(model_dict,'XGB',col_list)\n"
   ]
  },
  {
   "cell_type": "markdown",
   "metadata": {},
   "source": [
    "### Neural Networks"
   ]
  },
  {
   "cell_type": "code",
   "execution_count": 193,
   "metadata": {},
   "outputs": [
    {
     "name": "stdout",
     "output_type": "stream",
     "text": [
      "Residuals are being subtracted from data\n",
      "Hour lookup saved in Analytics/temp_data/hour_lookup.csv\n",
      "Model Saved : /Users/gaurav/UAH/temperature_modelling/Resources/trained_models/MLPRegressor/MLPRegressor_0.sav\n",
      "Residuals are being added back to the predictions\n",
      "Time at which model ran : 01/15/24 09:53:54\n",
      "Feature importances not available\n"
     ]
    },
    {
     "data": {
      "image/png": "[encoded data removed]",
      "text/plain": [
       "<Figure size 432x288 with 1 Axes>"
      ]
     },
     "metadata": {
      "needs_background": "light"
     },
     "output_type": "display_data"
    },
    {
     "data": {
      "image/png": "[encoded data removed]",
      "text/plain": [
       "<Figure size 432x288 with 1 Axes>"
      ]
     },
     "metadata": {
      "needs_background": "light"
     },
     "output_type": "display_data"
    }
   ],
   "source": [
    "from sklearn.neural_network import MLPRegressor\n",
    "from sklearn.preprocessing import StandardScaler\n",
    "\n",
    "col_list = [\n",
    "    # 'latitude', 'longitude', \n",
    "            'hour',  \n",
    "        #     'closest_station_1_temp',\n",
    "            # 'closest_1_distance',\n",
    "      #  'day_of_year', \n",
    "       'adjusted_lst',\n",
    "       'valueImperviousfraction', 'valueTreefraction', 'valueBuildingheight',\n",
    "    #    'valueNearestDistWater',\n",
    "         'valueWaterfraction', 'valueBuildingfraction',\n",
    "                  'horizontal_wind','vertical_wind'\n",
    "        ]\n",
    "\n",
    "\n",
    "\n",
    "nn = MLPRegressor(hidden_layer_sizes=(12,10,8,8,4,2),activation='relu', solver='adam', max_iter=500)\n",
    "\n",
    "\n",
    "model_dict = bulk_model_runner(nn,grouped_data,col_list,bulk_mode=False,delete=True,residuals=True)\n",
    "visualizer.plot_mean(model_dict,'Random Forest',col_list)\n",
    "\n"
   ]
  },
  {
   "cell_type": "code",
   "execution_count": 194,
   "metadata": {},
   "outputs": [
    {
     "data": {
      "text/plain": [
       "[<matplotlib.lines.Line2D at 0x29fa20d60>]"
      ]
     },
     "execution_count": 194,
     "metadata": {},
     "output_type": "execute_result"
    },
    {
     "data": {
      "image/png": "[encoded data removed]",
      "text/plain": [
       "<Figure size 432x288 with 1 Axes>"
      ]
     },
     "metadata": {
      "needs_background": "light"
     },
     "output_type": "display_data"
    }
   ],
   "source": [
    "plt.plot(nn.loss_curve_)"
   ]
  },
  {
   "cell_type": "code",
   "execution_count": 180,
   "metadata": {},
   "outputs": [],
   "source": [
    "# def get_delta_plots(final_dict):\n",
    "#     ''' Final dict is of format : \n",
    "#         { {hour : [predictions,error,feature_importances]}}\n",
    "#         access : final_dict[0][0],final_dict[5][0]\n",
    "#     '''\n",
    "#     df_ = final_dict['hourly_values']\n",
    "#     df_ = df_[['predicted_temperature','true_temperature','hour','hourly_rms']]\n",
    "#     # df_['hour']  = 0\n",
    "\n",
    "#     # for hrs in final_dict.keys():\n",
    "#     #     if hrs ==0:\n",
    "#     #         continue\n",
    "#     #     datax = final_dict[hrs][0]\n",
    "#     #     datax = datax[['predicted_temperature','true_temperature','hour']]\n",
    "#     #     datax['hour']  = hrs\n",
    "\n",
    "#     #     df_ = pd.concat([df_,datax])\n",
    "\n",
    "#     df_agg = df_.groupby('hour').mean().reset_index()\n",
    "#     df_agg['delta_temp'] = df_agg.predicted_temperature - df_agg.true_temperature\n",
    "\n",
    "\n",
    "#     avg_rmse = df_.hourly_rms.mean()\n",
    "\n",
    "#     df_['station'] = df_.index\n",
    "#     df_['delta'] = df_.predicted_temperature - df_.true_temperature\n",
    "#     df_ = df_.reset_index().drop('index',axis=1)\n",
    "\n",
    "\n",
    "#     import seaborn as sns\n",
    "#     # sns.set_theme(style=\"whitegrid\")\n",
    "#     sns.set_style(\"white\")\n",
    "#     plt.figure(figsize=(15,15))\n",
    "\n",
    "#     plt.subplot2grid((2, 2), (0, 0), rowspan=1, colspan=1)\n",
    "#     sns.lineplot(x=df_agg.hour,y=df_agg.delta_temp)\n",
    "#     plt.title('Average of Delta Temperature for all stations')\n",
    "#     plt.xlabel('Hour')\n",
    "#     plt.grid()\n",
    "\n",
    "#     plt.ylabel('Delta Temperature')\n",
    "\n",
    "\n",
    "#     plt.subplot2grid((2, 2), (0, 1), rowspan=1, colspan=1)\n",
    "#     sns.lineplot(x = df_agg.hour,y = df_agg.true_temperature,label='True Temperature')\n",
    "#     sns.lineplot(x = df_agg.hour,y = df_agg.predicted_temperature,label='Predicted Temperature')\n",
    "#     plt.title(f'True Temperature VS Predicted for test data : Avg RMSE = {round(avg_rmse,3)}')\n",
    "#     plt.xlabel('Hour')\n",
    "#     plt.ylabel('Temperature')\n",
    "\n",
    "#     # Create a subplot that spans the entire second row\n",
    "#     plt.subplot2grid((2, 2), (1, 0), rowspan=1, colspan=2)\n",
    "#     df_['station'] = df_['station'].astype(str)\n",
    "#     sns.lineplot(x='hour', y='delta', hue='station', data=df_, marker='o')\n",
    "#     plt.title('Delta Temperature for all stations')\n",
    "#     # Show the plot)\n",
    "#     plt.legend(bbox_to_anchor=(1.05, 1), loc='upper left')\n",
    "\n",
    "\n",
    "\n",
    "#     # plt.tight_layout()\n",
    "#     plt.show()\n",
    "\n",
    "# get_delta_plots(model_dict)"
   ]
  },
  {
   "cell_type": "code",
   "execution_count": 220,
   "metadata": {},
   "outputs": [],
   "source": [
    "st_list = grouped_data.station.unique()\n",
    "clean_data = clean_data.query(\"station in @st_list\")\n",
    "clean_data.loc[clean_data.precipRate >350,'precipRate'] = np.nan"
   ]
  },
  {
   "cell_type": "code",
   "execution_count": 221,
   "metadata": {},
   "outputs": [],
   "source": [
    "clean_data['month'] = clean_data.beg_time.dt.month\n"
   ]
  },
  {
   "cell_type": "code",
   "execution_count": 222,
   "metadata": {},
   "outputs": [],
   "source": [
    "clean_data_grp = clean_data.groupby(['station','month','hour']).mean().reset_index()\n",
    "clean_data_may = clean_data_grp.query(\"month == 5\")\n",
    "clean_data_june = clean_data_grp.query(\"month == 6\")\n",
    "clean_data_july = clean_data_grp.query(\"month == 7\")\n",
    "clean_data_aug = clean_data_grp.query(\"month == 8\")\n"
   ]
  },
  {
   "cell_type": "code",
   "execution_count": 224,
   "metadata": {},
   "outputs": [
    {
     "data": {
      "text/html": [
       "<div>\n",
       "<style scoped>\n",
       "    .dataframe tbody tr th:only-of-type {\n",
       "        vertical-align: middle;\n",
       "    }\n",
       "\n",
       "    .dataframe tbody tr th {\n",
       "        vertical-align: top;\n",
       "    }\n",
       "\n",
       "    .dataframe thead th {\n",
       "        text-align: right;\n",
       "    }\n",
       "</style>\n",
       "<table border=\"1\" class=\"dataframe\">\n",
       "  <thead>\n",
       "    <tr style=\"text-align: right;\">\n",
       "      <th></th>\n",
       "      <th>station</th>\n",
       "      <th>beg_time</th>\n",
       "      <th>latitude</th>\n",
       "      <th>longitude</th>\n",
       "      <th>humidityAvg</th>\n",
       "      <th>temperature</th>\n",
       "      <th>windspeed</th>\n",
       "      <th>dewpt</th>\n",
       "      <th>heatindex</th>\n",
       "      <th>precipRate</th>\n",
       "      <th>day_of_year</th>\n",
       "      <th>hour</th>\n",
       "      <th>month</th>\n",
       "    </tr>\n",
       "  </thead>\n",
       "  <tbody>\n",
       "    <tr>\n",
       "      <th>6801</th>\n",
       "      <td>KWIFITCH21</td>\n",
       "      <td>2021-05-01 00:00:00</td>\n",
       "      <td>42.997337</td>\n",
       "      <td>-89.439064</td>\n",
       "      <td>48.0</td>\n",
       "      <td>9.0</td>\n",
       "      <td>3.0</td>\n",
       "      <td>-1.0</td>\n",
       "      <td>9.0</td>\n",
       "      <td>0.0</td>\n",
       "      <td>121</td>\n",
       "      <td>0</td>\n",
       "      <td>5</td>\n",
       "    </tr>\n",
       "    <tr>\n",
       "      <th>6802</th>\n",
       "      <td>KWIFITCH21</td>\n",
       "      <td>2021-05-01 01:00:00</td>\n",
       "      <td>42.997337</td>\n",
       "      <td>-89.439064</td>\n",
       "      <td>59.0</td>\n",
       "      <td>8.0</td>\n",
       "      <td>5.0</td>\n",
       "      <td>1.0</td>\n",
       "      <td>9.0</td>\n",
       "      <td>0.0</td>\n",
       "      <td>121</td>\n",
       "      <td>1</td>\n",
       "      <td>5</td>\n",
       "    </tr>\n",
       "    <tr>\n",
       "      <th>6803</th>\n",
       "      <td>KWIFITCH21</td>\n",
       "      <td>2021-05-01 02:00:00</td>\n",
       "      <td>42.997337</td>\n",
       "      <td>-89.439064</td>\n",
       "      <td>74.0</td>\n",
       "      <td>7.0</td>\n",
       "      <td>4.0</td>\n",
       "      <td>3.0</td>\n",
       "      <td>8.0</td>\n",
       "      <td>0.0</td>\n",
       "      <td>121</td>\n",
       "      <td>2</td>\n",
       "      <td>5</td>\n",
       "    </tr>\n",
       "    <tr>\n",
       "      <th>6804</th>\n",
       "      <td>KWIFITCH21</td>\n",
       "      <td>2021-05-01 03:00:00</td>\n",
       "      <td>42.997337</td>\n",
       "      <td>-89.439064</td>\n",
       "      <td>81.0</td>\n",
       "      <td>7.0</td>\n",
       "      <td>5.0</td>\n",
       "      <td>4.0</td>\n",
       "      <td>7.0</td>\n",
       "      <td>0.0</td>\n",
       "      <td>121</td>\n",
       "      <td>3</td>\n",
       "      <td>5</td>\n",
       "    </tr>\n",
       "    <tr>\n",
       "      <th>6805</th>\n",
       "      <td>KWIFITCH21</td>\n",
       "      <td>2021-05-01 04:00:00</td>\n",
       "      <td>42.997337</td>\n",
       "      <td>-89.439064</td>\n",
       "      <td>81.0</td>\n",
       "      <td>7.0</td>\n",
       "      <td>7.0</td>\n",
       "      <td>4.0</td>\n",
       "      <td>7.0</td>\n",
       "      <td>0.0</td>\n",
       "      <td>121</td>\n",
       "      <td>4</td>\n",
       "      <td>5</td>\n",
       "    </tr>\n",
       "    <tr>\n",
       "      <th>...</th>\n",
       "      <td>...</td>\n",
       "      <td>...</td>\n",
       "      <td>...</td>\n",
       "      <td>...</td>\n",
       "      <td>...</td>\n",
       "      <td>...</td>\n",
       "      <td>...</td>\n",
       "      <td>...</td>\n",
       "      <td>...</td>\n",
       "      <td>...</td>\n",
       "      <td>...</td>\n",
       "      <td>...</td>\n",
       "      <td>...</td>\n",
       "    </tr>\n",
       "    <tr>\n",
       "      <th>854435</th>\n",
       "      <td>KWIWINDS10</td>\n",
       "      <td>2021-08-31 19:00:00</td>\n",
       "      <td>43.206000</td>\n",
       "      <td>-89.348000</td>\n",
       "      <td>74.0</td>\n",
       "      <td>20.0</td>\n",
       "      <td>1.0</td>\n",
       "      <td>15.0</td>\n",
       "      <td>20.0</td>\n",
       "      <td>0.0</td>\n",
       "      <td>243</td>\n",
       "      <td>19</td>\n",
       "      <td>8</td>\n",
       "    </tr>\n",
       "    <tr>\n",
       "      <th>854436</th>\n",
       "      <td>KWIWINDS10</td>\n",
       "      <td>2021-08-31 20:00:00</td>\n",
       "      <td>43.206000</td>\n",
       "      <td>-89.348000</td>\n",
       "      <td>76.0</td>\n",
       "      <td>18.0</td>\n",
       "      <td>2.0</td>\n",
       "      <td>14.0</td>\n",
       "      <td>19.0</td>\n",
       "      <td>0.0</td>\n",
       "      <td>243</td>\n",
       "      <td>20</td>\n",
       "      <td>8</td>\n",
       "    </tr>\n",
       "    <tr>\n",
       "      <th>854437</th>\n",
       "      <td>KWIWINDS10</td>\n",
       "      <td>2021-08-31 21:00:00</td>\n",
       "      <td>43.206000</td>\n",
       "      <td>-89.348000</td>\n",
       "      <td>85.0</td>\n",
       "      <td>16.0</td>\n",
       "      <td>1.0</td>\n",
       "      <td>14.0</td>\n",
       "      <td>17.0</td>\n",
       "      <td>0.0</td>\n",
       "      <td>243</td>\n",
       "      <td>21</td>\n",
       "      <td>8</td>\n",
       "    </tr>\n",
       "    <tr>\n",
       "      <th>854438</th>\n",
       "      <td>KWIWINDS10</td>\n",
       "      <td>2021-08-31 22:00:00</td>\n",
       "      <td>43.206000</td>\n",
       "      <td>-89.348000</td>\n",
       "      <td>92.0</td>\n",
       "      <td>15.0</td>\n",
       "      <td>1.0</td>\n",
       "      <td>13.0</td>\n",
       "      <td>15.0</td>\n",
       "      <td>0.0</td>\n",
       "      <td>243</td>\n",
       "      <td>22</td>\n",
       "      <td>8</td>\n",
       "    </tr>\n",
       "    <tr>\n",
       "      <th>854439</th>\n",
       "      <td>KWIWINDS10</td>\n",
       "      <td>2021-08-31 23:00:00</td>\n",
       "      <td>43.206000</td>\n",
       "      <td>-89.348000</td>\n",
       "      <td>96.0</td>\n",
       "      <td>14.0</td>\n",
       "      <td>0.0</td>\n",
       "      <td>14.0</td>\n",
       "      <td>14.0</td>\n",
       "      <td>0.0</td>\n",
       "      <td>243</td>\n",
       "      <td>23</td>\n",
       "      <td>8</td>\n",
       "    </tr>\n",
       "  </tbody>\n",
       "</table>\n",
       "<p>263762 rows × 13 columns</p>\n",
       "</div>"
      ],
      "text/plain": [
       "           station            beg_time   latitude  longitude  humidityAvg  \\\n",
       "6801    KWIFITCH21 2021-05-01 00:00:00  42.997337 -89.439064         48.0   \n",
       "6802    KWIFITCH21 2021-05-01 01:00:00  42.997337 -89.439064         59.0   \n",
       "6803    KWIFITCH21 2021-05-01 02:00:00  42.997337 -89.439064         74.0   \n",
       "6804    KWIFITCH21 2021-05-01 03:00:00  42.997337 -89.439064         81.0   \n",
       "6805    KWIFITCH21 2021-05-01 04:00:00  42.997337 -89.439064         81.0   \n",
       "...            ...                 ...        ...        ...          ...   \n",
       "854435  KWIWINDS10 2021-08-31 19:00:00  43.206000 -89.348000         74.0   \n",
       "854436  KWIWINDS10 2021-08-31 20:00:00  43.206000 -89.348000         76.0   \n",
       "854437  KWIWINDS10 2021-08-31 21:00:00  43.206000 -89.348000         85.0   \n",
       "854438  KWIWINDS10 2021-08-31 22:00:00  43.206000 -89.348000         92.0   \n",
       "854439  KWIWINDS10 2021-08-31 23:00:00  43.206000 -89.348000         96.0   \n",
       "\n",
       "        temperature  windspeed  dewpt  heatindex  precipRate  day_of_year  \\\n",
       "6801            9.0        3.0   -1.0        9.0         0.0          121   \n",
       "6802            8.0        5.0    1.0        9.0         0.0          121   \n",
       "6803            7.0        4.0    3.0        8.0         0.0          121   \n",
       "6804            7.0        5.0    4.0        7.0         0.0          121   \n",
       "6805            7.0        7.0    4.0        7.0         0.0          121   \n",
       "...             ...        ...    ...        ...         ...          ...   \n",
       "854435         20.0        1.0   15.0       20.0         0.0          243   \n",
       "854436         18.0        2.0   14.0       19.0         0.0          243   \n",
       "854437         16.0        1.0   14.0       17.0         0.0          243   \n",
       "854438         15.0        1.0   13.0       15.0         0.0          243   \n",
       "854439         14.0        0.0   14.0       14.0         0.0          243   \n",
       "\n",
       "        hour  month  \n",
       "6801       0      5  \n",
       "6802       1      5  \n",
       "6803       2      5  \n",
       "6804       3      5  \n",
       "6805       4      5  \n",
       "...      ...    ...  \n",
       "854435    19      8  \n",
       "854436    20      8  \n",
       "854437    21      8  \n",
       "854438    22      8  \n",
       "854439    23      8  \n",
       "\n",
       "[263762 rows x 13 columns]"
      ]
     },
     "execution_count": 224,
     "metadata": {},
     "output_type": "execute_result"
    }
   ],
   "source": [
    "clean_data"
   ]
  },
  {
   "cell_type": "code",
   "execution_count": 243,
   "metadata": {},
   "outputs": [
    {
     "data": {
      "text/plain": [
       "<AxesSubplot:>"
      ]
     },
     "execution_count": 243,
     "metadata": {},
     "output_type": "execute_result"
    },
    {
     "data": {
      "image/png": "[encoded data removed]",
      "text/plain": [
       "<Figure size 576x432 with 2 Axes>"
      ]
     },
     "metadata": {
      "needs_background": "light"
     },
     "output_type": "display_data"
    }
   ],
   "source": [
    "import seaborn as sns\n",
    "plt.figure(figsize=(8,6))\n",
    "sns.heatmap(clean_data_grp2[['temperature','hour',  'humidityAvg',\n",
    "       'windspeed', 'dewpt', 'heatindex', 'precipRate']].corr(),annot=True,cmap='coolwarm')\n"
   ]
  },
  {
   "cell_type": "code",
   "execution_count": null,
   "metadata": {},
   "outputs": [],
   "source": []
  },
  {
   "cell_type": "code",
   "execution_count": 245,
   "metadata": {},
   "outputs": [
    {
     "data": {
      "application/vnd.plotly.v1+json": {
       "config": {
        "plotlyServerURL": "https://plot.ly"
       },
       "data": [
        {
         "hovertemplate": "month=5<br>hour=%{x}<br>dewpt=%{y}<extra></extra>",
         "legendgroup": "5",
         "line": {
          "color": "#636efa",
          "dash": "solid"
         },
         "marker": {
          "symbol": "circle"
         },
         "mode": "lines",
         "name": "5",
         "orientation": "v",
         "showlegend": true,
         "type": "scatter",
         "x": [
          0,
          1,
          2,
          3,
          4,
          5,
          6,
          7,
          8,
          9,
          10,
          11,
          12,
          13,
          14,
          15,
          16,
          17,
          18,
          19,
          20,
          21,
          22,
          23
         ],
         "xaxis": "x",
         "y": [
          8.763865065751858,
          8.767745599091425,
          8.792090395480226,
          8.692523889825745,
          8.60345789180145,
          8.451986754966887,
          8.677156809549647,
          9.13441734417344,
          9.573045822102426,
          10.025862068965518,
          10.425417339795368,
          10.847282608695652,
          10.919870059556036,
          11.04395008138904,
          11.283540022547914,
          10.926615553121577,
          10.728665207877462,
          10.88398415393322,
          10.320218579234973,
          10.115217391304348,
          9.912261580381472,
          9.894825646794152,
          9.47052460789616,
          9.50867964229353
         ],
         "yaxis": "y"
        },
        {
         "hovertemplate": "month=6<br>hour=%{x}<br>dewpt=%{y}<extra></extra>",
         "legendgroup": "6",
         "line": {
          "color": "#EF553B",
          "dash": "solid"
         },
         "marker": {
          "symbol": "circle"
         },
         "mode": "lines",
         "name": "6",
         "orientation": "v",
         "showlegend": true,
         "type": "scatter",
         "x": [
          0,
          1,
          2,
          3,
          4,
          5,
          6,
          7,
          8,
          9,
          10,
          11,
          12,
          13,
          14,
          15,
          16,
          17,
          18,
          19,
          20,
          21,
          22,
          23
         ],
         "xaxis": "x",
         "y": [
          15.520096186877362,
          15.367101648351648,
          15.125941136208077,
          14.915980795610425,
          14.713942307692308,
          14.588961261570105,
          15.036935704514363,
          15.802182810368349,
          16.4093387866394,
          16.706122448979592,
          16.707425068119893,
          16.73054706082229,
          16.763283378746593,
          16.857629427792915,
          16.894486044928524,
          16.656696125084977,
          16.51393609789259,
          16.367291311754684,
          16.358895705521473,
          16.333219528849437,
          16.233526800955957,
          16.127130197682344,
          16.058703071672355,
          15.926762491444217
         ],
         "yaxis": "y"
        },
        {
         "hovertemplate": "month=7<br>hour=%{x}<br>dewpt=%{y}<extra></extra>",
         "legendgroup": "7",
         "line": {
          "color": "#00cc96",
          "dash": "solid"
         },
         "marker": {
          "symbol": "circle"
         },
         "mode": "lines",
         "name": "7",
         "orientation": "v",
         "showlegend": true,
         "type": "scatter",
         "x": [
          0,
          1,
          2,
          3,
          4,
          5,
          6,
          7,
          8,
          9,
          10,
          11,
          12,
          13,
          14,
          15,
          16,
          17,
          18,
          19,
          20,
          21,
          22,
          23
         ],
         "xaxis": "x",
         "y": [
          17.26683937823834,
          16.741496598639454,
          16.396820246593123,
          16.09291747888239,
          15.912536443148689,
          15.656846876011654,
          15.911650485436894,
          16.779321486268174,
          17.523042217209152,
          17.955426356589147,
          18.3997416855021,
          18.692084006462036,
          18.8656330749354,
          19.01161665053243,
          18.950418544752093,
          18.83580167417901,
          18.679768041237114,
          18.575757575757574,
          18.58059316569955,
          18.60510171133355,
          18.40129240710824,
          18.149967679379444,
          17.89679715302491,
          17.56579372777239
         ],
         "yaxis": "y"
        },
        {
         "hovertemplate": "month=8<br>hour=%{x}<br>dewpt=%{y}<extra></extra>",
         "legendgroup": "8",
         "line": {
          "color": "#ab63fa",
          "dash": "solid"
         },
         "marker": {
          "symbol": "circle"
         },
         "mode": "lines",
         "name": "8",
         "orientation": "v",
         "showlegend": true,
         "type": "scatter",
         "x": [
          0,
          1,
          2,
          3,
          4,
          5,
          6,
          7,
          8,
          9,
          10,
          11,
          12,
          13,
          14,
          15,
          16,
          17,
          18,
          19,
          20,
          21,
          22,
          23
         ],
         "xaxis": "x",
         "y": [
          17.489993328885923,
          17.121232417950434,
          16.75751503006012,
          16.488992661774518,
          16.282427475825276,
          16.085,
          16.08485856905158,
          17.01831501831502,
          18.138861138861138,
          19.027934818756236,
          19.383155792276963,
          19.502333333333333,
          19.65355118372791,
          19.613328822733422,
          19.596212377409536,
          19.600135089496792,
          19.585333333333335,
          19.412920412920414,
          19.11473229132025,
          18.918218085106382,
          18.743829219479654,
          18.52220367278798,
          18.173608797067644,
          17.789613848202396
         ],
         "yaxis": "y"
        }
       ],
       "layout": {
        "legend": {
         "title": {
          "text": "month"
         },
         "tracegroupgap": 0
        },
        "template": {
         "data": {
          "bar": [
           {
            "error_x": {
             "color": "#2a3f5f"
            },
            "error_y": {
             "color": "#2a3f5f"
            },
            "marker": {
             "line": {
              "color": "#E5ECF6",
              "width": 0.5
             },
             "pattern": {
              "fillmode": "overlay",
              "size": 10,
              "solidity": 0.2
             }
            },
            "type": "bar"
           }
          ],
          "barpolar": [
           {
            "marker": {
             "line": {
              "color": "#E5ECF6",
              "width": 0.5
             },
             "pattern": {
              "fillmode": "overlay",
              "size": 10,
              "solidity": 0.2
             }
            },
            "type": "barpolar"
           }
          ],
          "carpet": [
           {
            "aaxis": {
             "endlinecolor": "#2a3f5f",
             "gridcolor": "white",
             "linecolor": "white",
             "minorgridcolor": "white",
             "startlinecolor": "#2a3f5f"
            },
            "baxis": {
             "endlinecolor": "#2a3f5f",
             "gridcolor": "white",
             "linecolor": "white",
             "minorgridcolor": "white",
             "startlinecolor": "#2a3f5f"
            },
            "type": "carpet"
           }
          ],
          "choropleth": [
           {
            "colorbar": {
             "outlinewidth": 0,
             "ticks": ""
            },
            "type": "choropleth"
           }
          ],
          "contour": [
           {
            "colorbar": {
             "outlinewidth": 0,
             "ticks": ""
            },
            "colorscale": [
             [
              0,
              "#0d0887"
             ],
             [
              0.1111111111111111,
              "#46039f"
             ],
             [
              0.2222222222222222,
              "#7201a8"
             ],
             [
              0.3333333333333333,
              "#9c179e"
             ],
             [
              0.4444444444444444,
              "#bd3786"
             ],
             [
              0.5555555555555556,
              "#d8576b"
             ],
             [
              0.6666666666666666,
              "#ed7953"
             ],
             [
              0.7777777777777778,
              "#fb9f3a"
             ],
             [
              0.8888888888888888,
              "#fdca26"
             ],
             [
              1,
              "#f0f921"
             ]
            ],
            "type": "contour"
           }
          ],
          "contourcarpet": [
           {
            "colorbar": {
             "outlinewidth": 0,
             "ticks": ""
            },
            "type": "contourcarpet"
           }
          ],
          "heatmap": [
           {
            "colorbar": {
             "outlinewidth": 0,
             "ticks": ""
            },
            "colorscale": [
             [
              0,
              "#0d0887"
             ],
             [
              0.1111111111111111,
              "#46039f"
             ],
             [
              0.2222222222222222,
              "#7201a8"
             ],
             [
              0.3333333333333333,
              "#9c179e"
             ],
             [
              0.4444444444444444,
              "#bd3786"
             ],
             [
              0.5555555555555556,
              "#d8576b"
             ],
             [
              0.6666666666666666,
              "#ed7953"
             ],
             [
              0.7777777777777778,
              "#fb9f3a"
             ],
             [
              0.8888888888888888,
              "#fdca26"
             ],
             [
              1,
              "#f0f921"
             ]
            ],
            "type": "heatmap"
           }
          ],
          "heatmapgl": [
           {
            "colorbar": {
             "outlinewidth": 0,
             "ticks": ""
            },
            "colorscale": [
             [
              0,
              "#0d0887"
             ],
             [
              0.1111111111111111,
              "#46039f"
             ],
             [
              0.2222222222222222,
              "#7201a8"
             ],
             [
              0.3333333333333333,
              "#9c179e"
             ],
             [
              0.4444444444444444,
              "#bd3786"
             ],
             [
              0.5555555555555556,
              "#d8576b"
             ],
             [
              0.6666666666666666,
              "#ed7953"
             ],
             [
              0.7777777777777778,
              "#fb9f3a"
             ],
             [
              0.8888888888888888,
              "#fdca26"
             ],
             [
              1,
              "#f0f921"
             ]
            ],
            "type": "heatmapgl"
           }
          ],
          "histogram": [
           {
            "marker": {
             "pattern": {
              "fillmode": "overlay",
              "size": 10,
              "solidity": 0.2
             }
            },
            "type": "histogram"
           }
          ],
          "histogram2d": [
           {
            "colorbar": {
             "outlinewidth": 0,
             "ticks": ""
            },
            "colorscale": [
             [
              0,
              "#0d0887"
             ],
             [
              0.1111111111111111,
              "#46039f"
             ],
             [
              0.2222222222222222,
              "#7201a8"
             ],
             [
              0.3333333333333333,
              "#9c179e"
             ],
             [
              0.4444444444444444,
              "#bd3786"
             ],
             [
              0.5555555555555556,
              "#d8576b"
             ],
             [
              0.6666666666666666,
              "#ed7953"
             ],
             [
              0.7777777777777778,
              "#fb9f3a"
             ],
             [
              0.8888888888888888,
              "#fdca26"
             ],
             [
              1,
              "#f0f921"
             ]
            ],
            "type": "histogram2d"
           }
          ],
          "histogram2dcontour": [
           {
            "colorbar": {
             "outlinewidth": 0,
             "ticks": ""
            },
            "colorscale": [
             [
              0,
              "#0d0887"
             ],
             [
              0.1111111111111111,
              "#46039f"
             ],
             [
              0.2222222222222222,
              "#7201a8"
             ],
             [
              0.3333333333333333,
              "#9c179e"
             ],
             [
              0.4444444444444444,
              "#bd3786"
             ],
             [
              0.5555555555555556,
              "#d8576b"
             ],
             [
              0.6666666666666666,
              "#ed7953"
             ],
             [
              0.7777777777777778,
              "#fb9f3a"
             ],
             [
              0.8888888888888888,
              "#fdca26"
             ],
             [
              1,
              "#f0f921"
             ]
            ],
            "type": "histogram2dcontour"
           }
          ],
          "mesh3d": [
           {
            "colorbar": {
             "outlinewidth": 0,
             "ticks": ""
            },
            "type": "mesh3d"
           }
          ],
          "parcoords": [
           {
            "line": {
             "colorbar": {
              "outlinewidth": 0,
              "ticks": ""
             }
            },
            "type": "parcoords"
           }
          ],
          "pie": [
           {
            "automargin": true,
            "type": "pie"
           }
          ],
          "scatter": [
           {
            "marker": {
             "colorbar": {
              "outlinewidth": 0,
              "ticks": ""
             }
            },
            "type": "scatter"
           }
          ],
          "scatter3d": [
           {
            "line": {
             "colorbar": {
              "outlinewidth": 0,
              "ticks": ""
             }
            },
            "marker": {
             "colorbar": {
              "outlinewidth": 0,
              "ticks": ""
             }
            },
            "type": "scatter3d"
           }
          ],
          "scattercarpet": [
           {
            "marker": {
             "colorbar": {
              "outlinewidth": 0,
              "ticks": ""
             }
            },
            "type": "scattercarpet"
           }
          ],
          "scattergeo": [
           {
            "marker": {
             "colorbar": {
              "outlinewidth": 0,
              "ticks": ""
             }
            },
            "type": "scattergeo"
           }
          ],
          "scattergl": [
           {
            "marker": {
             "colorbar": {
              "outlinewidth": 0,
              "ticks": ""
             }
            },
            "type": "scattergl"
           }
          ],
          "scattermapbox": [
           {
            "marker": {
             "colorbar": {
              "outlinewidth": 0,
              "ticks": ""
             }
            },
            "type": "scattermapbox"
           }
          ],
          "scatterpolar": [
           {
            "marker": {
             "colorbar": {
              "outlinewidth": 0,
              "ticks": ""
             }
            },
            "type": "scatterpolar"
           }
          ],
          "scatterpolargl": [
           {
            "marker": {
             "colorbar": {
              "outlinewidth": 0,
              "ticks": ""
             }
            },
            "type": "scatterpolargl"
           }
          ],
          "scatterternary": [
           {
            "marker": {
             "colorbar": {
              "outlinewidth": 0,
              "ticks": ""
             }
            },
            "type": "scatterternary"
           }
          ],
          "surface": [
           {
            "colorbar": {
             "outlinewidth": 0,
             "ticks": ""
            },
            "colorscale": [
             [
              0,
              "#0d0887"
             ],
             [
              0.1111111111111111,
              "#46039f"
             ],
             [
              0.2222222222222222,
              "#7201a8"
             ],
             [
              0.3333333333333333,
              "#9c179e"
             ],
             [
              0.4444444444444444,
              "#bd3786"
             ],
             [
              0.5555555555555556,
              "#d8576b"
             ],
             [
              0.6666666666666666,
              "#ed7953"
             ],
             [
              0.7777777777777778,
              "#fb9f3a"
             ],
             [
              0.8888888888888888,
              "#fdca26"
             ],
             [
              1,
              "#f0f921"
             ]
            ],
            "type": "surface"
           }
          ],
          "table": [
           {
            "cells": {
             "fill": {
              "color": "#EBF0F8"
             },
             "line": {
              "color": "white"
             }
            },
            "header": {
             "fill": {
              "color": "#C8D4E3"
             },
             "line": {
              "color": "white"
             }
            },
            "type": "table"
           }
          ]
         },
         "layout": {
          "annotationdefaults": {
           "arrowcolor": "#2a3f5f",
           "arrowhead": 0,
           "arrowwidth": 1
          },
          "autotypenumbers": "strict",
          "coloraxis": {
           "colorbar": {
            "outlinewidth": 0,
            "ticks": ""
           }
          },
          "colorscale": {
           "diverging": [
            [
             0,
             "#8e0152"
            ],
            [
             0.1,
             "#c51b7d"
            ],
            [
             0.2,
             "#de77ae"
            ],
            [
             0.3,
             "#f1b6da"
            ],
            [
             0.4,
             "#fde0ef"
            ],
            [
             0.5,
             "#f7f7f7"
            ],
            [
             0.6,
             "#e6f5d0"
            ],
            [
             0.7,
             "#b8e186"
            ],
            [
             0.8,
             "#7fbc41"
            ],
            [
             0.9,
             "#4d9221"
            ],
            [
             1,
             "#276419"
            ]
           ],
           "sequential": [
            [
             0,
             "#0d0887"
            ],
            [
             0.1111111111111111,
             "#46039f"
            ],
            [
             0.2222222222222222,
             "#7201a8"
            ],
            [
             0.3333333333333333,
             "#9c179e"
            ],
            [
             0.4444444444444444,
             "#bd3786"
            ],
            [
             0.5555555555555556,
             "#d8576b"
            ],
            [
             0.6666666666666666,
             "#ed7953"
            ],
            [
             0.7777777777777778,
             "#fb9f3a"
            ],
            [
             0.8888888888888888,
             "#fdca26"
            ],
            [
             1,
             "#f0f921"
            ]
           ],
           "sequentialminus": [
            [
             0,
             "#0d0887"
            ],
            [
             0.1111111111111111,
             "#46039f"
            ],
            [
             0.2222222222222222,
             "#7201a8"
            ],
            [
             0.3333333333333333,
             "#9c179e"
            ],
            [
             0.4444444444444444,
             "#bd3786"
            ],
            [
             0.5555555555555556,
             "#d8576b"
            ],
            [
             0.6666666666666666,
             "#ed7953"
            ],
            [
             0.7777777777777778,
             "#fb9f3a"
            ],
            [
             0.8888888888888888,
             "#fdca26"
            ],
            [
             1,
             "#f0f921"
            ]
           ]
          },
          "colorway": [
           "#636efa",
           "#EF553B",
           "#00cc96",
           "#ab63fa",
           "#FFA15A",
           "#19d3f3",
           "#FF6692",
           "#B6E880",
           "#FF97FF",
           "#FECB52"
          ],
          "font": {
           "color": "#2a3f5f"
          },
          "geo": {
           "bgcolor": "white",
           "lakecolor": "white",
           "landcolor": "#E5ECF6",
           "showlakes": true,
           "showland": true,
           "subunitcolor": "white"
          },
          "hoverlabel": {
           "align": "left"
          },
          "hovermode": "closest",
          "mapbox": {
           "style": "light"
          },
          "paper_bgcolor": "white",
          "plot_bgcolor": "#E5ECF6",
          "polar": {
           "angularaxis": {
            "gridcolor": "white",
            "linecolor": "white",
            "ticks": ""
           },
           "bgcolor": "#E5ECF6",
           "radialaxis": {
            "gridcolor": "white",
            "linecolor": "white",
            "ticks": ""
           }
          },
          "scene": {
           "xaxis": {
            "backgroundcolor": "#E5ECF6",
            "gridcolor": "white",
            "gridwidth": 2,
            "linecolor": "white",
            "showbackground": true,
            "ticks": "",
            "zerolinecolor": "white"
           },
           "yaxis": {
            "backgroundcolor": "#E5ECF6",
            "gridcolor": "white",
            "gridwidth": 2,
            "linecolor": "white",
            "showbackground": true,
            "ticks": "",
            "zerolinecolor": "white"
           },
           "zaxis": {
            "backgroundcolor": "#E5ECF6",
            "gridcolor": "white",
            "gridwidth": 2,
            "linecolor": "white",
            "showbackground": true,
            "ticks": "",
            "zerolinecolor": "white"
           }
          },
          "shapedefaults": {
           "line": {
            "color": "#2a3f5f"
           }
          },
          "ternary": {
           "aaxis": {
            "gridcolor": "white",
            "linecolor": "white",
            "ticks": ""
           },
           "baxis": {
            "gridcolor": "white",
            "linecolor": "white",
            "ticks": ""
           },
           "bgcolor": "#E5ECF6",
           "caxis": {
            "gridcolor": "white",
            "linecolor": "white",
            "ticks": ""
           }
          },
          "title": {
           "x": 0.05
          },
          "xaxis": {
           "automargin": true,
           "gridcolor": "white",
           "linecolor": "white",
           "ticks": "",
           "title": {
            "standoff": 15
           },
           "zerolinecolor": "white",
           "zerolinewidth": 2
          },
          "yaxis": {
           "automargin": true,
           "gridcolor": "white",
           "linecolor": "white",
           "ticks": "",
           "title": {
            "standoff": 15
           },
           "zerolinecolor": "white",
           "zerolinewidth": 2
          }
         }
        },
        "title": {
         "text": "dewpt Pattern for Normal Stations"
        },
        "xaxis": {
         "anchor": "y",
         "domain": [
          0,
          1
         ],
         "title": {
          "text": "hour"
         }
        },
        "yaxis": {
         "anchor": "x",
         "domain": [
          0,
          1
         ],
         "title": {
          "text": "dewpt"
         }
        }
       }
      }
     },
     "metadata": {},
     "output_type": "display_data"
    },
    {
     "data": {
      "application/vnd.plotly.v1+json": {
       "config": {
        "plotlyServerURL": "https://plot.ly"
       },
       "data": [
        {
         "hovertemplate": "month=5<br>hour=%{x}<br>heatindex=%{y}<extra></extra>",
         "legendgroup": "5",
         "line": {
          "color": "#636efa",
          "dash": "solid"
         },
         "marker": {
          "symbol": "circle"
         },
         "mode": "lines",
         "name": "5",
         "orientation": "v",
         "showlegend": true,
         "type": "scatter",
         "x": [
          0,
          1,
          2,
          3,
          4,
          5,
          6,
          7,
          8,
          9,
          10,
          11,
          12,
          13,
          14,
          15,
          16,
          17,
          18,
          19,
          20,
          21,
          22,
          23
         ],
         "xaxis": "x",
         "y": [
          13.425736961451246,
          13.06981981981982,
          12.824089635854342,
          12.478260869565217,
          12.14262023217247,
          11.921729611384784,
          12.58719052744887,
          13.958602150537635,
          15.485026737967914,
          16.769764957264957,
          18.008008542445275,
          19.295258620689655,
          20.269994632313473,
          20.980096826250673,
          21.56927374301676,
          21.56514657980456,
          21.272234273318873,
          21.236812570145904,
          20.256910569105692,
          19.09757412398922,
          17.646486486486488,
          16.489409141583053,
          15.264879356568365,
          14.388628064684402
         ],
         "yaxis": "y"
        },
        {
         "hovertemplate": "month=6<br>hour=%{x}<br>heatindex=%{y}<extra></extra>",
         "legendgroup": "6",
         "line": {
          "color": "#EF553B",
          "dash": "solid"
         },
         "marker": {
          "symbol": "circle"
         },
         "mode": "lines",
         "name": "6",
         "orientation": "v",
         "showlegend": true,
         "type": "scatter",
         "x": [
          0,
          1,
          2,
          3,
          4,
          5,
          6,
          7,
          8,
          9,
          10,
          11,
          12,
          13,
          14,
          15,
          16,
          17,
          18,
          19,
          20,
          21,
          22,
          23
         ],
         "xaxis": "x",
         "y": [
          20.68641470888662,
          20.138189244383934,
          19.392263318629116,
          18.755865351921116,
          18.41164453524004,
          18.16281441196465,
          19.319322033898306,
          20.983772819472616,
          22.9027027027027,
          24.87491571139582,
          26.525143435707054,
          27.567003367003366,
          28.31724603442457,
          29.15288558893014,
          29.632715008431703,
          29.512630515325025,
          28.97979117547996,
          28.49729912221472,
          27.766036461850103,
          26.640730717185384,
          25.110960757780784,
          23.269165822357312,
          22.100439634764964,
          21.377076975245846
         ],
         "yaxis": "y"
        },
        {
         "hovertemplate": "month=7<br>hour=%{x}<br>heatindex=%{y}<extra></extra>",
         "legendgroup": "7",
         "line": {
          "color": "#00cc96",
          "dash": "solid"
         },
         "marker": {
          "symbol": "circle"
         },
         "mode": "lines",
         "name": "7",
         "orientation": "v",
         "showlegend": true,
         "type": "scatter",
         "x": [
          0,
          1,
          2,
          3,
          4,
          5,
          6,
          7,
          8,
          9,
          10,
          11,
          12,
          13,
          14,
          15,
          16,
          17,
          18,
          19,
          20,
          21,
          22,
          23
         ],
         "xaxis": "x",
         "y": [
          20.51779416479641,
          19.71520205259782,
          19.032123353678124,
          18.56288195561274,
          18.27902501603592,
          18.048397435897435,
          18.787568087151556,
          20.493921944977608,
          22.360561582641992,
          24.150943396226417,
          25.777813299232736,
          27.379078694817657,
          28.56699712184202,
          29.24153354632588,
          29.642333439591965,
          29.751992349378387,
          29.515470494417862,
          29.111394829237152,
          28.2020427705075,
          27.02269820971867,
          25.21625079974408,
          23.16896,
          22.007046764894298,
          21.14212548015365
         ],
         "yaxis": "y"
        },
        {
         "hovertemplate": "month=8<br>hour=%{x}<br>heatindex=%{y}<extra></extra>",
         "legendgroup": "8",
         "line": {
          "color": "#ab63fa",
          "dash": "solid"
         },
         "marker": {
          "symbol": "circle"
         },
         "mode": "lines",
         "name": "8",
         "orientation": "v",
         "showlegend": true,
         "type": "scatter",
         "x": [
          0,
          1,
          2,
          3,
          4,
          5,
          6,
          7,
          8,
          9,
          10,
          11,
          12,
          13,
          14,
          15,
          16,
          17,
          18,
          19,
          20,
          21,
          22,
          23
         ],
         "xaxis": "x",
         "y": [
          20.656322218553978,
          20.01126947298641,
          19.421157024793388,
          18.926378342687357,
          18.534983498349835,
          18.268228307489277,
          18.417654808959156,
          20.299703264094955,
          22.744393139841687,
          24.984514003294894,
          27.137771918259723,
          29.059386341141536,
          30.684262619597494,
          31.64247491638796,
          31.70792907326865,
          31.496825927163382,
          30.992411745298583,
          30.35497692814766,
          28.8923988153998,
          27.025995393221454,
          24.728293166061405,
          23.154329147389294,
          22.100923482849606,
          21.322570016474465
         ],
         "yaxis": "y"
        }
       ],
       "layout": {
        "legend": {
         "title": {
          "text": "month"
         },
         "tracegroupgap": 0
        },
        "template": {
         "data": {
          "bar": [
           {
            "error_x": {
             "color": "#2a3f5f"
            },
            "error_y": {
             "color": "#2a3f5f"
            },
            "marker": {
             "line": {
              "color": "#E5ECF6",
              "width": 0.5
             },
             "pattern": {
              "fillmode": "overlay",
              "size": 10,
              "solidity": 0.2
             }
            },
            "type": "bar"
           }
          ],
          "barpolar": [
           {
            "marker": {
             "line": {
              "color": "#E5ECF6",
              "width": 0.5
             },
             "pattern": {
              "fillmode": "overlay",
              "size": 10,
              "solidity": 0.2
             }
            },
            "type": "barpolar"
           }
          ],
          "carpet": [
           {
            "aaxis": {
             "endlinecolor": "#2a3f5f",
             "gridcolor": "white",
             "linecolor": "white",
             "minorgridcolor": "white",
             "startlinecolor": "#2a3f5f"
            },
            "baxis": {
             "endlinecolor": "#2a3f5f",
             "gridcolor": "white",
             "linecolor": "white",
             "minorgridcolor": "white",
             "startlinecolor": "#2a3f5f"
            },
            "type": "carpet"
           }
          ],
          "choropleth": [
           {
            "colorbar": {
             "outlinewidth": 0,
             "ticks": ""
            },
            "type": "choropleth"
           }
          ],
          "contour": [
           {
            "colorbar": {
             "outlinewidth": 0,
             "ticks": ""
            },
            "colorscale": [
             [
              0,
              "#0d0887"
             ],
             [
              0.1111111111111111,
              "#46039f"
             ],
             [
              0.2222222222222222,
              "#7201a8"
             ],
             [
              0.3333333333333333,
              "#9c179e"
             ],
             [
              0.4444444444444444,
              "#bd3786"
             ],
             [
              0.5555555555555556,
              "#d8576b"
             ],
             [
              0.6666666666666666,
              "#ed7953"
             ],
             [
              0.7777777777777778,
              "#fb9f3a"
             ],
             [
              0.8888888888888888,
              "#fdca26"
             ],
             [
              1,
              "#f0f921"
             ]
            ],
            "type": "contour"
           }
          ],
          "contourcarpet": [
           {
            "colorbar": {
             "outlinewidth": 0,
             "ticks": ""
            },
            "type": "contourcarpet"
           }
          ],
          "heatmap": [
           {
            "colorbar": {
             "outlinewidth": 0,
             "ticks": ""
            },
            "colorscale": [
             [
              0,
              "#0d0887"
             ],
             [
              0.1111111111111111,
              "#46039f"
             ],
             [
              0.2222222222222222,
              "#7201a8"
             ],
             [
              0.3333333333333333,
              "#9c179e"
             ],
             [
              0.4444444444444444,
              "#bd3786"
             ],
             [
              0.5555555555555556,
              "#d8576b"
             ],
             [
              0.6666666666666666,
              "#ed7953"
             ],
             [
              0.7777777777777778,
              "#fb9f3a"
             ],
             [
              0.8888888888888888,
              "#fdca26"
             ],
             [
              1,
              "#f0f921"
             ]
            ],
            "type": "heatmap"
           }
          ],
          "heatmapgl": [
           {
            "colorbar": {
             "outlinewidth": 0,
             "ticks": ""
            },
            "colorscale": [
             [
              0,
              "#0d0887"
             ],
             [
              0.1111111111111111,
              "#46039f"
             ],
             [
              0.2222222222222222,
              "#7201a8"
             ],
             [
              0.3333333333333333,
              "#9c179e"
             ],
             [
              0.4444444444444444,
              "#bd3786"
             ],
             [
              0.5555555555555556,
              "#d8576b"
             ],
             [
              0.6666666666666666,
              "#ed7953"
             ],
             [
              0.7777777777777778,
              "#fb9f3a"
             ],
             [
              0.8888888888888888,
              "#fdca26"
             ],
             [
              1,
              "#f0f921"
             ]
            ],
            "type": "heatmapgl"
           }
          ],
          "histogram": [
           {
            "marker": {
             "pattern": {
              "fillmode": "overlay",
              "size": 10,
              "solidity": 0.2
             }
            },
            "type": "histogram"
           }
          ],
          "histogram2d": [
           {
            "colorbar": {
             "outlinewidth": 0,
             "ticks": ""
            },
            "colorscale": [
             [
              0,
              "#0d0887"
             ],
             [
              0.1111111111111111,
              "#46039f"
             ],
             [
              0.2222222222222222,
              "#7201a8"
             ],
             [
              0.3333333333333333,
              "#9c179e"
             ],
             [
              0.4444444444444444,
              "#bd3786"
             ],
             [
              0.5555555555555556,
              "#d8576b"
             ],
             [
              0.6666666666666666,
              "#ed7953"
             ],
             [
              0.7777777777777778,
              "#fb9f3a"
             ],
             [
              0.8888888888888888,
              "#fdca26"
             ],
             [
              1,
              "#f0f921"
             ]
            ],
            "type": "histogram2d"
           }
          ],
          "histogram2dcontour": [
           {
            "colorbar": {
             "outlinewidth": 0,
             "ticks": ""
            },
            "colorscale": [
             [
              0,
              "#0d0887"
             ],
             [
              0.1111111111111111,
              "#46039f"
             ],
             [
              0.2222222222222222,
              "#7201a8"
             ],
             [
              0.3333333333333333,
              "#9c179e"
             ],
             [
              0.4444444444444444,
              "#bd3786"
             ],
             [
              0.5555555555555556,
              "#d8576b"
             ],
             [
              0.6666666666666666,
              "#ed7953"
             ],
             [
              0.7777777777777778,
              "#fb9f3a"
             ],
             [
              0.8888888888888888,
              "#fdca26"
             ],
             [
              1,
              "#f0f921"
             ]
            ],
            "type": "histogram2dcontour"
           }
          ],
          "mesh3d": [
           {
            "colorbar": {
             "outlinewidth": 0,
             "ticks": ""
            },
            "type": "mesh3d"
           }
          ],
          "parcoords": [
           {
            "line": {
             "colorbar": {
              "outlinewidth": 0,
              "ticks": ""
             }
            },
            "type": "parcoords"
           }
          ],
          "pie": [
           {
            "automargin": true,
            "type": "pie"
           }
          ],
          "scatter": [
           {
            "marker": {
             "colorbar": {
              "outlinewidth": 0,
              "ticks": ""
             }
            },
            "type": "scatter"
           }
          ],
          "scatter3d": [
           {
            "line": {
             "colorbar": {
              "outlinewidth": 0,
              "ticks": ""
             }
            },
            "marker": {
             "colorbar": {
              "outlinewidth": 0,
              "ticks": ""
             }
            },
            "type": "scatter3d"
           }
          ],
          "scattercarpet": [
           {
            "marker": {
             "colorbar": {
              "outlinewidth": 0,
              "ticks": ""
             }
            },
            "type": "scattercarpet"
           }
          ],
          "scattergeo": [
           {
            "marker": {
             "colorbar": {
              "outlinewidth": 0,
              "ticks": ""
             }
            },
            "type": "scattergeo"
           }
          ],
          "scattergl": [
           {
            "marker": {
             "colorbar": {
              "outlinewidth": 0,
              "ticks": ""
             }
            },
            "type": "scattergl"
           }
          ],
          "scattermapbox": [
           {
            "marker": {
             "colorbar": {
              "outlinewidth": 0,
              "ticks": ""
             }
            },
            "type": "scattermapbox"
           }
          ],
          "scatterpolar": [
           {
            "marker": {
             "colorbar": {
              "outlinewidth": 0,
              "ticks": ""
             }
            },
            "type": "scatterpolar"
           }
          ],
          "scatterpolargl": [
           {
            "marker": {
             "colorbar": {
              "outlinewidth": 0,
              "ticks": ""
             }
            },
            "type": "scatterpolargl"
           }
          ],
          "scatterternary": [
           {
            "marker": {
             "colorbar": {
              "outlinewidth": 0,
              "ticks": ""
             }
            },
            "type": "scatterternary"
           }
          ],
          "surface": [
           {
            "colorbar": {
             "outlinewidth": 0,
             "ticks": ""
            },
            "colorscale": [
             [
              0,
              "#0d0887"
             ],
             [
              0.1111111111111111,
              "#46039f"
             ],
             [
              0.2222222222222222,
              "#7201a8"
             ],
             [
              0.3333333333333333,
              "#9c179e"
             ],
             [
              0.4444444444444444,
              "#bd3786"
             ],
             [
              0.5555555555555556,
              "#d8576b"
             ],
             [
              0.6666666666666666,
              "#ed7953"
             ],
             [
              0.7777777777777778,
              "#fb9f3a"
             ],
             [
              0.8888888888888888,
              "#fdca26"
             ],
             [
              1,
              "#f0f921"
             ]
            ],
            "type": "surface"
           }
          ],
          "table": [
           {
            "cells": {
             "fill": {
              "color": "#EBF0F8"
             },
             "line": {
              "color": "white"
             }
            },
            "header": {
             "fill": {
              "color": "#C8D4E3"
             },
             "line": {
              "color": "white"
             }
            },
            "type": "table"
           }
          ]
         },
         "layout": {
          "annotationdefaults": {
           "arrowcolor": "#2a3f5f",
           "arrowhead": 0,
           "arrowwidth": 1
          },
          "autotypenumbers": "strict",
          "coloraxis": {
           "colorbar": {
            "outlinewidth": 0,
            "ticks": ""
           }
          },
          "colorscale": {
           "diverging": [
            [
             0,
             "#8e0152"
            ],
            [
             0.1,
             "#c51b7d"
            ],
            [
             0.2,
             "#de77ae"
            ],
            [
             0.3,
             "#f1b6da"
            ],
            [
             0.4,
             "#fde0ef"
            ],
            [
             0.5,
             "#f7f7f7"
            ],
            [
             0.6,
             "#e6f5d0"
            ],
            [
             0.7,
             "#b8e186"
            ],
            [
             0.8,
             "#7fbc41"
            ],
            [
             0.9,
             "#4d9221"
            ],
            [
             1,
             "#276419"
            ]
           ],
           "sequential": [
            [
             0,
             "#0d0887"
            ],
            [
             0.1111111111111111,
             "#46039f"
            ],
            [
             0.2222222222222222,
             "#7201a8"
            ],
            [
             0.3333333333333333,
             "#9c179e"
            ],
            [
             0.4444444444444444,
             "#bd3786"
            ],
            [
             0.5555555555555556,
             "#d8576b"
            ],
            [
             0.6666666666666666,
             "#ed7953"
            ],
            [
             0.7777777777777778,
             "#fb9f3a"
            ],
            [
             0.8888888888888888,
             "#fdca26"
            ],
            [
             1,
             "#f0f921"
            ]
           ],
           "sequentialminus": [
            [
             0,
             "#0d0887"
            ],
            [
             0.1111111111111111,
             "#46039f"
            ],
            [
             0.2222222222222222,
             "#7201a8"
            ],
            [
             0.3333333333333333,
             "#9c179e"
            ],
            [
             0.4444444444444444,
             "#bd3786"
            ],
            [
             0.5555555555555556,
             "#d8576b"
            ],
            [
             0.6666666666666666,
             "#ed7953"
            ],
            [
             0.7777777777777778,
             "#fb9f3a"
            ],
            [
             0.8888888888888888,
             "#fdca26"
            ],
            [
             1,
             "#f0f921"
            ]
           ]
          },
          "colorway": [
           "#636efa",
           "#EF553B",
           "#00cc96",
           "#ab63fa",
           "#FFA15A",
           "#19d3f3",
           "#FF6692",
           "#B6E880",
           "#FF97FF",
           "#FECB52"
          ],
          "font": {
           "color": "#2a3f5f"
          },
          "geo": {
           "bgcolor": "white",
           "lakecolor": "white",
           "landcolor": "#E5ECF6",
           "showlakes": true,
           "showland": true,
           "subunitcolor": "white"
          },
          "hoverlabel": {
           "align": "left"
          },
          "hovermode": "closest",
          "mapbox": {
           "style": "light"
          },
          "paper_bgcolor": "white",
          "plot_bgcolor": "#E5ECF6",
          "polar": {
           "angularaxis": {
            "gridcolor": "white",
            "linecolor": "white",
            "ticks": ""
           },
           "bgcolor": "#E5ECF6",
           "radialaxis": {
            "gridcolor": "white",
            "linecolor": "white",
            "ticks": ""
           }
          },
          "scene": {
           "xaxis": {
            "backgroundcolor": "#E5ECF6",
            "gridcolor": "white",
            "gridwidth": 2,
            "linecolor": "white",
            "showbackground": true,
            "ticks": "",
            "zerolinecolor": "white"
           },
           "yaxis": {
            "backgroundcolor": "#E5ECF6",
            "gridcolor": "white",
            "gridwidth": 2,
            "linecolor": "white",
            "showbackground": true,
            "ticks": "",
            "zerolinecolor": "white"
           },
           "zaxis": {
            "backgroundcolor": "#E5ECF6",
            "gridcolor": "white",
            "gridwidth": 2,
            "linecolor": "white",
            "showbackground": true,
            "ticks": "",
            "zerolinecolor": "white"
           }
          },
          "shapedefaults": {
           "line": {
            "color": "#2a3f5f"
           }
          },
          "ternary": {
           "aaxis": {
            "gridcolor": "white",
            "linecolor": "white",
            "ticks": ""
           },
           "baxis": {
            "gridcolor": "white",
            "linecolor": "white",
            "ticks": ""
           },
           "bgcolor": "#E5ECF6",
           "caxis": {
            "gridcolor": "white",
            "linecolor": "white",
            "ticks": ""
           }
          },
          "title": {
           "x": 0.05
          },
          "xaxis": {
           "automargin": true,
           "gridcolor": "white",
           "linecolor": "white",
           "ticks": "",
           "title": {
            "standoff": 15
           },
           "zerolinecolor": "white",
           "zerolinewidth": 2
          },
          "yaxis": {
           "automargin": true,
           "gridcolor": "white",
           "linecolor": "white",
           "ticks": "",
           "title": {
            "standoff": 15
           },
           "zerolinecolor": "white",
           "zerolinewidth": 2
          }
         }
        },
        "title": {
         "text": "heatindex Pattern for Normal Stations"
        },
        "xaxis": {
         "anchor": "y",
         "domain": [
          0,
          1
         ],
         "title": {
          "text": "hour"
         }
        },
        "yaxis": {
         "anchor": "x",
         "domain": [
          0,
          1
         ],
         "title": {
          "text": "heatindex"
         }
        }
       }
      }
     },
     "metadata": {},
     "output_type": "display_data"
    },
    {
     "data": {
      "application/vnd.plotly.v1+json": {
       "config": {
        "plotlyServerURL": "https://plot.ly"
       },
       "data": [
        {
         "hovertemplate": "month=5<br>hour=%{x}<br>precipRate=%{y}<extra></extra>",
         "legendgroup": "5",
         "line": {
          "color": "#636efa",
          "dash": "solid"
         },
         "marker": {
          "symbol": "circle"
         },
         "mode": "lines",
         "name": "5",
         "orientation": "v",
         "showlegend": true,
         "type": "scatter",
         "x": [
          0,
          1,
          2,
          3,
          4,
          5,
          6,
          7,
          8,
          9,
          10,
          11,
          12,
          13,
          14,
          15,
          16,
          17,
          18,
          19,
          20,
          21,
          22,
          23
         ],
         "xaxis": "x",
         "y": [
          0.16947836395969176,
          0.1104,
          0.15857811585722645,
          0.20414194299011054,
          0.28367995378393995,
          0.3309324942791762,
          0.3562464828362409,
          0.39632733408323956,
          0.40783314669652854,
          0.5128483491885842,
          0.7410602678571429,
          0.9216263365222285,
          1.1216956765861876,
          1.3397078651685392,
          1.3156275539988325,
          2.160953461975028,
          3.3765042492917847,
          3.8366725352112674,
          3.996534316505956,
          4.155795711060948,
          4.198382352941176,
          4.062807939287799,
          4.177600896860986,
          4.10236943375481
         ],
         "yaxis": "y"
        },
        {
         "hovertemplate": "month=6<br>hour=%{x}<br>precipRate=%{y}<extra></extra>",
         "legendgroup": "6",
         "line": {
          "color": "#EF553B",
          "dash": "solid"
         },
         "marker": {
          "symbol": "circle"
         },
         "mode": "lines",
         "name": "6",
         "orientation": "v",
         "showlegend": true,
         "type": "scatter",
         "x": [
          0,
          1,
          2,
          3,
          4,
          5,
          6,
          7,
          8,
          9,
          10,
          11,
          12,
          13,
          14,
          15,
          16,
          17,
          18,
          19,
          20,
          21,
          22,
          23
         ],
         "xaxis": "x",
         "y": [
          0.04626114876917588,
          0.18497860199714697,
          1.1517057569296376,
          1.674880740477038,
          2.066607270135424,
          2.139402560455192,
          2.1333960923623447,
          2.143789436370082,
          2.1911583421891607,
          2.3821420996818663,
          2.664322603466572,
          2.8404909925821267,
          2.9609206798866854,
          3.0435575221238937,
          3.2462964273081005,
          3.494718981972428,
          3.6081718528995754,
          3.7557390996100675,
          3.793284904323175,
          3.8588707386363637,
          4.010582179623713,
          4.0654870704923844,
          4.09760453579022,
          4.087698384201077
         ],
         "yaxis": "y"
        },
        {
         "hovertemplate": "month=7<br>hour=%{x}<br>precipRate=%{y}<extra></extra>",
         "legendgroup": "7",
         "line": {
          "color": "#00cc96",
          "dash": "solid"
         },
         "marker": {
          "symbol": "circle"
         },
         "mode": "lines",
         "name": "7",
         "orientation": "v",
         "showlegend": true,
         "type": "scatter",
         "x": [
          0,
          1,
          2,
          3,
          4,
          5,
          6,
          7,
          8,
          9,
          10,
          11,
          12,
          13,
          14,
          15,
          16,
          17,
          18,
          19,
          20,
          21,
          22,
          23
         ],
         "xaxis": "x",
         "y": [
          0.20292748735244517,
          0.41062078272604585,
          0.6849932386747802,
          0.6966858496953284,
          0.7005906176172797,
          0.718186109238031,
          0.720148347943358,
          0.7243655334904073,
          0.7278113460892918,
          0.7856729475100942,
          1.0753758389261745,
          1.3136491935483872,
          1.5101646505376345,
          1.6548891873740765,
          2.1172520107238606,
          2.3642278056951427,
          2.509718215363972,
          2.6569375419744796,
          2.677797179314976,
          2.7412344433232425,
          2.7841400201952204,
          2.837811447811448,
          2.960711156049882,
          2.968226902173913
         ],
         "yaxis": "y"
        },
        {
         "hovertemplate": "month=8<br>hour=%{x}<br>precipRate=%{y}<extra></extra>",
         "legendgroup": "8",
         "line": {
          "color": "#ab63fa",
          "dash": "solid"
         },
         "marker": {
          "symbol": "circle"
         },
         "mode": "lines",
         "name": "8",
         "orientation": "v",
         "showlegend": true,
         "type": "scatter",
         "x": [
          0,
          1,
          2,
          3,
          4,
          5,
          6,
          7,
          8,
          9,
          10,
          11,
          12,
          13,
          14,
          15,
          16,
          17,
          18,
          19,
          20,
          21,
          22,
          23
         ],
         "xaxis": "x",
         "y": [
          0.11700866551126517,
          0.03552,
          0.05098161637183489,
          0.07029778393351802,
          0.21545706371191137,
          0.23136725510557285,
          0.6343933632907017,
          1.106325259515571,
          1.4220353063343718,
          1.5565330107155202,
          1.8131304047042547,
          2.1742763385146806,
          2.420363070539419,
          2.6696770796770797,
          2.9458631578947365,
          3.2048458304134546,
          3.2928526863084917,
          3.356276411499827,
          4.435209270148738,
          4.522248356969906,
          4.531064862989941,
          4.624033321763276,
          4.79119459833795,
          4.727435450104675
         ],
         "yaxis": "y"
        }
       ],
       "layout": {
        "legend": {
         "title": {
          "text": "month"
         },
         "tracegroupgap": 0
        },
        "template": {
         "data": {
          "bar": [
           {
            "error_x": {
             "color": "#2a3f5f"
            },
            "error_y": {
             "color": "#2a3f5f"
            },
            "marker": {
             "line": {
              "color": "#E5ECF6",
              "width": 0.5
             },
             "pattern": {
              "fillmode": "overlay",
              "size": 10,
              "solidity": 0.2
             }
            },
            "type": "bar"
           }
          ],
          "barpolar": [
           {
            "marker": {
             "line": {
              "color": "#E5ECF6",
              "width": 0.5
             },
             "pattern": {
              "fillmode": "overlay",
              "size": 10,
              "solidity": 0.2
             }
            },
            "type": "barpolar"
           }
          ],
          "carpet": [
           {
            "aaxis": {
             "endlinecolor": "#2a3f5f",
             "gridcolor": "white",
             "linecolor": "white",
             "minorgridcolor": "white",
             "startlinecolor": "#2a3f5f"
            },
            "baxis": {
             "endlinecolor": "#2a3f5f",
             "gridcolor": "white",
             "linecolor": "white",
             "minorgridcolor": "white",
             "startlinecolor": "#2a3f5f"
            },
            "type": "carpet"
           }
          ],
          "choropleth": [
           {
            "colorbar": {
             "outlinewidth": 0,
             "ticks": ""
            },
            "type": "choropleth"
           }
          ],
          "contour": [
           {
            "colorbar": {
             "outlinewidth": 0,
             "ticks": ""
            },
            "colorscale": [
             [
              0,
              "#0d0887"
             ],
             [
              0.1111111111111111,
              "#46039f"
             ],
             [
              0.2222222222222222,
              "#7201a8"
             ],
             [
              0.3333333333333333,
              "#9c179e"
             ],
             [
              0.4444444444444444,
              "#bd3786"
             ],
             [
              0.5555555555555556,
              "#d8576b"
             ],
             [
              0.6666666666666666,
              "#ed7953"
             ],
             [
              0.7777777777777778,
              "#fb9f3a"
             ],
             [
              0.8888888888888888,
              "#fdca26"
             ],
             [
              1,
              "#f0f921"
             ]
            ],
            "type": "contour"
           }
          ],
          "contourcarpet": [
           {
            "colorbar": {
             "outlinewidth": 0,
             "ticks": ""
            },
            "type": "contourcarpet"
           }
          ],
          "heatmap": [
           {
            "colorbar": {
             "outlinewidth": 0,
             "ticks": ""
            },
            "colorscale": [
             [
              0,
              "#0d0887"
             ],
             [
              0.1111111111111111,
              "#46039f"
             ],
             [
              0.2222222222222222,
              "#7201a8"
             ],
             [
              0.3333333333333333,
              "#9c179e"
             ],
             [
              0.4444444444444444,
              "#bd3786"
             ],
             [
              0.5555555555555556,
              "#d8576b"
             ],
             [
              0.6666666666666666,
              "#ed7953"
             ],
             [
              0.7777777777777778,
              "#fb9f3a"
             ],
             [
              0.8888888888888888,
              "#fdca26"
             ],
             [
              1,
              "#f0f921"
             ]
            ],
            "type": "heatmap"
           }
          ],
          "heatmapgl": [
           {
            "colorbar": {
             "outlinewidth": 0,
             "ticks": ""
            },
            "colorscale": [
             [
              0,
              "#0d0887"
             ],
             [
              0.1111111111111111,
              "#46039f"
             ],
             [
              0.2222222222222222,
              "#7201a8"
             ],
             [
              0.3333333333333333,
              "#9c179e"
             ],
             [
              0.4444444444444444,
              "#bd3786"
             ],
             [
              0.5555555555555556,
              "#d8576b"
             ],
             [
              0.6666666666666666,
              "#ed7953"
             ],
             [
              0.7777777777777778,
              "#fb9f3a"
             ],
             [
              0.8888888888888888,
              "#fdca26"
             ],
             [
              1,
              "#f0f921"
             ]
            ],
            "type": "heatmapgl"
           }
          ],
          "histogram": [
           {
            "marker": {
             "pattern": {
              "fillmode": "overlay",
              "size": 10,
              "solidity": 0.2
             }
            },
            "type": "histogram"
           }
          ],
          "histogram2d": [
           {
            "colorbar": {
             "outlinewidth": 0,
             "ticks": ""
            },
            "colorscale": [
             [
              0,
              "#0d0887"
             ],
             [
              0.1111111111111111,
              "#46039f"
             ],
             [
              0.2222222222222222,
              "#7201a8"
             ],
             [
              0.3333333333333333,
              "#9c179e"
             ],
             [
              0.4444444444444444,
              "#bd3786"
             ],
             [
              0.5555555555555556,
              "#d8576b"
             ],
             [
              0.6666666666666666,
              "#ed7953"
             ],
             [
              0.7777777777777778,
              "#fb9f3a"
             ],
             [
              0.8888888888888888,
              "#fdca26"
             ],
             [
              1,
              "#f0f921"
             ]
            ],
            "type": "histogram2d"
           }
          ],
          "histogram2dcontour": [
           {
            "colorbar": {
             "outlinewidth": 0,
             "ticks": ""
            },
            "colorscale": [
             [
              0,
              "#0d0887"
             ],
             [
              0.1111111111111111,
              "#46039f"
             ],
             [
              0.2222222222222222,
              "#7201a8"
             ],
             [
              0.3333333333333333,
              "#9c179e"
             ],
             [
              0.4444444444444444,
              "#bd3786"
             ],
             [
              0.5555555555555556,
              "#d8576b"
             ],
             [
              0.6666666666666666,
              "#ed7953"
             ],
             [
              0.7777777777777778,
              "#fb9f3a"
             ],
             [
              0.8888888888888888,
              "#fdca26"
             ],
             [
              1,
              "#f0f921"
             ]
            ],
            "type": "histogram2dcontour"
           }
          ],
          "mesh3d": [
           {
            "colorbar": {
             "outlinewidth": 0,
             "ticks": ""
            },
            "type": "mesh3d"
           }
          ],
          "parcoords": [
           {
            "line": {
             "colorbar": {
              "outlinewidth": 0,
              "ticks": ""
             }
            },
            "type": "parcoords"
           }
          ],
          "pie": [
           {
            "automargin": true,
            "type": "pie"
           }
          ],
          "scatter": [
           {
            "marker": {
             "colorbar": {
              "outlinewidth": 0,
              "ticks": ""
             }
            },
            "type": "scatter"
           }
          ],
          "scatter3d": [
           {
            "line": {
             "colorbar": {
              "outlinewidth": 0,
              "ticks": ""
             }
            },
            "marker": {
             "colorbar": {
              "outlinewidth": 0,
              "ticks": ""
             }
            },
            "type": "scatter3d"
           }
          ],
          "scattercarpet": [
           {
            "marker": {
             "colorbar": {
              "outlinewidth": 0,
              "ticks": ""
             }
            },
            "type": "scattercarpet"
           }
          ],
          "scattergeo": [
           {
            "marker": {
             "colorbar": {
              "outlinewidth": 0,
              "ticks": ""
             }
            },
            "type": "scattergeo"
           }
          ],
          "scattergl": [
           {
            "marker": {
             "colorbar": {
              "outlinewidth": 0,
              "ticks": ""
             }
            },
            "type": "scattergl"
           }
          ],
          "scattermapbox": [
           {
            "marker": {
             "colorbar": {
              "outlinewidth": 0,
              "ticks": ""
             }
            },
            "type": "scattermapbox"
           }
          ],
          "scatterpolar": [
           {
            "marker": {
             "colorbar": {
              "outlinewidth": 0,
              "ticks": ""
             }
            },
            "type": "scatterpolar"
           }
          ],
          "scatterpolargl": [
           {
            "marker": {
             "colorbar": {
              "outlinewidth": 0,
              "ticks": ""
             }
            },
            "type": "scatterpolargl"
           }
          ],
          "scatterternary": [
           {
            "marker": {
             "colorbar": {
              "outlinewidth": 0,
              "ticks": ""
             }
            },
            "type": "scatterternary"
           }
          ],
          "surface": [
           {
            "colorbar": {
             "outlinewidth": 0,
             "ticks": ""
            },
            "colorscale": [
             [
              0,
              "#0d0887"
             ],
             [
              0.1111111111111111,
              "#46039f"
             ],
             [
              0.2222222222222222,
              "#7201a8"
             ],
             [
              0.3333333333333333,
              "#9c179e"
             ],
             [
              0.4444444444444444,
              "#bd3786"
             ],
             [
              0.5555555555555556,
              "#d8576b"
             ],
             [
              0.6666666666666666,
              "#ed7953"
             ],
             [
              0.7777777777777778,
              "#fb9f3a"
             ],
             [
              0.8888888888888888,
              "#fdca26"
             ],
             [
              1,
              "#f0f921"
             ]
            ],
            "type": "surface"
           }
          ],
          "table": [
           {
            "cells": {
             "fill": {
              "color": "#EBF0F8"
             },
             "line": {
              "color": "white"
             }
            },
            "header": {
             "fill": {
              "color": "#C8D4E3"
             },
             "line": {
              "color": "white"
             }
            },
            "type": "table"
           }
          ]
         },
         "layout": {
          "annotationdefaults": {
           "arrowcolor": "#2a3f5f",
           "arrowhead": 0,
           "arrowwidth": 1
          },
          "autotypenumbers": "strict",
          "coloraxis": {
           "colorbar": {
            "outlinewidth": 0,
            "ticks": ""
           }
          },
          "colorscale": {
           "diverging": [
            [
             0,
             "#8e0152"
            ],
            [
             0.1,
             "#c51b7d"
            ],
            [
             0.2,
             "#de77ae"
            ],
            [
             0.3,
             "#f1b6da"
            ],
            [
             0.4,
             "#fde0ef"
            ],
            [
             0.5,
             "#f7f7f7"
            ],
            [
             0.6,
             "#e6f5d0"
            ],
            [
             0.7,
             "#b8e186"
            ],
            [
             0.8,
             "#7fbc41"
            ],
            [
             0.9,
             "#4d9221"
            ],
            [
             1,
             "#276419"
            ]
           ],
           "sequential": [
            [
             0,
             "#0d0887"
            ],
            [
             0.1111111111111111,
             "#46039f"
            ],
            [
             0.2222222222222222,
             "#7201a8"
            ],
            [
             0.3333333333333333,
             "#9c179e"
            ],
            [
             0.4444444444444444,
             "#bd3786"
            ],
            [
             0.5555555555555556,
             "#d8576b"
            ],
            [
             0.6666666666666666,
             "#ed7953"
            ],
            [
             0.7777777777777778,
             "#fb9f3a"
            ],
            [
             0.8888888888888888,
             "#fdca26"
            ],
            [
             1,
             "#f0f921"
            ]
           ],
           "sequentialminus": [
            [
             0,
             "#0d0887"
            ],
            [
             0.1111111111111111,
             "#46039f"
            ],
            [
             0.2222222222222222,
             "#7201a8"
            ],
            [
             0.3333333333333333,
             "#9c179e"
            ],
            [
             0.4444444444444444,
             "#bd3786"
            ],
            [
             0.5555555555555556,
             "#d8576b"
            ],
            [
             0.6666666666666666,
             "#ed7953"
            ],
            [
             0.7777777777777778,
             "#fb9f3a"
            ],
            [
             0.8888888888888888,
             "#fdca26"
            ],
            [
             1,
             "#f0f921"
            ]
           ]
          },
          "colorway": [
           "#636efa",
           "#EF553B",
           "#00cc96",
           "#ab63fa",
           "#FFA15A",
           "#19d3f3",
           "#FF6692",
           "#B6E880",
           "#FF97FF",
           "#FECB52"
          ],
          "font": {
           "color": "#2a3f5f"
          },
          "geo": {
           "bgcolor": "white",
           "lakecolor": "white",
           "landcolor": "#E5ECF6",
           "showlakes": true,
           "showland": true,
           "subunitcolor": "white"
          },
          "hoverlabel": {
           "align": "left"
          },
          "hovermode": "closest",
          "mapbox": {
           "style": "light"
          },
          "paper_bgcolor": "white",
          "plot_bgcolor": "#E5ECF6",
          "polar": {
           "angularaxis": {
            "gridcolor": "white",
            "linecolor": "white",
            "ticks": ""
           },
           "bgcolor": "#E5ECF6",
           "radialaxis": {
            "gridcolor": "white",
            "linecolor": "white",
            "ticks": ""
           }
          },
          "scene": {
           "xaxis": {
            "backgroundcolor": "#E5ECF6",
            "gridcolor": "white",
            "gridwidth": 2,
            "linecolor": "white",
            "showbackground": true,
            "ticks": "",
            "zerolinecolor": "white"
           },
           "yaxis": {
            "backgroundcolor": "#E5ECF6",
            "gridcolor": "white",
            "gridwidth": 2,
            "linecolor": "white",
            "showbackground": true,
            "ticks": "",
            "zerolinecolor": "white"
           },
           "zaxis": {
            "backgroundcolor": "#E5ECF6",
            "gridcolor": "white",
            "gridwidth": 2,
            "linecolor": "white",
            "showbackground": true,
            "ticks": "",
            "zerolinecolor": "white"
           }
          },
          "shapedefaults": {
           "line": {
            "color": "#2a3f5f"
           }
          },
          "ternary": {
           "aaxis": {
            "gridcolor": "white",
            "linecolor": "white",
            "ticks": ""
           },
           "baxis": {
            "gridcolor": "white",
            "linecolor": "white",
            "ticks": ""
           },
           "bgcolor": "#E5ECF6",
           "caxis": {
            "gridcolor": "white",
            "linecolor": "white",
            "ticks": ""
           }
          },
          "title": {
           "x": 0.05
          },
          "xaxis": {
           "automargin": true,
           "gridcolor": "white",
           "linecolor": "white",
           "ticks": "",
           "title": {
            "standoff": 15
           },
           "zerolinecolor": "white",
           "zerolinewidth": 2
          },
          "yaxis": {
           "automargin": true,
           "gridcolor": "white",
           "linecolor": "white",
           "ticks": "",
           "title": {
            "standoff": 15
           },
           "zerolinecolor": "white",
           "zerolinewidth": 2
          }
         }
        },
        "title": {
         "text": "precipRate Pattern for Normal Stations"
        },
        "xaxis": {
         "anchor": "y",
         "domain": [
          0,
          1
         ],
         "title": {
          "text": "hour"
         }
        },
        "yaxis": {
         "anchor": "x",
         "domain": [
          0,
          1
         ],
         "title": {
          "text": "precipRate"
         }
        }
       }
      }
     },
     "metadata": {},
     "output_type": "display_data"
    },
    {
     "data": {
      "application/vnd.plotly.v1+json": {
       "config": {
        "plotlyServerURL": "https://plot.ly"
       },
       "data": [
        {
         "hovertemplate": "month=5<br>hour=%{x}<br>humidityAvg=%{y}<extra></extra>",
         "legendgroup": "5",
         "line": {
          "color": "#636efa",
          "dash": "solid"
         },
         "marker": {
          "symbol": "circle"
         },
         "mode": "lines",
         "name": "5",
         "orientation": "v",
         "showlegend": true,
         "type": "scatter",
         "x": [
          0,
          1,
          2,
          3,
          4,
          5,
          6,
          7,
          8,
          9,
          10,
          11,
          12,
          13,
          14,
          15,
          16,
          17,
          18,
          19,
          20,
          21,
          22,
          23
         ],
         "xaxis": "x",
         "y": [
          76.98072562358277,
          78.63288288288288,
          79.80056022408964,
          80.74860646599777,
          81.8457711442786,
          82.25561029009305,
          81.41819160387513,
          77.58709677419355,
          73.19786096256685,
          69.54220085470085,
          67.03470368392952,
          63.939655172413794,
          61.1406333870102,
          59.09897794513179,
          57.88994413407821,
          56.54940282301846,
          56.87418655097614,
          57.36868686868687,
          58.33875338753388,
          61.5288409703504,
          65.64324324324325,
          69.33166109253065,
          72.7656836461126,
          76.28429838288993
         ],
         "yaxis": "y"
        },
        {
         "hovertemplate": "month=6<br>hour=%{x}<br>humidityAvg=%{y}<extra></extra>",
         "legendgroup": "6",
         "line": {
          "color": "#EF553B",
          "dash": "solid"
         },
         "marker": {
          "symbol": "circle"
         },
         "mode": "lines",
         "name": "6",
         "orientation": "v",
         "showlegend": true,
         "type": "scatter",
         "x": [
          0,
          1,
          2,
          3,
          4,
          5,
          6,
          7,
          8,
          9,
          10,
          11,
          12,
          13,
          14,
          15,
          16,
          17,
          18,
          19,
          20,
          21,
          22,
          23
         ],
         "xaxis": "x",
         "y": [
          76.12597889002383,
          78.21749489448605,
          80.5934848998982,
          81.95681740904455,
          82.6601974804222,
          83.30557443915704,
          82.53457627118644,
          78.44286680189317,
          73.91587837837838,
          68.54517869184086,
          63.11339858251772,
          59.88552188552188,
          57.92406344920688,
          55.92035099561255,
          54.72141652613828,
          54.381946783428766,
          54.4476254631189,
          55.039837947332884,
          56.87170830519919,
          59.83660351826793,
          64.54397834912044,
          69.48969942586965,
          72.90564761582685,
          75.06103763987792
         ],
         "yaxis": "y"
        },
        {
         "hovertemplate": "month=7<br>hour=%{x}<br>humidityAvg=%{y}<extra></extra>",
         "legendgroup": "7",
         "line": {
          "color": "#00cc96",
          "dash": "solid"
         },
         "marker": {
          "symbol": "circle"
         },
         "mode": "lines",
         "name": "7",
         "orientation": "v",
         "showlegend": true,
         "type": "scatter",
         "x": [
          0,
          1,
          2,
          3,
          4,
          5,
          6,
          7,
          8,
          9,
          10,
          11,
          12,
          13,
          14,
          15,
          16,
          17,
          18,
          19,
          20,
          21,
          22,
          23
         ],
         "xaxis": "x",
         "y": [
          85.82879127925617,
          87.0830660679923,
          88.36492129778348,
          88.97233837246704,
          89.39352148813342,
          89.35192307692307,
          88.60653636654918,
          85.31893793985924,
          80.43714103382258,
          75.64982411256796,
          72.13874680306905,
          68.24440179142674,
          65.07643108410618,
          63.62523961661342,
          62.59961746891935,
          61.43353522473701,
          61.135566188197764,
          61.700606447494415,
          64.0746887966805,
          68.01342710997443,
          73.80934101087652,
          78.85344,
          81.96604740550929,
          84.2320742637644
         ],
         "yaxis": "y"
        },
        {
         "hovertemplate": "month=8<br>hour=%{x}<br>humidityAvg=%{y}<extra></extra>",
         "legendgroup": "8",
         "line": {
          "color": "#ab63fa",
          "dash": "solid"
         },
         "marker": {
          "symbol": "circle"
         },
         "mode": "lines",
         "name": "8",
         "orientation": "v",
         "showlegend": true,
         "type": "scatter",
         "x": [
          0,
          1,
          2,
          3,
          4,
          5,
          6,
          7,
          8,
          9,
          10,
          11,
          12,
          13,
          14,
          15,
          16,
          17,
          18,
          19,
          20,
          21,
          22,
          23
         ],
         "xaxis": "x",
         "y": [
          86.47012215252559,
          87.78422273781902,
          89.02280991735537,
          89.92274678111588,
          90.81221122112211,
          91.2652589904322,
          91.55138339920948,
          89.60435212660732,
          84.0481530343008,
          78.36738056013179,
          73.36288727752142,
          68.36588584625537,
          64.87660838007258,
          62.3304347826087,
          61.44396119103379,
          61.477113264283325,
          62.08050148465853,
          63.058009228740936,
          65.9473511023363,
          70.90358670615333,
          76.94684714427204,
          81.08691341705222,
          83.31563324538259,
          84.91268533772653
         ],
         "yaxis": "y"
        }
       ],
       "layout": {
        "legend": {
         "title": {
          "text": "month"
         },
         "tracegroupgap": 0
        },
        "template": {
         "data": {
          "bar": [
           {
            "error_x": {
             "color": "#2a3f5f"
            },
            "error_y": {
             "color": "#2a3f5f"
            },
            "marker": {
             "line": {
              "color": "#E5ECF6",
              "width": 0.5
             },
             "pattern": {
              "fillmode": "overlay",
              "size": 10,
              "solidity": 0.2
             }
            },
            "type": "bar"
           }
          ],
          "barpolar": [
           {
            "marker": {
             "line": {
              "color": "#E5ECF6",
              "width": 0.5
             },
             "pattern": {
              "fillmode": "overlay",
              "size": 10,
              "solidity": 0.2
             }
            },
            "type": "barpolar"
           }
          ],
          "carpet": [
           {
            "aaxis": {
             "endlinecolor": "#2a3f5f",
             "gridcolor": "white",
             "linecolor": "white",
             "minorgridcolor": "white",
             "startlinecolor": "#2a3f5f"
            },
            "baxis": {
             "endlinecolor": "#2a3f5f",
             "gridcolor": "white",
             "linecolor": "white",
             "minorgridcolor": "white",
             "startlinecolor": "#2a3f5f"
            },
            "type": "carpet"
           }
          ],
          "choropleth": [
           {
            "colorbar": {
             "outlinewidth": 0,
             "ticks": ""
            },
            "type": "choropleth"
           }
          ],
          "contour": [
           {
            "colorbar": {
             "outlinewidth": 0,
             "ticks": ""
            },
            "colorscale": [
             [
              0,
              "#0d0887"
             ],
             [
              0.1111111111111111,
              "#46039f"
             ],
             [
              0.2222222222222222,
              "#7201a8"
             ],
             [
              0.3333333333333333,
              "#9c179e"
             ],
             [
              0.4444444444444444,
              "#bd3786"
             ],
             [
              0.5555555555555556,
              "#d8576b"
             ],
             [
              0.6666666666666666,
              "#ed7953"
             ],
             [
              0.7777777777777778,
              "#fb9f3a"
             ],
             [
              0.8888888888888888,
              "#fdca26"
             ],
             [
              1,
              "#f0f921"
             ]
            ],
            "type": "contour"
           }
          ],
          "contourcarpet": [
           {
            "colorbar": {
             "outlinewidth": 0,
             "ticks": ""
            },
            "type": "contourcarpet"
           }
          ],
          "heatmap": [
           {
            "colorbar": {
             "outlinewidth": 0,
             "ticks": ""
            },
            "colorscale": [
             [
              0,
              "#0d0887"
             ],
             [
              0.1111111111111111,
              "#46039f"
             ],
             [
              0.2222222222222222,
              "#7201a8"
             ],
             [
              0.3333333333333333,
              "#9c179e"
             ],
             [
              0.4444444444444444,
              "#bd3786"
             ],
             [
              0.5555555555555556,
              "#d8576b"
             ],
             [
              0.6666666666666666,
              "#ed7953"
             ],
             [
              0.7777777777777778,
              "#fb9f3a"
             ],
             [
              0.8888888888888888,
              "#fdca26"
             ],
             [
              1,
              "#f0f921"
             ]
            ],
            "type": "heatmap"
           }
          ],
          "heatmapgl": [
           {
            "colorbar": {
             "outlinewidth": 0,
             "ticks": ""
            },
            "colorscale": [
             [
              0,
              "#0d0887"
             ],
             [
              0.1111111111111111,
              "#46039f"
             ],
             [
              0.2222222222222222,
              "#7201a8"
             ],
             [
              0.3333333333333333,
              "#9c179e"
             ],
             [
              0.4444444444444444,
              "#bd3786"
             ],
             [
              0.5555555555555556,
              "#d8576b"
             ],
             [
              0.6666666666666666,
              "#ed7953"
             ],
             [
              0.7777777777777778,
              "#fb9f3a"
             ],
             [
              0.8888888888888888,
              "#fdca26"
             ],
             [
              1,
              "#f0f921"
             ]
            ],
            "type": "heatmapgl"
           }
          ],
          "histogram": [
           {
            "marker": {
             "pattern": {
              "fillmode": "overlay",
              "size": 10,
              "solidity": 0.2
             }
            },
            "type": "histogram"
           }
          ],
          "histogram2d": [
           {
            "colorbar": {
             "outlinewidth": 0,
             "ticks": ""
            },
            "colorscale": [
             [
              0,
              "#0d0887"
             ],
             [
              0.1111111111111111,
              "#46039f"
             ],
             [
              0.2222222222222222,
              "#7201a8"
             ],
             [
              0.3333333333333333,
              "#9c179e"
             ],
             [
              0.4444444444444444,
              "#bd3786"
             ],
             [
              0.5555555555555556,
              "#d8576b"
             ],
             [
              0.6666666666666666,
              "#ed7953"
             ],
             [
              0.7777777777777778,
              "#fb9f3a"
             ],
             [
              0.8888888888888888,
              "#fdca26"
             ],
             [
              1,
              "#f0f921"
             ]
            ],
            "type": "histogram2d"
           }
          ],
          "histogram2dcontour": [
           {
            "colorbar": {
             "outlinewidth": 0,
             "ticks": ""
            },
            "colorscale": [
             [
              0,
              "#0d0887"
             ],
             [
              0.1111111111111111,
              "#46039f"
             ],
             [
              0.2222222222222222,
              "#7201a8"
             ],
             [
              0.3333333333333333,
              "#9c179e"
             ],
             [
              0.4444444444444444,
              "#bd3786"
             ],
             [
              0.5555555555555556,
              "#d8576b"
             ],
             [
              0.6666666666666666,
              "#ed7953"
             ],
             [
              0.7777777777777778,
              "#fb9f3a"
             ],
             [
              0.8888888888888888,
              "#fdca26"
             ],
             [
              1,
              "#f0f921"
             ]
            ],
            "type": "histogram2dcontour"
           }
          ],
          "mesh3d": [
           {
            "colorbar": {
             "outlinewidth": 0,
             "ticks": ""
            },
            "type": "mesh3d"
           }
          ],
          "parcoords": [
           {
            "line": {
             "colorbar": {
              "outlinewidth": 0,
              "ticks": ""
             }
            },
            "type": "parcoords"
           }
          ],
          "pie": [
           {
            "automargin": true,
            "type": "pie"
           }
          ],
          "scatter": [
           {
            "marker": {
             "colorbar": {
              "outlinewidth": 0,
              "ticks": ""
             }
            },
            "type": "scatter"
           }
          ],
          "scatter3d": [
           {
            "line": {
             "colorbar": {
              "outlinewidth": 0,
              "ticks": ""
             }
            },
            "marker": {
             "colorbar": {
              "outlinewidth": 0,
              "ticks": ""
             }
            },
            "type": "scatter3d"
           }
          ],
          "scattercarpet": [
           {
            "marker": {
             "colorbar": {
              "outlinewidth": 0,
              "ticks": ""
             }
            },
            "type": "scattercarpet"
           }
          ],
          "scattergeo": [
           {
            "marker": {
             "colorbar": {
              "outlinewidth": 0,
              "ticks": ""
             }
            },
            "type": "scattergeo"
           }
          ],
          "scattergl": [
           {
            "marker": {
             "colorbar": {
              "outlinewidth": 0,
              "ticks": ""
             }
            },
            "type": "scattergl"
           }
          ],
          "scattermapbox": [
           {
            "marker": {
             "colorbar": {
              "outlinewidth": 0,
              "ticks": ""
             }
            },
            "type": "scattermapbox"
           }
          ],
          "scatterpolar": [
           {
            "marker": {
             "colorbar": {
              "outlinewidth": 0,
              "ticks": ""
             }
            },
            "type": "scatterpolar"
           }
          ],
          "scatterpolargl": [
           {
            "marker": {
             "colorbar": {
              "outlinewidth": 0,
              "ticks": ""
             }
            },
            "type": "scatterpolargl"
           }
          ],
          "scatterternary": [
           {
            "marker": {
             "colorbar": {
              "outlinewidth": 0,
              "ticks": ""
             }
            },
            "type": "scatterternary"
           }
          ],
          "surface": [
           {
            "colorbar": {
             "outlinewidth": 0,
             "ticks": ""
            },
            "colorscale": [
             [
              0,
              "#0d0887"
             ],
             [
              0.1111111111111111,
              "#46039f"
             ],
             [
              0.2222222222222222,
              "#7201a8"
             ],
             [
              0.3333333333333333,
              "#9c179e"
             ],
             [
              0.4444444444444444,
              "#bd3786"
             ],
             [
              0.5555555555555556,
              "#d8576b"
             ],
             [
              0.6666666666666666,
              "#ed7953"
             ],
             [
              0.7777777777777778,
              "#fb9f3a"
             ],
             [
              0.8888888888888888,
              "#fdca26"
             ],
             [
              1,
              "#f0f921"
             ]
            ],
            "type": "surface"
           }
          ],
          "table": [
           {
            "cells": {
             "fill": {
              "color": "#EBF0F8"
             },
             "line": {
              "color": "white"
             }
            },
            "header": {
             "fill": {
              "color": "#C8D4E3"
             },
             "line": {
              "color": "white"
             }
            },
            "type": "table"
           }
          ]
         },
         "layout": {
          "annotationdefaults": {
           "arrowcolor": "#2a3f5f",
           "arrowhead": 0,
           "arrowwidth": 1
          },
          "autotypenumbers": "strict",
          "coloraxis": {
           "colorbar": {
            "outlinewidth": 0,
            "ticks": ""
           }
          },
          "colorscale": {
           "diverging": [
            [
             0,
             "#8e0152"
            ],
            [
             0.1,
             "#c51b7d"
            ],
            [
             0.2,
             "#de77ae"
            ],
            [
             0.3,
             "#f1b6da"
            ],
            [
             0.4,
             "#fde0ef"
            ],
            [
             0.5,
             "#f7f7f7"
            ],
            [
             0.6,
             "#e6f5d0"
            ],
            [
             0.7,
             "#b8e186"
            ],
            [
             0.8,
             "#7fbc41"
            ],
            [
             0.9,
             "#4d9221"
            ],
            [
             1,
             "#276419"
            ]
           ],
           "sequential": [
            [
             0,
             "#0d0887"
            ],
            [
             0.1111111111111111,
             "#46039f"
            ],
            [
             0.2222222222222222,
             "#7201a8"
            ],
            [
             0.3333333333333333,
             "#9c179e"
            ],
            [
             0.4444444444444444,
             "#bd3786"
            ],
            [
             0.5555555555555556,
             "#d8576b"
            ],
            [
             0.6666666666666666,
             "#ed7953"
            ],
            [
             0.7777777777777778,
             "#fb9f3a"
            ],
            [
             0.8888888888888888,
             "#fdca26"
            ],
            [
             1,
             "#f0f921"
            ]
           ],
           "sequentialminus": [
            [
             0,
             "#0d0887"
            ],
            [
             0.1111111111111111,
             "#46039f"
            ],
            [
             0.2222222222222222,
             "#7201a8"
            ],
            [
             0.3333333333333333,
             "#9c179e"
            ],
            [
             0.4444444444444444,
             "#bd3786"
            ],
            [
             0.5555555555555556,
             "#d8576b"
            ],
            [
             0.6666666666666666,
             "#ed7953"
            ],
            [
             0.7777777777777778,
             "#fb9f3a"
            ],
            [
             0.8888888888888888,
             "#fdca26"
            ],
            [
             1,
             "#f0f921"
            ]
           ]
          },
          "colorway": [
           "#636efa",
           "#EF553B",
           "#00cc96",
           "#ab63fa",
           "#FFA15A",
           "#19d3f3",
           "#FF6692",
           "#B6E880",
           "#FF97FF",
           "#FECB52"
          ],
          "font": {
           "color": "#2a3f5f"
          },
          "geo": {
           "bgcolor": "white",
           "lakecolor": "white",
           "landcolor": "#E5ECF6",
           "showlakes": true,
           "showland": true,
           "subunitcolor": "white"
          },
          "hoverlabel": {
           "align": "left"
          },
          "hovermode": "closest",
          "mapbox": {
           "style": "light"
          },
          "paper_bgcolor": "white",
          "plot_bgcolor": "#E5ECF6",
          "polar": {
           "angularaxis": {
            "gridcolor": "white",
            "linecolor": "white",
            "ticks": ""
           },
           "bgcolor": "#E5ECF6",
           "radialaxis": {
            "gridcolor": "white",
            "linecolor": "white",
            "ticks": ""
           }
          },
          "scene": {
           "xaxis": {
            "backgroundcolor": "#E5ECF6",
            "gridcolor": "white",
            "gridwidth": 2,
            "linecolor": "white",
            "showbackground": true,
            "ticks": "",
            "zerolinecolor": "white"
           },
           "yaxis": {
            "backgroundcolor": "#E5ECF6",
            "gridcolor": "white",
            "gridwidth": 2,
            "linecolor": "white",
            "showbackground": true,
            "ticks": "",
            "zerolinecolor": "white"
           },
           "zaxis": {
            "backgroundcolor": "#E5ECF6",
            "gridcolor": "white",
            "gridwidth": 2,
            "linecolor": "white",
            "showbackground": true,
            "ticks": "",
            "zerolinecolor": "white"
           }
          },
          "shapedefaults": {
           "line": {
            "color": "#2a3f5f"
           }
          },
          "ternary": {
           "aaxis": {
            "gridcolor": "white",
            "linecolor": "white",
            "ticks": ""
           },
           "baxis": {
            "gridcolor": "white",
            "linecolor": "white",
            "ticks": ""
           },
           "bgcolor": "#E5ECF6",
           "caxis": {
            "gridcolor": "white",
            "linecolor": "white",
            "ticks": ""
           }
          },
          "title": {
           "x": 0.05
          },
          "xaxis": {
           "automargin": true,
           "gridcolor": "white",
           "linecolor": "white",
           "ticks": "",
           "title": {
            "standoff": 15
           },
           "zerolinecolor": "white",
           "zerolinewidth": 2
          },
          "yaxis": {
           "automargin": true,
           "gridcolor": "white",
           "linecolor": "white",
           "ticks": "",
           "title": {
            "standoff": 15
           },
           "zerolinecolor": "white",
           "zerolinewidth": 2
          }
         }
        },
        "title": {
         "text": "humidityAvg Pattern for Normal Stations"
        },
        "xaxis": {
         "anchor": "y",
         "domain": [
          0,
          1
         ],
         "title": {
          "text": "hour"
         }
        },
        "yaxis": {
         "anchor": "x",
         "domain": [
          0,
          1
         ],
         "title": {
          "text": "humidityAvg"
         }
        }
       }
      }
     },
     "metadata": {},
     "output_type": "display_data"
    }
   ],
   "source": [
    "clean_data_grp2 = clean_data.groupby(['month','hour']).mean().reset_index()\n",
    "\n",
    "cols = ['dewpt','heatindex','precipRate','humidityAvg']\n",
    "for col in cols:\n",
    "    fig = pe.line(clean_data_grp2,x='hour',y=col,color='month',title=f'{col} Pattern for Normal Stations')\n",
    "    fig.show()"
   ]
  },
  {
   "cell_type": "code",
   "execution_count": null,
   "metadata": {},
   "outputs": [],
   "source": []
  }
 ],
 "metadata": {
  "kernelspec": {
   "display_name": "base",
   "language": "python",
   "name": "python3"
  },
  "language_info": {
   "codemirror_mode": {
    "name": "ipython",
    "version": 3
   },
   "file_extension": ".py",
   "mimetype": "text/x-python",
   "name": "python",
   "nbconvert_exporter": "python",
   "pygments_lexer": "ipython3",
   "version": "3.9.12"
  }
 },
 "nbformat": 4,
 "nbformat_minor": 2
}
