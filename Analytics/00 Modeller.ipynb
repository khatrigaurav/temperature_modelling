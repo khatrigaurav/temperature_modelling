{
 "cells": [
  {
   "cell_type": "code",
   "execution_count": 17,
   "metadata": {},
   "outputs": [
    {
     "name": "stdout",
     "output_type": "stream",
     "text": [
      "The autoreload extension is already loaded. To reload it, use:\n",
      "  %reload_ext autoreload\n"
     ]
    }
   ],
   "source": [
    "%load_ext autoreload\n",
    "%autoreload 2\n",
    "\n",
    "import os\n",
    "import pickle\n",
    "import datetime\n",
    "import numpy as np\n",
    "import pandas as pd\n",
    "import rioxarray as rxr\n",
    "import statsmodels.api as sm\n",
    "import matplotlib.pyplot as plt\n",
    "import polars as pl #libs for faster data processing\n",
    "\n",
    "\n",
    "from dateutil import tz\n",
    "import geopandas as gpd\n",
    "\n",
    "from pyproj import CRS\n",
    "\n",
    "\n",
    "import sklearn.metrics as metrics\n",
    "from sklearn.model_selection import  train_test_split\n",
    "from sklearn.linear_model import LinearRegression\n",
    "\n",
    "\n",
    "os.chdir('/Users/gaurav/UAH/temperature_modelling/')\n",
    "\n",
    "#Custom modules\n",
    "import lib.satellite as sat\n",
    "import lib.dataprocess as dp \n",
    "import lib.crowdqc as cqc\n",
    "from lib import helper\n",
    "from lib import modeller as mod\n",
    "from lib import visualizer\n",
    "\n",
    "\n",
    "\n",
    "#For the issue with .loc[]\n",
    "pd.options.mode.chained_assignment = None"
   ]
  },
  {
   "cell_type": "markdown",
   "metadata": {},
   "source": [
    "### Step 1 : Clean Data \n",
    "\n",
    "Run     : python lib/cleaner.py Madison 2021 <br>\n",
    "Output  : New clean data saved in /Users/gaurav/UAH/temperature_modelling/data/processed_data/Madison_2021/clean_Madison_pws_.csv"
   ]
  },
  {
   "cell_type": "code",
   "execution_count": 18,
   "metadata": {},
   "outputs": [],
   "source": [
    "#updating necessary columns from satellite\n",
    "necessary_col_sat = ['station', 'beg_time', 'latitude', 'longitude', \n",
    "                # 'humidityAvg',\n",
    "                  'temperature',\n",
    "               # 'windspeed', 'dewpt', 'heatindex', 'precipRate',\n",
    "               'day_of_year',\n",
    "               'hour', 'adjusted_lst', 'valueImperviousfraction', 'valueTreefraction',\n",
    "               'valueBuildingheight', 'valueNearestDistWater', 'valueWaterfraction',\n",
    "               # 'valueLandcover', \n",
    "               'valueBuildingfraction']\n",
    "\n",
    "#updating temporal columns\n",
    "spatial_columns = [ 'station', 'beg_time', 'latitude','longitude',\n",
    "                     'temperature', \n",
    "                     'closest_station_1_temp','closest_station_2_temp','closest_station_3_temp',\n",
    "                     'closest_1_distance','closest_2_distance','closest_3_distance',\n",
    "                     ]\n",
    "\n",
    "##### Note : \n",
    "# 1. valueLandcover is not included as it is categorical\n",
    "default_location = 'Madison'\n",
    "default_year = 2021\n"
   ]
  },
  {
   "cell_type": "markdown",
   "metadata": {},
   "source": [
    "## Readin PWS Data\n",
    "### Step 1 : Clean Data \n",
    "#Run     : python lib/cleaner.py Madison 2021 <br>\n",
    "#Output  : New clean data saved in /Users/gaurav/UAH/temperature_modelling/data/processed_data/Madison_2021/clean_Madison_pws_.csv\n"
   ]
  },
  {
   "cell_type": "code",
   "execution_count": 19,
   "metadata": {},
   "outputs": [],
   "source": [
    "#Readin PWS Data\n",
    "### Step 1 : Clean Data \n",
    "#Run     : python lib/cleaner.py Madison 2021 <br>\n",
    "#Output  : New clean data saved in /Users/gaurav/UAH/temperature_modelling/data/processed_data/Madison_2021/clean_Madison_pws_.csv\n",
    "\n",
    "clean_data = pd.read_csv('data/processed_data/Madison_2021/clean_Madison_pws_.csv')\n",
    "# clean_data = pd.read_csv('data/processed_data/Madison_2022/clean_Madison_pws_.csv')\n",
    "clean_data['beg_time'] = pd.to_datetime(clean_data['beg_time'])\n",
    "clean_data['hour'] = clean_data['beg_time'].dt.hour\n",
    "\n",
    "clean_data = clean_data.query(\"day_of_year >= 120 & day_of_year <= 320\")\n",
    "clean_data.station = clean_data.station.str.upper()\n",
    "\n",
    "# dp.plot_(clean_data,'day_of_year',200)\n"
   ]
  },
  {
   "cell_type": "markdown",
   "metadata": {},
   "source": [
    "### Step 2: Generate Ecostress and Urban Satellite Data"
   ]
  },
  {
   "cell_type": "code",
   "execution_count": 29,
   "metadata": {},
   "outputs": [
    {
     "name": "stdout",
     "output_type": "stream",
     "text": [
      "/Users/gaurav/UAH/temperature_modelling/../ECOSTRESS_and_urban_surface_dataset/Madison/ECOSTRESS/adjusted_output_directory/interpolated_temperature_01.tif\n",
      "/Users/gaurav/UAH/temperature_modelling/../ECOSTRESS_and_urban_surface_dataset/Madison/ECOSTRESS/adjusted_output_directory/temperature_16.tif\n",
      "/Users/gaurav/UAH/temperature_modelling/../ECOSTRESS_and_urban_surface_dataset/Madison/ECOSTRESS/adjusted_output_directory/temperature_02.tif\n",
      "/Users/gaurav/UAH/temperature_modelling/../ECOSTRESS_and_urban_surface_dataset/Madison/ECOSTRESS/adjusted_output_directory/temperature_14.tif\n",
      "/Users/gaurav/UAH/temperature_modelling/../ECOSTRESS_and_urban_surface_dataset/Madison/ECOSTRESS/adjusted_output_directory/temperature_00.tif\n",
      "/Users/gaurav/UAH/temperature_modelling/../ECOSTRESS_and_urban_surface_dataset/Madison/ECOSTRESS/adjusted_output_directory/interpolated_temperature_17.tif\n",
      "/Users/gaurav/UAH/temperature_modelling/../ECOSTRESS_and_urban_surface_dataset/Madison/ECOSTRESS/adjusted_output_directory/interpolated_temperature_03.tif\n",
      "/Users/gaurav/UAH/temperature_modelling/../ECOSTRESS_and_urban_surface_dataset/Madison/ECOSTRESS/adjusted_output_directory/temperature_15.tif\n",
      "/Users/gaurav/UAH/temperature_modelling/../ECOSTRESS_and_urban_surface_dataset/Madison/ECOSTRESS/adjusted_output_directory/temperature_11.tif\n",
      "/Users/gaurav/UAH/temperature_modelling/../ECOSTRESS_and_urban_surface_dataset/Madison/ECOSTRESS/adjusted_output_directory/temperature_05.tif\n",
      "/Users/gaurav/UAH/temperature_modelling/../ECOSTRESS_and_urban_surface_dataset/Madison/ECOSTRESS/adjusted_output_directory/interpolated_temperature_13.tif\n",
      "/Users/gaurav/UAH/temperature_modelling/../ECOSTRESS_and_urban_surface_dataset/Madison/ECOSTRESS/adjusted_output_directory/temperature_04.tif\n",
      "/Users/gaurav/UAH/temperature_modelling/../ECOSTRESS_and_urban_surface_dataset/Madison/ECOSTRESS/adjusted_output_directory/temperature_10.tif\n",
      "/Users/gaurav/UAH/temperature_modelling/../ECOSTRESS_and_urban_surface_dataset/Madison/ECOSTRESS/adjusted_output_directory/temperature_06.tif\n",
      "/Users/gaurav/UAH/temperature_modelling/../ECOSTRESS_and_urban_surface_dataset/Madison/ECOSTRESS/adjusted_output_directory/temperature_12.tif\n",
      "/Users/gaurav/UAH/temperature_modelling/../ECOSTRESS_and_urban_surface_dataset/Madison/ECOSTRESS/adjusted_output_directory/temperature_07.tif\n",
      "/Users/gaurav/UAH/temperature_modelling/../ECOSTRESS_and_urban_surface_dataset/Madison/ECOSTRESS/adjusted_output_directory/temperature_22.tif\n",
      "/Users/gaurav/UAH/temperature_modelling/../ECOSTRESS_and_urban_surface_dataset/Madison/ECOSTRESS/adjusted_output_directory/temperature_09.tif\n",
      "/Users/gaurav/UAH/temperature_modelling/../ECOSTRESS_and_urban_surface_dataset/Madison/ECOSTRESS/adjusted_output_directory/temperature_21.tif\n",
      "/Users/gaurav/UAH/temperature_modelling/../ECOSTRESS_and_urban_surface_dataset/Madison/ECOSTRESS/adjusted_output_directory/interpolated_temperature_23.tif\n",
      "/Users/gaurav/UAH/temperature_modelling/../ECOSTRESS_and_urban_surface_dataset/Madison/ECOSTRESS/adjusted_output_directory/temperature_20.tif\n",
      "/Users/gaurav/UAH/temperature_modelling/../ECOSTRESS_and_urban_surface_dataset/Madison/ECOSTRESS/adjusted_output_directory/temperature_08.tif\n",
      "/Users/gaurav/UAH/temperature_modelling/../ECOSTRESS_and_urban_surface_dataset/Madison/ECOSTRESS/adjusted_output_directory/temperature_18.tif\n",
      "/Users/gaurav/UAH/temperature_modelling/../ECOSTRESS_and_urban_surface_dataset/Madison/ECOSTRESS/adjusted_output_directory/temperature_19.tif\n",
      "Ecostress file saved in /Users/gaurav/UAH/temperature_modelling/data/raster_op/ECOSTRESS_values.csv\n",
      "/Users/gaurav/UAH/temperature_modelling/../ECOSTRESS_and_urban_surface_dataset/Madison/urban_surface_data/Imperviousfraction_madison.tif\n",
      "/Users/gaurav/UAH/temperature_modelling/../ECOSTRESS_and_urban_surface_dataset/Madison/urban_surface_data/Treefraction_madison.tif\n",
      "/Users/gaurav/UAH/temperature_modelling/../ECOSTRESS_and_urban_surface_dataset/Madison/urban_surface_data/Buildingheight_madison.tif\n",
      "/Users/gaurav/UAH/temperature_modelling/../ECOSTRESS_and_urban_surface_dataset/Madison/urban_surface_data/NearestDistWater_madison.tif\n",
      "/Users/gaurav/UAH/temperature_modelling/../ECOSTRESS_and_urban_surface_dataset/Madison/urban_surface_data/Waterfraction_madison.tif\n",
      "/Users/gaurav/UAH/temperature_modelling/../ECOSTRESS_and_urban_surface_dataset/Madison/urban_surface_data/Landcover_madison.tif\n",
      "/Users/gaurav/UAH/temperature_modelling/../ECOSTRESS_and_urban_surface_dataset/Madison/urban_surface_data/Buildingfraction_madison.tif\n",
      "Urban surface properties file saved in /Users/gaurav/UAH/temperature_modelling/data/raster_op/urban_surface_properties_values.csv\n"
     ]
    },
    {
     "name": "stderr",
     "output_type": "stream",
     "text": [
      "/Users/gaurav/UAH/temperature_modelling/lib/satellite.py:239: FutureWarning:\n",
      "\n",
      "Passing 'suffixes' which cause duplicate columns {'beg_time_x', 'station_x', 'latitude_x', 'longitude_x', 'geometry_x'} in the result is deprecated and will raise a MergeError in a future version.\n",
      "\n",
      "/Users/gaurav/UAH/temperature_modelling/lib/satellite.py:239: FutureWarning:\n",
      "\n",
      "Passing 'suffixes' which cause duplicate columns {'beg_time_x', 'station_x', 'latitude_x', 'longitude_x', 'geometry_x'} in the result is deprecated and will raise a MergeError in a future version.\n",
      "\n"
     ]
    }
   ],
   "source": [
    "sat.create_station_file('Madison',2021,urban_data=False)\n",
    "sat.create_station_file('Madison',2021,urban_data=True)\n",
    "\n",
    "# sat.create_station_file('Madison',2022,urban_data=True)"
   ]
  },
  {
   "cell_type": "markdown",
   "metadata": {},
   "source": [
    "### Step 4 : Calculate Adjsuted LST\n"
   ]
  },
  {
   "cell_type": "markdown",
   "metadata": {},
   "source": [
    "#### Note : \n",
    "By now I have access to : <br>\n",
    "- One **clean_data** dataframe that records hourly temperature for each station for 1 year.\n",
    "-  **result_df** dataframe that has adjusted LST temperature (i.e. LST-mean(LST)).\n",
    "- **urban_data** dataframe that has urban surface properties.\n",
    "    - The **valueLandcover** column is categorical"
   ]
  },
  {
   "cell_type": "code",
   "execution_count": 30,
   "metadata": {},
   "outputs": [],
   "source": [
    "# This data consists of stations, lat, long, time, temp adjusted lst and all surface values\n",
    "#The process raster data function is used to download the satellite data and process it\n",
    "# default_year = '2022'\n",
    "eco_data = mod.process_raster_data(clean_data,create=False,year=default_year,location=default_location)\n",
    "eco_data = eco_data[necessary_col_sat]"
   ]
  },
  {
   "cell_type": "markdown",
   "metadata": {},
   "source": [
    "### Step 5 : EDA of urban surface properties "
   ]
  },
  {
   "cell_type": "markdown",
   "metadata": {},
   "source": [
    "### Step 6 : Modelling Data"
   ]
  },
  {
   "cell_type": "code",
   "execution_count": 32,
   "metadata": {},
   "outputs": [],
   "source": [
    "#This data combines stations with closest stations\n",
    "temperature_data = helper.find_closest_temperatures(eco_data)"
   ]
  },
  {
   "cell_type": "markdown",
   "metadata": {},
   "source": [
    "#### Step 6.1 : Strategy for Null Values\n",
    "\n",
    "1. Filling null closest temperature vallues with interpolation\n",
    "2. In the future, it can be replaced with second closest or average"
   ]
  },
  {
   "cell_type": "markdown",
   "metadata": {},
   "source": [
    "#### Step 6.2 : Splitting into sequences\n"
   ]
  },
  {
   "cell_type": "markdown",
   "metadata": {},
   "source": [
    "**Model 1 : Linear Regression**"
   ]
  },
  {
   "cell_type": "code",
   "execution_count": 34,
   "metadata": {},
   "outputs": [],
   "source": [
    "from sklearn.preprocessing import StandardScaler\n",
    "\n",
    "window_size = 5\n",
    "#Its here because I don't want to pass final_df everytime\n",
    "def get_partitions(final_df,col_list,selection_hour,scaler=False):\n",
    "    ''' Get final split of data based on hour selected\n",
    "        selection_hour = [1] or None\n",
    "    '''\n",
    "    final_df_x = final_df.query(f'hour == {list([selection_hour or list(np.arange(0,24,1))][0])}')\n",
    "    X_train, X_test, y_train, y_test = mod.get_train_test_data(final_df_x,window_size)\n",
    "    hour_status = final_df_x.hour.unique()\n",
    "\n",
    "    d_train, d_test = X_train[col_list], X_test[col_list]\n",
    "\n",
    "    #if there is no hour column, then its set to none, such that the plotter function behaves accordingly\n",
    "    # hour_status = True if 'hour' in d_train.columns else False\n",
    "\n",
    "    if scaler:\n",
    "        scaler = StandardScaler()\n",
    "\n",
    "        d_train =  scaler.fit_transform(d_train)\n",
    "        d_train = pd.DataFrame(d_train,columns=col_list)\n",
    "        d_test = scaler.transform(d_test)\n",
    "        d_test = pd.DataFrame(d_test,columns=col_list)\n",
    "\n",
    "    return [d_train, d_test, y_train, y_test], hour_status\n",
    "\n",
    "\n",
    "def bulk_model_runner(model,grouped_data,col_list,delete=True,bulk_mode=True,fit = True,residuals=False):\n",
    "    ''' This function runs the model for all hours and saves the predictions and error\n",
    "        grouped_data = data grouped by station\n",
    "        col_list = columns to be used for modelling\n",
    "        delete = True if you want to delete the contents of directory\n",
    "        bulk_mode = True if you want to train one model for each hour\n",
    "        fit = True if you want to fit the model, False if you want to load the model\n",
    "            will be used for transfer learning\n",
    "    '''\n",
    "\n",
    "    #cleaning the directory first\n",
    "    model_name = model.__class__.__name__\n",
    "    model_path = os.path.join(mod.MODEL_PATH,model_name)\n",
    "    if delete:\n",
    "        helper.clean_directory(model_path)\n",
    "\n",
    "    new_grouped_data = grouped_data.copy()\n",
    "\n",
    "    if residuals:\n",
    "        #group the grouped data by hour to find hourly mean and subtract it from the temperature\n",
    "        print('Residuals are being subtracted from data')\n",
    "        new_grouped_data['delta_temp'] = new_grouped_data['temperature']-new_grouped_data.groupby('hour')['temperature'].transform('mean')\n",
    "        new_grouped_data['old_temperature'] = new_grouped_data['temperature']\n",
    "        new_grouped_data['temperature'] = new_grouped_data['delta_temp']\n",
    "        hour_lookup = new_grouped_data.groupby('hour')['old_temperature'].mean().reset_index()\n",
    "\n",
    "        hour_lookup.to_csv('Analytics/temp_data/hour_lookup.csv',index=False)\n",
    "        print('Hour lookup saved in Analytics/temp_data/hour_lookup.csv')\n",
    "\n",
    "    model_dict = {}\n",
    "    model_output_dict = {}\n",
    "    if bulk_mode:\n",
    "        feature_importances_dict = dict()\n",
    "        for hour_ in range(24):\n",
    "            data,hour_status = get_partitions(new_grouped_data,col_list,[hour_])  #or None\n",
    "            predictions,error = mod.train_save(model, data, hour_status)\n",
    "            try:\n",
    "                feature_importances = model.feature_importances_\n",
    "            except:\n",
    "                feature_importances = None\n",
    "            model_dict[hour_] = [predictions,error,feature_importances]\n",
    "\n",
    "        for hour in model_dict.keys():\n",
    "            feature_importances_dict[hour] = model_dict[hour][2]\n",
    "            model_dict[hour][0]['hourly_rms'] = model_dict[hour][1]\n",
    "\n",
    "        hour0 = model_dict[0][0]\n",
    "\n",
    "        for hour in model_dict.keys():\n",
    "            if hour != 0:\n",
    "                hour0 = pd.concat([hour0,model_dict[hour][0]],axis=0)\n",
    "\n",
    "        model_output_dict['hourly_values'] = hour0\n",
    "        model_output_dict['feature_importances'] = pd.DataFrame(feature_importances_dict).mean(axis=1).values\n",
    "\n",
    "        \n",
    "        \n",
    "    \n",
    "    if not bulk_mode:\n",
    "        data,hour_status = get_partitions(new_grouped_data,col_list,None)\n",
    "        predictions,error = mod.train_save(model, data, hour_status)\n",
    "        try:\n",
    "            feature_importances = model.feature_importances_\n",
    "        except:\n",
    "            feature_importances = None\n",
    "        model_dict['hourly_values'] = [predictions,error,feature_importances]\n",
    "\n",
    "        #new module to uniformly output data\n",
    "        combined_df = model_dict['hourly_values'][0]\n",
    "        hourly_rmse = combined_df.groupby('hour').apply(lambda x : metrics.mean_squared_error(x.predicted_temperature,x.true_temperature,squared=False)).reset_index(name='hourly_rms')\n",
    "        combined_df = pd.merge(combined_df, hourly_rmse, on='hour')\n",
    "\n",
    "        model_output_dict['hourly_values'] = combined_df\n",
    "        model_output_dict['feature_importances'] = model_dict['hourly_values'][2]\n",
    "\n",
    "    if residuals:\n",
    "        print('Residuals are being added back to the predictions')\n",
    "        predictions = model_output_dict['hourly_values']\n",
    "\n",
    "        model_dict_updated = predictions.merge(hour_lookup,on='hour')\n",
    "        model_dict_updated['predicted_temperature'] = model_dict_updated['predicted_temperature']+model_dict_updated['old_temperature']\n",
    "        model_dict_updated['true_temperature'] = model_dict_updated['true_temperature']+model_dict_updated['old_temperature']\n",
    "\n",
    "        model_output_dict['hourly_values'] = model_dict_updated\n",
    "    \n",
    "        \n",
    "    return model_output_dict"
   ]
  },
  {
   "cell_type": "code",
   "execution_count": 95,
   "metadata": {},
   "outputs": [],
   "source": [
    "temperature_data_segment = temperature_data.query(\"beg_time >= '2021-07-01' & beg_time < '2021-08-01'\")\n",
    "final_df = mod.get_final_df(temperature_data_segment,eco_data,spatial_columns)\n",
    "grouped_data = final_df.groupby(['station','hour']).mean().reset_index()\n",
    "\n",
    "# Data cleaning pipeline \n",
    "# cqc.level_1_plot(grouped_data)\n",
    "flag_stations = cqc.cleaning_outliers(grouped_data)\n",
    "missing_stations = cqc.clean_missing_data(final_df,print_missing=False)\n",
    "\n"
   ]
  },
  {
   "cell_type": "code",
   "execution_count": 96,
   "metadata": {},
   "outputs": [],
   "source": [
    "import plotly.express as pe\n",
    "\n",
    "grouped_data = grouped_data.query(\"station not in @flag_stations\")\n",
    "grouped_data = grouped_data.query(\"station not in @missing_stations\")\n",
    "grouped_data['beg_time'] = final_df['beg_time'][0]\n",
    "\n",
    "#calculating outliers based on quartiles for valueTreefraction and valueImperviousfraction\n",
    "predictions1,outliers_tree = cqc.filter_quartiles(grouped_data,quantiles=[0.025, 0.97])\n",
    "predictions2,outliers_impe = cqc.filter_quartiles(grouped_data,feature_column='valueImperviousfraction')\n",
    "\n",
    "# outliers_tree= set([k for element in list(outliers_tree.values()) for k in element])\n",
    "# outliers_impe = set([k for element in list(outliers_impe.values()) for k in element])\n",
    "\n",
    "# grouped_data = grouped_data.query(\"station not in @outliers_tree\")\n",
    "# grouped_data = grouped_data.query(\"station not in @outliers_impe\")\n",
    "\n",
    "grouped_data.to_csv('Analytics/temp_data/grouped_data_untouched.csv',index=False)\n",
    "\n",
    "##the grouped data is saved in the temp_data folder and used for final scatter plots\n",
    "helper.convert_to_gpd(grouped_data,'epsg:4326',convert_to='epsg:6879')[['hour','latitude','longitude','temperature']].to_csv('Analytics/temp_data/grouped_data.csv',index=False)\n",
    "\n",
    "\n",
    "# pe.scatter(grouped_data, x=\"hour\", y=\"temperature\", color='station', title='Temperature Pattern for Normal Stations',)\n"
   ]
  },
  {
   "cell_type": "code",
   "execution_count": 97,
   "metadata": {},
   "outputs": [],
   "source": [
    "hash_map = dict()\n",
    "for hrs in outliers_tree.keys():\n",
    "    val = outliers_tree[hrs]\n",
    "    for v in val:\n",
    "        hash_map[v] = 1 + hash_map.get(v,0)\n",
    "\n",
    "for hrs in outliers_impe.keys():\n",
    "    val = outliers_impe[hrs]\n",
    "    for v in val:\n",
    "        hash_map[v] = 1 + hash_map.get(v,0)"
   ]
  },
  {
   "cell_type": "code",
   "execution_count": 98,
   "metadata": {},
   "outputs": [
    {
     "data": {
      "text/plain": [
       "{'KWIMADIS138': 35, 'KWIMADIS352': 22, 'KWIMADIS334': 20}"
      ]
     },
     "execution_count": 98,
     "metadata": {},
     "output_type": "execute_result"
    }
   ],
   "source": [
    "sorted_hash_map = {k: v for k, v in sorted(hash_map.items(), key=lambda item: item[1],reverse=True)}\n",
    "sorted_hash_map_top_6 = {k: v for k, v in sorted(hash_map.items(), key=lambda item: item[1],reverse=True)[:3]}\n",
    "sorted_hash_map_top_6"
   ]
  },
  {
   "cell_type": "code",
   "execution_count": 99,
   "metadata": {},
   "outputs": [],
   "source": [
    "outliers = list(sorted_hash_map_top_6.keys())\n",
    "grouped_data2 = grouped_data.query(\"station not in @outliers\")"
   ]
  },
  {
   "cell_type": "code",
   "execution_count": 100,
   "metadata": {},
   "outputs": [
    {
     "data": {
      "text/html": [
       "<div>\n",
       "<style scoped>\n",
       "    .dataframe tbody tr th:only-of-type {\n",
       "        vertical-align: middle;\n",
       "    }\n",
       "\n",
       "    .dataframe tbody tr th {\n",
       "        vertical-align: top;\n",
       "    }\n",
       "\n",
       "    .dataframe thead th {\n",
       "        text-align: right;\n",
       "    }\n",
       "</style>\n",
       "<table border=\"1\" class=\"dataframe\">\n",
       "  <thead>\n",
       "    <tr style=\"text-align: right;\">\n",
       "      <th></th>\n",
       "      <th>station</th>\n",
       "      <th>valueTreefraction</th>\n",
       "      <th>valueImperviousfraction</th>\n",
       "      <th>valueTreefraction</th>\n",
       "      <th>valueBuildingheight</th>\n",
       "      <th>valueNearestDistWater</th>\n",
       "      <th>valueWaterfraction</th>\n",
       "    </tr>\n",
       "  </thead>\n",
       "  <tbody>\n",
       "    <tr>\n",
       "      <th>336</th>\n",
       "      <td>KWIMADIS138</td>\n",
       "      <td>41.0</td>\n",
       "      <td>22.25</td>\n",
       "      <td>41.0</td>\n",
       "      <td>11.898000</td>\n",
       "      <td>563.075838</td>\n",
       "      <td>0.0</td>\n",
       "    </tr>\n",
       "    <tr>\n",
       "      <th>1704</th>\n",
       "      <td>KWIMADIS352</td>\n",
       "      <td>6.0</td>\n",
       "      <td>68.00</td>\n",
       "      <td>6.0</td>\n",
       "      <td>13.292000</td>\n",
       "      <td>865.094029</td>\n",
       "      <td>0.0</td>\n",
       "    </tr>\n",
       "    <tr>\n",
       "      <th>1714</th>\n",
       "      <td>KWIMADIS352</td>\n",
       "      <td>6.0</td>\n",
       "      <td>68.00</td>\n",
       "      <td>6.0</td>\n",
       "      <td>13.292000</td>\n",
       "      <td>865.094029</td>\n",
       "      <td>0.0</td>\n",
       "    </tr>\n",
       "    <tr>\n",
       "      <th>1416</th>\n",
       "      <td>KWIMADIS334</td>\n",
       "      <td>9.5</td>\n",
       "      <td>60.75</td>\n",
       "      <td>9.5</td>\n",
       "      <td>16.256667</td>\n",
       "      <td>997.251216</td>\n",
       "      <td>0.0</td>\n",
       "    </tr>\n",
       "  </tbody>\n",
       "</table>\n",
       "</div>"
      ],
      "text/plain": [
       "          station  valueTreefraction  valueImperviousfraction  \\\n",
       "336   KWIMADIS138               41.0                    22.25   \n",
       "1704  KWIMADIS352                6.0                    68.00   \n",
       "1714  KWIMADIS352                6.0                    68.00   \n",
       "1416  KWIMADIS334                9.5                    60.75   \n",
       "\n",
       "      valueTreefraction  valueBuildingheight  valueNearestDistWater  \\\n",
       "336                41.0            11.898000             563.075838   \n",
       "1704                6.0            13.292000             865.094029   \n",
       "1714                6.0            13.292000             865.094029   \n",
       "1416                9.5            16.256667             997.251216   \n",
       "\n",
       "      valueWaterfraction  \n",
       "336                  0.0  \n",
       "1704                 0.0  \n",
       "1714                 0.0  \n",
       "1416                 0.0  "
      ]
     },
     "execution_count": 100,
     "metadata": {},
     "output_type": "execute_result"
    }
   ],
   "source": [
    "x = grouped_data[grouped_data.station.isin(outliers)]\n",
    "x[['station','valueTreefraction','valueImperviousfraction','valueTreefraction',\t'valueBuildingheight',\t'valueNearestDistWater',\t'valueWaterfraction']].drop_duplicates().sort_values('valueNearestDistWater')"
   ]
  },
  {
   "cell_type": "code",
   "execution_count": 81,
   "metadata": {},
   "outputs": [
    {
     "data": {
      "application/vnd.plotly.v1+json": {
       "config": {
        "plotlyServerURL": "https://plot.ly"
       },
       "data": [
        {
         "customdata": [
          [
           "KWIMADIS138"
          ],
          [
           "KWIMADIS233"
          ],
          [
           "KWIVERON48"
          ],
          [
           "KWIMADIS47"
          ],
          [
           "KWIMADIS301"
          ],
          [
           "KWIMADIS214"
          ]
         ],
         "hovertemplate": "hour=0<br>latitude=%{lat}<br>longitude=%{lon}<br>station=%{customdata[0]}<br>temperature=%{marker.color}<extra></extra>",
         "lat": [
          43.068901,
          43.110001,
          43.027,
          43.04549,
          43.031,
          43.000671
         ],
         "legendgroup": "",
         "lon": [
          -89.470978,
          -89.351997,
          -89.578003,
          -89.44694500000001,
          -89.468,
          -89.398628
         ],
         "marker": {
          "color": "black",
          "coloraxis": "coloraxis",
          "size": 14
         },
         "mode": "markers",
         "name": "",
         "showlegend": false,
         "subplot": "mapbox",
         "type": "scattermapbox"
        }
       ],
       "frames": [
        {
         "data": [
          {
           "customdata": [
            [
             "KWIMADIS138"
            ],
            [
             "KWIMADIS233"
            ],
            [
             "KWIVERON48"
            ],
            [
             "KWIMADIS47"
            ],
            [
             "KWIMADIS301"
            ],
            [
             "KWIMADIS214"
            ]
           ],
           "hovertemplate": "hour=0<br>latitude=%{lat}<br>longitude=%{lon}<br>station=%{customdata[0]}<br>temperature=%{marker.color}<extra></extra>",
           "lat": [
            43.068901,
            43.110001,
            43.027,
            43.04549,
            43.031,
            43.000671
           ],
           "legendgroup": "",
           "lon": [
            -89.470978,
            -89.351997,
            -89.578003,
            -89.44694500000001,
            -89.468,
            -89.398628
           ],
           "marker": {
            "color": [
             21.79310344827586,
             20.17241379310345,
             19.448275862068964,
             21.77777777777778,
             18.517241379310345,
             22.466656264627865
            ],
            "coloraxis": "coloraxis"
           },
           "mode": "markers",
           "name": "",
           "showlegend": false,
           "subplot": "mapbox",
           "type": "scattermapbox"
          }
         ],
         "name": "0"
        },
        {
         "data": [
          {
           "customdata": [
            [
             "KWIMADIS138"
            ],
            [
             "KWIMADIS233"
            ],
            [
             "KWIVERON48"
            ],
            [
             "KWIMADIS214"
            ],
            [
             "KWIMADIS47"
            ],
            [
             "KWIMADIS301"
            ]
           ],
           "hovertemplate": "hour=1<br>latitude=%{lat}<br>longitude=%{lon}<br>station=%{customdata[0]}<br>temperature=%{marker.color}<extra></extra>",
           "lat": [
            43.068901,
            43.110001,
            43.027,
            43.000671,
            43.04549,
            43.031
           ],
           "legendgroup": "",
           "lon": [
            -89.470978,
            -89.351997,
            -89.578003,
            -89.398628,
            -89.44694500000001,
            -89.468
           ],
           "marker": {
            "color": [
             21.275862068965516,
             19.448275862068964,
             19,
             21.929498696030134,
             21.48148148148148,
             18.06896551724138
            ],
            "coloraxis": "coloraxis"
           },
           "mode": "markers",
           "name": "",
           "showlegend": false,
           "subplot": "mapbox",
           "type": "scattermapbox"
          }
         ],
         "name": "1"
        },
        {
         "data": [
          {
           "customdata": [
            [
             "KWIMADIS138"
            ],
            [
             "KWIMADIS301"
            ],
            [
             "KWIMADIS47"
            ],
            [
             "KWIVERON48"
            ],
            [
             "KWIMADIS214"
            ],
            [
             "KWIMADIS233"
            ]
           ],
           "hovertemplate": "hour=2<br>latitude=%{lat}<br>longitude=%{lon}<br>station=%{customdata[0]}<br>temperature=%{marker.color}<extra></extra>",
           "lat": [
            43.068901,
            43.031,
            43.04549,
            43.027,
            43.000671,
            43.110001
           ],
           "legendgroup": "",
           "lon": [
            -89.470978,
            -89.468,
            -89.44694500000001,
            -89.578003,
            -89.398628,
            -89.351997
           ],
           "marker": {
            "color": [
             20.75862068965517,
             17.482758620689655,
             20.925925925925927,
             18.20689655172414,
             21.28889285157034,
             18.655172413793103
            ],
            "coloraxis": "coloraxis"
           },
           "mode": "markers",
           "name": "",
           "showlegend": false,
           "subplot": "mapbox",
           "type": "scattermapbox"
          }
         ],
         "name": "2"
        },
        {
         "data": [
          {
           "customdata": [
            [
             "KWIMADIS301"
            ],
            [
             "KWIMADIS47"
            ],
            [
             "KWIVERON48"
            ],
            [
             "KWIMADIS214"
            ],
            [
             "KWIMADIS233"
            ],
            [
             "KWIMADIS138"
            ]
           ],
           "hovertemplate": "hour=3<br>latitude=%{lat}<br>longitude=%{lon}<br>station=%{customdata[0]}<br>temperature=%{marker.color}<extra></extra>",
           "lat": [
            43.031,
            43.04549,
            43.027,
            43.000671,
            43.110001,
            43.068901
           ],
           "legendgroup": "",
           "lon": [
            -89.468,
            -89.44694500000001,
            -89.578003,
            -89.398628,
            -89.351997,
            -89.470978
           ],
           "marker": {
            "color": [
             17.103448275862068,
             20.77777777777778,
             17.896551724137932,
             20.855183558834675,
             18.103448275862068,
             20.20689655172414
            ],
            "coloraxis": "coloraxis"
           },
           "mode": "markers",
           "name": "",
           "showlegend": false,
           "subplot": "mapbox",
           "type": "scattermapbox"
          }
         ],
         "name": "3"
        },
        {
         "data": [
          {
           "customdata": [
            [
             "KWIMADIS47"
            ],
            [
             "KWIMADIS138"
            ],
            [
             "KWIMADIS214"
            ],
            [
             "KWIVERON48"
            ],
            [
             "KWIMADIS233"
            ],
            [
             "KWIMADIS301"
            ]
           ],
           "hovertemplate": "hour=4<br>latitude=%{lat}<br>longitude=%{lon}<br>station=%{customdata[0]}<br>temperature=%{marker.color}<extra></extra>",
           "lat": [
            43.04549,
            43.068901,
            43.000671,
            43.027,
            43.110001,
            43.031
           ],
           "legendgroup": "",
           "lon": [
            -89.44694500000001,
            -89.470978,
            -89.398628,
            -89.578003,
            -89.351997,
            -89.468
           ],
           "marker": {
            "color": [
             20.25925925925926,
             19.93103448275862,
             20.54175341224023,
             17.655172413793103,
             17.689655172413794,
             16.862068965517242
            ],
            "coloraxis": "coloraxis"
           },
           "mode": "markers",
           "name": "",
           "showlegend": false,
           "subplot": "mapbox",
           "type": "scattermapbox"
          }
         ],
         "name": "4"
        },
        {
         "data": [
          {
           "customdata": [
            [
             "KWIMADIS233"
            ],
            [
             "KWIMADIS138"
            ],
            [
             "KWIMADIS214"
            ],
            [
             "KWIVERON48"
            ],
            [
             "KWIMADIS301"
            ],
            [
             "KWIMADIS47"
            ]
           ],
           "hovertemplate": "hour=5<br>latitude=%{lat}<br>longitude=%{lon}<br>station=%{customdata[0]}<br>temperature=%{marker.color}<extra></extra>",
           "lat": [
            43.110001,
            43.068901,
            43.000671,
            43.027,
            43.031,
            43.04549
           ],
           "legendgroup": "",
           "lon": [
            -89.351997,
            -89.470978,
            -89.398628,
            -89.578003,
            -89.468,
            -89.44694500000001
           ],
           "marker": {
            "color": [
             17.517241379310345,
             19.689655172413794,
             20.322191953704557,
             17.17241379310345,
             16.620689655172413,
             20.22222222222222
            ],
            "coloraxis": "coloraxis"
           },
           "mode": "markers",
           "name": "",
           "showlegend": false,
           "subplot": "mapbox",
           "type": "scattermapbox"
          }
         ],
         "name": "5"
        },
        {
         "data": [
          {
           "customdata": [
            [
             "KWIMADIS301"
            ],
            [
             "KWIMADIS47"
            ],
            [
             "KWIMADIS138"
            ],
            [
             "KWIMADIS233"
            ],
            [
             "KWIMADIS214"
            ],
            [
             "KWIVERON48"
            ]
           ],
           "hovertemplate": "hour=6<br>latitude=%{lat}<br>longitude=%{lon}<br>station=%{customdata[0]}<br>temperature=%{marker.color}<extra></extra>",
           "lat": [
            43.031,
            43.04549,
            43.068901,
            43.110001,
            43.000671,
            43.027
           ],
           "legendgroup": "",
           "lon": [
            -89.468,
            -89.44694500000001,
            -89.470978,
            -89.351997,
            -89.398628,
            -89.578003
           ],
           "marker": {
            "color": [
             17.103448275862068,
             20.666666666666668,
             19.448275862068964,
             18.03448275862069,
             20.233282159017453,
             17.344827586206897
            ],
            "coloraxis": "coloraxis"
           },
           "mode": "markers",
           "name": "",
           "showlegend": false,
           "subplot": "mapbox",
           "type": "scattermapbox"
          }
         ],
         "name": "6"
        },
        {
         "data": [
          {
           "customdata": [
            [
             "KWIMADIS138"
            ],
            [
             "KWIMADIS301"
            ],
            [
             "KWIMADIS233"
            ],
            [
             "KWIMADIS47"
            ],
            [
             "KWIMADIS214"
            ],
            [
             "KWIVERON48"
            ]
           ],
           "hovertemplate": "hour=7<br>latitude=%{lat}<br>longitude=%{lon}<br>station=%{customdata[0]}<br>temperature=%{marker.color}<extra></extra>",
           "lat": [
            43.068901,
            43.031,
            43.110001,
            43.04549000000001,
            43.000671,
            43.027
           ],
           "legendgroup": "",
           "lon": [
            -89.470978,
            -89.468,
            -89.351997,
            -89.446945,
            -89.398628,
            -89.578003
           ],
           "marker": {
            "color": [
             19.655172413793103,
             18.93103448275862,
             19.586206896551722,
             22.392857142857142,
             20.910358758888172,
             18.482758620689655
            ],
            "coloraxis": "coloraxis"
           },
           "mode": "markers",
           "name": "",
           "showlegend": false,
           "subplot": "mapbox",
           "type": "scattermapbox"
          }
         ],
         "name": "7"
        },
        {
         "data": [
          {
           "customdata": [
            [
             "KWIVERON48"
            ],
            [
             "KWIMADIS301"
            ],
            [
             "KWIMADIS138"
            ],
            [
             "KWIMADIS47"
            ],
            [
             "KWIMADIS214"
            ],
            [
             "KWIMADIS233"
            ]
           ],
           "hovertemplate": "hour=8<br>latitude=%{lat}<br>longitude=%{lon}<br>station=%{customdata[0]}<br>temperature=%{marker.color}<extra></extra>",
           "lat": [
            43.027,
            43.031,
            43.068901,
            43.04549000000001,
            43.000671,
            43.110001
           ],
           "legendgroup": "",
           "lon": [
            -89.578003,
            -89.468,
            -89.470978,
            -89.446945,
            -89.398628,
            -89.351997
           ],
           "marker": {
            "color": [
             20.06896551724138,
             23.03448275862069,
             20.310344827586206,
             24.714285714285715,
             22.055110001560305,
             21.20689655172414
            ],
            "coloraxis": "coloraxis"
           },
           "mode": "markers",
           "name": "",
           "showlegend": false,
           "subplot": "mapbox",
           "type": "scattermapbox"
          }
         ],
         "name": "8"
        },
        {
         "data": [
          {
           "customdata": [
            [
             "KWIMADIS301"
            ],
            [
             "KWIMADIS47"
            ],
            [
             "KWIMADIS138"
            ],
            [
             "KWIVERON48"
            ],
            [
             "KWIMADIS233"
            ],
            [
             "KWIMADIS214"
            ]
           ],
           "hovertemplate": "hour=9<br>latitude=%{lat}<br>longitude=%{lon}<br>station=%{customdata[0]}<br>temperature=%{marker.color}<extra></extra>",
           "lat": [
            43.031,
            43.04549000000001,
            43.068901,
            43.027,
            43.110001,
            43.000671
           ],
           "legendgroup": "",
           "lon": [
            -89.468,
            -89.446945,
            -89.470978,
            -89.578003,
            -89.351997,
            -89.398628
           ],
           "marker": {
            "color": [
             26.620689655172413,
             26.607142857142858,
             21.24137931034483,
             21.896551724137932,
             23.586206896551722,
             23.700218442814794
            ],
            "coloraxis": "coloraxis"
           },
           "mode": "markers",
           "name": "",
           "showlegend": false,
           "subplot": "mapbox",
           "type": "scattermapbox"
          }
         ],
         "name": "9"
        },
        {
         "data": [
          {
           "customdata": [
            [
             "KWIMADIS233"
            ],
            [
             "KWIMADIS301"
            ],
            [
             "KWIVERON48"
            ],
            [
             "KWIMADIS47"
            ],
            [
             "KWIMADIS138"
            ],
            [
             "KWIMADIS214"
            ]
           ],
           "hovertemplate": "hour=10<br>latitude=%{lat}<br>longitude=%{lon}<br>station=%{customdata[0]}<br>temperature=%{marker.color}<extra></extra>",
           "lat": [
            43.110001,
            43.031,
            43.027,
            43.04549000000001,
            43.068901,
            43.000671
           ],
           "legendgroup": "",
           "lon": [
            -89.351997,
            -89.468,
            -89.578003,
            -89.446945,
            -89.470978,
            -89.398628
           ],
           "marker": {
            "color": [
             27.103448275862068,
             29,
             23.275862068965516,
             28.214285714285715,
             22.103448275862068,
             25.34532688406928
            ],
            "coloraxis": "coloraxis"
           },
           "mode": "markers",
           "name": "",
           "showlegend": false,
           "subplot": "mapbox",
           "type": "scattermapbox"
          }
         ],
         "name": "10"
        },
        {
         "data": [
          {
           "customdata": [
            [
             "KWIMADIS301"
            ],
            [
             "KWIMADIS47"
            ],
            [
             "KWIMADIS214"
            ],
            [
             "KWIMADIS138"
            ],
            [
             "KWIMADIS233"
            ],
            [
             "KWIVERON48"
            ]
           ],
           "hovertemplate": "hour=11<br>latitude=%{lat}<br>longitude=%{lon}<br>station=%{customdata[0]}<br>temperature=%{marker.color}<extra></extra>",
           "lat": [
            43.031,
            43.04549000000001,
            43.000671,
            43.068901,
            43.110001,
            43.027
           ],
           "legendgroup": "",
           "lon": [
            -89.468,
            -89.446945,
            -89.398628,
            -89.470978,
            -89.351997,
            -89.578003
           ],
           "marker": {
            "color": [
             30.103448275862068,
             29.285714285714285,
             26.507676704634108,
             22.79310344827586,
             29.689655172413794,
             24.275862068965516
            ],
            "coloraxis": "coloraxis"
           },
           "mode": "markers",
           "name": "",
           "showlegend": false,
           "subplot": "mapbox",
           "type": "scattermapbox"
          }
         ],
         "name": "11"
        },
        {
         "data": [
          {
           "customdata": [
            [
             "KWIMADIS47"
            ],
            [
             "KWIMADIS301"
            ],
            [
             "KWIMADIS138"
            ],
            [
             "KWIMADIS214"
            ],
            [
             "KWIVERON48"
            ],
            [
             "KWIMADIS233"
            ]
           ],
           "hovertemplate": "hour=12<br>latitude=%{lat}<br>longitude=%{lon}<br>station=%{customdata[0]}<br>temperature=%{marker.color}<extra></extra>",
           "lat": [
            43.04549000000001,
            43.031,
            43.068901,
            43.000671,
            43.027,
            43.110001
           ],
           "legendgroup": "",
           "lon": [
            -89.446945,
            -89.468,
            -89.470978,
            -89.398628,
            -89.578003,
            -89.351997
           ],
           "marker": {
            "color": [
             29.892857142857142,
             30.75862068965517,
             23.413793103448278,
             27.283554376657822,
             25.344827586206897,
             30.517241379310345
            ],
            "coloraxis": "coloraxis"
           },
           "mode": "markers",
           "name": "",
           "showlegend": false,
           "subplot": "mapbox",
           "type": "scattermapbox"
          }
         ],
         "name": "12"
        },
        {
         "data": [
          {
           "customdata": [
            [
             "KWIMADIS214"
            ],
            [
             "KWIMADIS233"
            ],
            [
             "KWIVERON48"
            ],
            [
             "KWIMADIS47"
            ],
            [
             "KWIMADIS138"
            ],
            [
             "KWIMADIS301"
            ]
           ],
           "hovertemplate": "hour=13<br>latitude=%{lat}<br>longitude=%{lon}<br>station=%{customdata[0]}<br>temperature=%{marker.color}<extra></extra>",
           "lat": [
            43.000671,
            43.110001,
            43.027,
            43.04549000000001,
            43.068901,
            43.031
           ],
           "legendgroup": "",
           "lon": [
            -89.398628,
            -89.351997,
            -89.578003,
            -89.446945,
            -89.470978,
            -89.468
           ],
           "marker": {
            "color": [
             27.96206896551724,
             31.413793103448278,
             26.285714285714285,
             30.178571428571427,
             24,
             31.586206896551722
            ],
            "coloraxis": "coloraxis"
           },
           "mode": "markers",
           "name": "",
           "showlegend": false,
           "subplot": "mapbox",
           "type": "scattermapbox"
          }
         ],
         "name": "13"
        },
        {
         "data": [
          {
           "customdata": [
            [
             "KWIVERON48"
            ],
            [
             "KWIMADIS301"
            ],
            [
             "KWIMADIS214"
            ],
            [
             "KWIMADIS138"
            ],
            [
             "KWIMADIS47"
            ],
            [
             "KWIMADIS233"
            ]
           ],
           "hovertemplate": "hour=14<br>latitude=%{lat}<br>longitude=%{lon}<br>station=%{customdata[0]}<br>temperature=%{marker.color}<extra></extra>",
           "lat": [
            43.027,
            43.031,
            43.000671,
            43.068901,
            43.04549000000001,
            43.110001
           ],
           "legendgroup": "",
           "lon": [
            -89.578003,
            -89.468,
            -89.398628,
            -89.470978,
            -89.446945,
            -89.351997
           ],
           "marker": {
            "color": [
             26.5,
             31.93103448275862,
             28.46816976127321,
             24.448275862068964,
             30.25,
             32.48275862068966
            ],
            "coloraxis": "coloraxis"
           },
           "mode": "markers",
           "name": "",
           "showlegend": false,
           "subplot": "mapbox",
           "type": "scattermapbox"
          }
         ],
         "name": "14"
        },
        {
         "data": [
          {
           "customdata": [
            [
             "KWIMADIS301"
            ],
            [
             "KWIVERON48"
            ],
            [
             "KWIMADIS138"
            ],
            [
             "KWIMADIS47"
            ],
            [
             "KWIMADIS233"
            ],
            [
             "KWIMADIS214"
            ]
           ],
           "hovertemplate": "hour=15<br>latitude=%{lat}<br>longitude=%{lon}<br>station=%{customdata[0]}<br>temperature=%{marker.color}<extra></extra>",
           "lat": [
            43.031,
            43.027,
            43.068901,
            43.04549000000001,
            43.110001,
            43.000671
           ],
           "legendgroup": "",
           "lon": [
            -89.468,
            -89.578003,
            -89.470978,
            -89.446945,
            -89.351997,
            -89.398628
           ],
           "marker": {
            "color": [
             31.517241379310345,
             26.464285714285715,
             24.586206896551722,
             29.607142857142858,
             32.724137931034484,
             28.453580901856764
            ],
            "coloraxis": "coloraxis"
           },
           "mode": "markers",
           "name": "",
           "showlegend": false,
           "subplot": "mapbox",
           "type": "scattermapbox"
          }
         ],
         "name": "15"
        },
        {
         "data": [
          {
           "customdata": [
            [
             "KWIMADIS301"
            ],
            [
             "KWIMADIS214"
            ],
            [
             "KWIMADIS138"
            ],
            [
             "KWIMADIS47"
            ],
            [
             "KWIVERON48"
            ],
            [
             "KWIMADIS233"
            ]
           ],
           "hovertemplate": "hour=16<br>latitude=%{lat}<br>longitude=%{lon}<br>station=%{customdata[0]}<br>temperature=%{marker.color}<extra></extra>",
           "lat": [
            43.031,
            43.000671,
            43.068901,
            43.04549,
            43.027,
            43.110001
           ],
           "legendgroup": "",
           "lon": [
            -89.468,
            -89.398628,
            -89.470978,
            -89.44694500000001,
            -89.578003,
            -89.351997
           ],
           "marker": {
            "color": [
             30.96551724137931,
             28.087533156498672,
             24.862068965517242,
             29.185185185185187,
             26.571428571428573,
             32.03448275862069
            ],
            "coloraxis": "coloraxis"
           },
           "mode": "markers",
           "name": "",
           "showlegend": false,
           "subplot": "mapbox",
           "type": "scattermapbox"
          }
         ],
         "name": "16"
        },
        {
         "data": [
          {
           "customdata": [
            [
             "KWIMADIS47"
            ],
            [
             "KWIVERON48"
            ],
            [
             "KWIMADIS214"
            ],
            [
             "KWIMADIS301"
            ],
            [
             "KWIMADIS233"
            ],
            [
             "KWIMADIS138"
            ]
           ],
           "hovertemplate": "hour=17<br>latitude=%{lat}<br>longitude=%{lon}<br>station=%{customdata[0]}<br>temperature=%{marker.color}<extra></extra>",
           "lat": [
            43.04549,
            43.027,
            43.000671,
            43.031,
            43.110001,
            43.068901
           ],
           "legendgroup": "",
           "lon": [
            -89.44694500000001,
            -89.578003,
            -89.398628,
            -89.468,
            -89.351997,
            -89.470978
           ],
           "marker": {
            "color": [
             28.22222222222222,
             26.107142857142858,
             27.307692307692307,
             30.275862068965516,
             30.06896551724138,
             24.724137931034484
            ],
            "coloraxis": "coloraxis"
           },
           "mode": "markers",
           "name": "",
           "showlegend": false,
           "subplot": "mapbox",
           "type": "scattermapbox"
          }
         ],
         "name": "17"
        },
        {
         "data": [
          {
           "customdata": [
            [
             "KWIMADIS301"
            ],
            [
             "KWIMADIS47"
            ],
            [
             "KWIMADIS214"
            ],
            [
             "KWIVERON48"
            ],
            [
             "KWIMADIS138"
            ],
            [
             "KWIMADIS233"
            ]
           ],
           "hovertemplate": "hour=18<br>latitude=%{lat}<br>longitude=%{lon}<br>station=%{customdata[0]}<br>temperature=%{marker.color}<extra></extra>",
           "lat": [
            43.031,
            43.04549000000001,
            43.000671,
            43.027,
            43.068901,
            43.110001
           ],
           "legendgroup": "",
           "lon": [
            -89.468,
            -89.446945,
            -89.398628,
            -89.578003,
            -89.470978,
            -89.351997
           ],
           "marker": {
            "color": [
             28.103448275862068,
             27.035714285714285,
             26.045092838196286,
             25.071428571428573,
             24.689655172413794,
             27.620689655172413
            ],
            "coloraxis": "coloraxis"
           },
           "mode": "markers",
           "name": "",
           "showlegend": false,
           "subplot": "mapbox",
           "type": "scattermapbox"
          }
         ],
         "name": "18"
        },
        {
         "data": [
          {
           "customdata": [
            [
             "KWIMADIS301"
            ],
            [
             "KWIMADIS138"
            ],
            [
             "KWIVERON48"
            ],
            [
             "KWIMADIS233"
            ],
            [
             "KWIMADIS47"
            ],
            [
             "KWIMADIS214"
            ]
           ],
           "hovertemplate": "hour=19<br>latitude=%{lat}<br>longitude=%{lon}<br>station=%{customdata[0]}<br>temperature=%{marker.color}<extra></extra>",
           "lat": [
            43.031,
            43.068901,
            43.027,
            43.110001,
            43.04549000000001,
            43.000671
           ],
           "legendgroup": "",
           "lon": [
            -89.468,
            -89.470978,
            -89.578003,
            -89.351997,
            -89.446945,
            -89.398628
           ],
           "marker": {
            "color": [
             25.24137931034483,
             24.413793103448278,
             23.821428571428573,
             27.17241379310345,
             26,
             26.44111405835544
            ],
            "coloraxis": "coloraxis"
           },
           "mode": "markers",
           "name": "",
           "showlegend": false,
           "subplot": "mapbox",
           "type": "scattermapbox"
          }
         ],
         "name": "19"
        },
        {
         "data": [
          {
           "customdata": [
            [
             "KWIMADIS138"
            ],
            [
             "KWIMADIS214"
            ],
            [
             "KWIMADIS233"
            ],
            [
             "KWIMADIS47"
            ],
            [
             "KWIMADIS301"
            ],
            [
             "KWIVERON48"
            ]
           ],
           "hovertemplate": "hour=20<br>latitude=%{lat}<br>longitude=%{lon}<br>station=%{customdata[0]}<br>temperature=%{marker.color}<extra></extra>",
           "lat": [
            43.068901,
            43.000671,
            43.110001,
            43.04549000000001,
            43.031,
            43.027
           ],
           "legendgroup": "",
           "lon": [
            -89.470978,
            -89.398628,
            -89.351997,
            -89.446945,
            -89.468,
            -89.578003
           ],
           "marker": {
            "color": [
             23.93103448275862,
             25.313808706506475,
             24.551724137931036,
             25,
             22.862068965517242,
             22.535714285714285
            ],
            "coloraxis": "coloraxis"
           },
           "mode": "markers",
           "name": "",
           "showlegend": false,
           "subplot": "mapbox",
           "type": "scattermapbox"
          }
         ],
         "name": "20"
        },
        {
         "data": [
          {
           "customdata": [
            [
             "KWIMADIS214"
            ],
            [
             "KWIMADIS47"
            ],
            [
             "KWIMADIS233"
            ],
            [
             "KWIVERON48"
            ],
            [
             "KWIMADIS138"
            ],
            [
             "KWIMADIS301"
            ]
           ],
           "hovertemplate": "hour=21<br>latitude=%{lat}<br>longitude=%{lon}<br>station=%{customdata[0]}<br>temperature=%{marker.color}<extra></extra>",
           "lat": [
            43.000671,
            43.04549,
            43.110001,
            43.027,
            43.068901,
            43.031
           ],
           "legendgroup": "",
           "lon": [
            -89.398628,
            -89.44694500000001,
            -89.351997,
            -89.578003,
            -89.470978,
            -89.468
           ],
           "marker": {
            "color": [
             24.442660990125496,
             24.22222222222222,
             22.620689655172413,
             21.392857142857142,
             23.20689655172414,
             20.862068965517242
            ],
            "coloraxis": "coloraxis"
           },
           "mode": "markers",
           "name": "",
           "showlegend": false,
           "subplot": "mapbox",
           "type": "scattermapbox"
          }
         ],
         "name": "21"
        },
        {
         "data": [
          {
           "customdata": [
            [
             "KWIMADIS214"
            ],
            [
             "KWIMADIS47"
            ],
            [
             "KWIMADIS138"
            ],
            [
             "KWIMADIS233"
            ],
            [
             "KWIVERON48"
            ],
            [
             "KWIMADIS301"
            ]
           ],
           "hovertemplate": "hour=22<br>latitude=%{lat}<br>longitude=%{lon}<br>station=%{customdata[0]}<br>temperature=%{marker.color}<extra></extra>",
           "lat": [
            43.000671,
            43.04549,
            43.068901,
            43.110001,
            43.027,
            43.031
           ],
           "legendgroup": "",
           "lon": [
            -89.398628,
            -89.44694500000001,
            -89.470978,
            -89.351997,
            -89.578003,
            -89.468
           ],
           "marker": {
            "color": [
             23.654271894434167,
             23.51851851851852,
             22.75862068965517,
             21.379310344827587,
             20.857142857142858,
             19.82758620689655
            ],
            "coloraxis": "coloraxis"
           },
           "mode": "markers",
           "name": "",
           "showlegend": false,
           "subplot": "mapbox",
           "type": "scattermapbox"
          }
         ],
         "name": "22"
        },
        {
         "data": [
          {
           "customdata": [
            [
             "KWIMADIS233"
            ],
            [
             "KWIMADIS301"
            ],
            [
             "KWIMADIS214"
            ],
            [
             "KWIMADIS138"
            ],
            [
             "KWIMADIS47"
            ],
            [
             "KWIVERON48"
            ]
           ],
           "hovertemplate": "hour=23<br>latitude=%{lat}<br>longitude=%{lon}<br>station=%{customdata[0]}<br>temperature=%{marker.color}<extra></extra>",
           "lat": [
            43.110001,
            43.031,
            43.000671,
            43.068901,
            43.04549,
            43.027
           ],
           "legendgroup": "",
           "lon": [
            -89.351997,
            -89.468,
            -89.398628,
            -89.470978,
            -89.44694500000001,
            -89.578003
           ],
           "marker": {
            "color": [
             20.75862068965517,
             19.24137931034483,
             23.107262109087667,
             22.413793103448278,
             22.925925925925927,
             20.25
            ],
            "coloraxis": "coloraxis"
           },
           "mode": "markers",
           "name": "",
           "showlegend": false,
           "subplot": "mapbox",
           "type": "scattermapbox"
          }
         ],
         "name": "23"
        }
       ],
       "layout": {
        "coloraxis": {
         "colorbar": {
          "title": {
           "text": "temperature"
          }
         },
         "colorscale": [
          [
           0,
           "rgb(3, 35, 51)"
          ],
          [
           0.09090909090909091,
           "rgb(13, 48, 100)"
          ],
          [
           0.18181818181818182,
           "rgb(53, 50, 155)"
          ],
          [
           0.2727272727272727,
           "rgb(93, 62, 153)"
          ],
          [
           0.36363636363636365,
           "rgb(126, 77, 143)"
          ],
          [
           0.45454545454545453,
           "rgb(158, 89, 135)"
          ],
          [
           0.5454545454545454,
           "rgb(193, 100, 121)"
          ],
          [
           0.6363636363636364,
           "rgb(225, 113, 97)"
          ],
          [
           0.7272727272727273,
           "rgb(246, 139, 69)"
          ],
          [
           0.8181818181818182,
           "rgb(251, 173, 60)"
          ],
          [
           0.9090909090909091,
           "rgb(246, 211, 70)"
          ],
          [
           1,
           "rgb(231, 250, 90)"
          ]
         ]
        },
        "height": 710,
        "legend": {
         "tracegroupgap": 0
        },
        "mapbox": {
         "center": {
          "lat": 43.04717716666666,
          "lon": -89.45242516666667
         },
         "domain": {
          "x": [
           0,
           1
          ],
          "y": [
           0,
           1
          ]
         },
         "style": "open-street-map",
         "zoom": 8
        },
        "margin": {
         "b": 0,
         "l": 0,
         "r": 0,
         "t": 0
        },
        "sliders": [
         {
          "active": 0,
          "currentvalue": {
           "prefix": "hour="
          },
          "len": 0.9,
          "pad": {
           "b": 10,
           "t": 60
          },
          "steps": [
           {
            "args": [
             [
              "0"
             ],
             {
              "frame": {
               "duration": 0,
               "redraw": true
              },
              "fromcurrent": true,
              "mode": "immediate",
              "transition": {
               "duration": 0,
               "easing": "linear"
              }
             }
            ],
            "label": "0",
            "method": "animate"
           },
           {
            "args": [
             [
              "1"
             ],
             {
              "frame": {
               "duration": 0,
               "redraw": true
              },
              "fromcurrent": true,
              "mode": "immediate",
              "transition": {
               "duration": 0,
               "easing": "linear"
              }
             }
            ],
            "label": "1",
            "method": "animate"
           },
           {
            "args": [
             [
              "2"
             ],
             {
              "frame": {
               "duration": 0,
               "redraw": true
              },
              "fromcurrent": true,
              "mode": "immediate",
              "transition": {
               "duration": 0,
               "easing": "linear"
              }
             }
            ],
            "label": "2",
            "method": "animate"
           },
           {
            "args": [
             [
              "3"
             ],
             {
              "frame": {
               "duration": 0,
               "redraw": true
              },
              "fromcurrent": true,
              "mode": "immediate",
              "transition": {
               "duration": 0,
               "easing": "linear"
              }
             }
            ],
            "label": "3",
            "method": "animate"
           },
           {
            "args": [
             [
              "4"
             ],
             {
              "frame": {
               "duration": 0,
               "redraw": true
              },
              "fromcurrent": true,
              "mode": "immediate",
              "transition": {
               "duration": 0,
               "easing": "linear"
              }
             }
            ],
            "label": "4",
            "method": "animate"
           },
           {
            "args": [
             [
              "5"
             ],
             {
              "frame": {
               "duration": 0,
               "redraw": true
              },
              "fromcurrent": true,
              "mode": "immediate",
              "transition": {
               "duration": 0,
               "easing": "linear"
              }
             }
            ],
            "label": "5",
            "method": "animate"
           },
           {
            "args": [
             [
              "6"
             ],
             {
              "frame": {
               "duration": 0,
               "redraw": true
              },
              "fromcurrent": true,
              "mode": "immediate",
              "transition": {
               "duration": 0,
               "easing": "linear"
              }
             }
            ],
            "label": "6",
            "method": "animate"
           },
           {
            "args": [
             [
              "7"
             ],
             {
              "frame": {
               "duration": 0,
               "redraw": true
              },
              "fromcurrent": true,
              "mode": "immediate",
              "transition": {
               "duration": 0,
               "easing": "linear"
              }
             }
            ],
            "label": "7",
            "method": "animate"
           },
           {
            "args": [
             [
              "8"
             ],
             {
              "frame": {
               "duration": 0,
               "redraw": true
              },
              "fromcurrent": true,
              "mode": "immediate",
              "transition": {
               "duration": 0,
               "easing": "linear"
              }
             }
            ],
            "label": "8",
            "method": "animate"
           },
           {
            "args": [
             [
              "9"
             ],
             {
              "frame": {
               "duration": 0,
               "redraw": true
              },
              "fromcurrent": true,
              "mode": "immediate",
              "transition": {
               "duration": 0,
               "easing": "linear"
              }
             }
            ],
            "label": "9",
            "method": "animate"
           },
           {
            "args": [
             [
              "10"
             ],
             {
              "frame": {
               "duration": 0,
               "redraw": true
              },
              "fromcurrent": true,
              "mode": "immediate",
              "transition": {
               "duration": 0,
               "easing": "linear"
              }
             }
            ],
            "label": "10",
            "method": "animate"
           },
           {
            "args": [
             [
              "11"
             ],
             {
              "frame": {
               "duration": 0,
               "redraw": true
              },
              "fromcurrent": true,
              "mode": "immediate",
              "transition": {
               "duration": 0,
               "easing": "linear"
              }
             }
            ],
            "label": "11",
            "method": "animate"
           },
           {
            "args": [
             [
              "12"
             ],
             {
              "frame": {
               "duration": 0,
               "redraw": true
              },
              "fromcurrent": true,
              "mode": "immediate",
              "transition": {
               "duration": 0,
               "easing": "linear"
              }
             }
            ],
            "label": "12",
            "method": "animate"
           },
           {
            "args": [
             [
              "13"
             ],
             {
              "frame": {
               "duration": 0,
               "redraw": true
              },
              "fromcurrent": true,
              "mode": "immediate",
              "transition": {
               "duration": 0,
               "easing": "linear"
              }
             }
            ],
            "label": "13",
            "method": "animate"
           },
           {
            "args": [
             [
              "14"
             ],
             {
              "frame": {
               "duration": 0,
               "redraw": true
              },
              "fromcurrent": true,
              "mode": "immediate",
              "transition": {
               "duration": 0,
               "easing": "linear"
              }
             }
            ],
            "label": "14",
            "method": "animate"
           },
           {
            "args": [
             [
              "15"
             ],
             {
              "frame": {
               "duration": 0,
               "redraw": true
              },
              "fromcurrent": true,
              "mode": "immediate",
              "transition": {
               "duration": 0,
               "easing": "linear"
              }
             }
            ],
            "label": "15",
            "method": "animate"
           },
           {
            "args": [
             [
              "16"
             ],
             {
              "frame": {
               "duration": 0,
               "redraw": true
              },
              "fromcurrent": true,
              "mode": "immediate",
              "transition": {
               "duration": 0,
               "easing": "linear"
              }
             }
            ],
            "label": "16",
            "method": "animate"
           },
           {
            "args": [
             [
              "17"
             ],
             {
              "frame": {
               "duration": 0,
               "redraw": true
              },
              "fromcurrent": true,
              "mode": "immediate",
              "transition": {
               "duration": 0,
               "easing": "linear"
              }
             }
            ],
            "label": "17",
            "method": "animate"
           },
           {
            "args": [
             [
              "18"
             ],
             {
              "frame": {
               "duration": 0,
               "redraw": true
              },
              "fromcurrent": true,
              "mode": "immediate",
              "transition": {
               "duration": 0,
               "easing": "linear"
              }
             }
            ],
            "label": "18",
            "method": "animate"
           },
           {
            "args": [
             [
              "19"
             ],
             {
              "frame": {
               "duration": 0,
               "redraw": true
              },
              "fromcurrent": true,
              "mode": "immediate",
              "transition": {
               "duration": 0,
               "easing": "linear"
              }
             }
            ],
            "label": "19",
            "method": "animate"
           },
           {
            "args": [
             [
              "20"
             ],
             {
              "frame": {
               "duration": 0,
               "redraw": true
              },
              "fromcurrent": true,
              "mode": "immediate",
              "transition": {
               "duration": 0,
               "easing": "linear"
              }
             }
            ],
            "label": "20",
            "method": "animate"
           },
           {
            "args": [
             [
              "21"
             ],
             {
              "frame": {
               "duration": 0,
               "redraw": true
              },
              "fromcurrent": true,
              "mode": "immediate",
              "transition": {
               "duration": 0,
               "easing": "linear"
              }
             }
            ],
            "label": "21",
            "method": "animate"
           },
           {
            "args": [
             [
              "22"
             ],
             {
              "frame": {
               "duration": 0,
               "redraw": true
              },
              "fromcurrent": true,
              "mode": "immediate",
              "transition": {
               "duration": 0,
               "easing": "linear"
              }
             }
            ],
            "label": "22",
            "method": "animate"
           },
           {
            "args": [
             [
              "23"
             ],
             {
              "frame": {
               "duration": 0,
               "redraw": true
              },
              "fromcurrent": true,
              "mode": "immediate",
              "transition": {
               "duration": 0,
               "easing": "linear"
              }
             }
            ],
            "label": "23",
            "method": "animate"
           }
          ],
          "x": 0.1,
          "xanchor": "left",
          "y": 0,
          "yanchor": "top"
         }
        ],
        "template": {
         "data": {
          "bar": [
           {
            "error_x": {
             "color": "#2a3f5f"
            },
            "error_y": {
             "color": "#2a3f5f"
            },
            "marker": {
             "line": {
              "color": "#E5ECF6",
              "width": 0.5
             },
             "pattern": {
              "fillmode": "overlay",
              "size": 10,
              "solidity": 0.2
             }
            },
            "type": "bar"
           }
          ],
          "barpolar": [
           {
            "marker": {
             "line": {
              "color": "#E5ECF6",
              "width": 0.5
             },
             "pattern": {
              "fillmode": "overlay",
              "size": 10,
              "solidity": 0.2
             }
            },
            "type": "barpolar"
           }
          ],
          "carpet": [
           {
            "aaxis": {
             "endlinecolor": "#2a3f5f",
             "gridcolor": "white",
             "linecolor": "white",
             "minorgridcolor": "white",
             "startlinecolor": "#2a3f5f"
            },
            "baxis": {
             "endlinecolor": "#2a3f5f",
             "gridcolor": "white",
             "linecolor": "white",
             "minorgridcolor": "white",
             "startlinecolor": "#2a3f5f"
            },
            "type": "carpet"
           }
          ],
          "choropleth": [
           {
            "colorbar": {
             "outlinewidth": 0,
             "ticks": ""
            },
            "type": "choropleth"
           }
          ],
          "contour": [
           {
            "colorbar": {
             "outlinewidth": 0,
             "ticks": ""
            },
            "colorscale": [
             [
              0,
              "#0d0887"
             ],
             [
              0.1111111111111111,
              "#46039f"
             ],
             [
              0.2222222222222222,
              "#7201a8"
             ],
             [
              0.3333333333333333,
              "#9c179e"
             ],
             [
              0.4444444444444444,
              "#bd3786"
             ],
             [
              0.5555555555555556,
              "#d8576b"
             ],
             [
              0.6666666666666666,
              "#ed7953"
             ],
             [
              0.7777777777777778,
              "#fb9f3a"
             ],
             [
              0.8888888888888888,
              "#fdca26"
             ],
             [
              1,
              "#f0f921"
             ]
            ],
            "type": "contour"
           }
          ],
          "contourcarpet": [
           {
            "colorbar": {
             "outlinewidth": 0,
             "ticks": ""
            },
            "type": "contourcarpet"
           }
          ],
          "heatmap": [
           {
            "colorbar": {
             "outlinewidth": 0,
             "ticks": ""
            },
            "colorscale": [
             [
              0,
              "#0d0887"
             ],
             [
              0.1111111111111111,
              "#46039f"
             ],
             [
              0.2222222222222222,
              "#7201a8"
             ],
             [
              0.3333333333333333,
              "#9c179e"
             ],
             [
              0.4444444444444444,
              "#bd3786"
             ],
             [
              0.5555555555555556,
              "#d8576b"
             ],
             [
              0.6666666666666666,
              "#ed7953"
             ],
             [
              0.7777777777777778,
              "#fb9f3a"
             ],
             [
              0.8888888888888888,
              "#fdca26"
             ],
             [
              1,
              "#f0f921"
             ]
            ],
            "type": "heatmap"
           }
          ],
          "heatmapgl": [
           {
            "colorbar": {
             "outlinewidth": 0,
             "ticks": ""
            },
            "colorscale": [
             [
              0,
              "#0d0887"
             ],
             [
              0.1111111111111111,
              "#46039f"
             ],
             [
              0.2222222222222222,
              "#7201a8"
             ],
             [
              0.3333333333333333,
              "#9c179e"
             ],
             [
              0.4444444444444444,
              "#bd3786"
             ],
             [
              0.5555555555555556,
              "#d8576b"
             ],
             [
              0.6666666666666666,
              "#ed7953"
             ],
             [
              0.7777777777777778,
              "#fb9f3a"
             ],
             [
              0.8888888888888888,
              "#fdca26"
             ],
             [
              1,
              "#f0f921"
             ]
            ],
            "type": "heatmapgl"
           }
          ],
          "histogram": [
           {
            "marker": {
             "pattern": {
              "fillmode": "overlay",
              "size": 10,
              "solidity": 0.2
             }
            },
            "type": "histogram"
           }
          ],
          "histogram2d": [
           {
            "colorbar": {
             "outlinewidth": 0,
             "ticks": ""
            },
            "colorscale": [
             [
              0,
              "#0d0887"
             ],
             [
              0.1111111111111111,
              "#46039f"
             ],
             [
              0.2222222222222222,
              "#7201a8"
             ],
             [
              0.3333333333333333,
              "#9c179e"
             ],
             [
              0.4444444444444444,
              "#bd3786"
             ],
             [
              0.5555555555555556,
              "#d8576b"
             ],
             [
              0.6666666666666666,
              "#ed7953"
             ],
             [
              0.7777777777777778,
              "#fb9f3a"
             ],
             [
              0.8888888888888888,
              "#fdca26"
             ],
             [
              1,
              "#f0f921"
             ]
            ],
            "type": "histogram2d"
           }
          ],
          "histogram2dcontour": [
           {
            "colorbar": {
             "outlinewidth": 0,
             "ticks": ""
            },
            "colorscale": [
             [
              0,
              "#0d0887"
             ],
             [
              0.1111111111111111,
              "#46039f"
             ],
             [
              0.2222222222222222,
              "#7201a8"
             ],
             [
              0.3333333333333333,
              "#9c179e"
             ],
             [
              0.4444444444444444,
              "#bd3786"
             ],
             [
              0.5555555555555556,
              "#d8576b"
             ],
             [
              0.6666666666666666,
              "#ed7953"
             ],
             [
              0.7777777777777778,
              "#fb9f3a"
             ],
             [
              0.8888888888888888,
              "#fdca26"
             ],
             [
              1,
              "#f0f921"
             ]
            ],
            "type": "histogram2dcontour"
           }
          ],
          "mesh3d": [
           {
            "colorbar": {
             "outlinewidth": 0,
             "ticks": ""
            },
            "type": "mesh3d"
           }
          ],
          "parcoords": [
           {
            "line": {
             "colorbar": {
              "outlinewidth": 0,
              "ticks": ""
             }
            },
            "type": "parcoords"
           }
          ],
          "pie": [
           {
            "automargin": true,
            "type": "pie"
           }
          ],
          "scatter": [
           {
            "marker": {
             "colorbar": {
              "outlinewidth": 0,
              "ticks": ""
             }
            },
            "type": "scatter"
           }
          ],
          "scatter3d": [
           {
            "line": {
             "colorbar": {
              "outlinewidth": 0,
              "ticks": ""
             }
            },
            "marker": {
             "colorbar": {
              "outlinewidth": 0,
              "ticks": ""
             }
            },
            "type": "scatter3d"
           }
          ],
          "scattercarpet": [
           {
            "marker": {
             "colorbar": {
              "outlinewidth": 0,
              "ticks": ""
             }
            },
            "type": "scattercarpet"
           }
          ],
          "scattergeo": [
           {
            "marker": {
             "colorbar": {
              "outlinewidth": 0,
              "ticks": ""
             }
            },
            "type": "scattergeo"
           }
          ],
          "scattergl": [
           {
            "marker": {
             "colorbar": {
              "outlinewidth": 0,
              "ticks": ""
             }
            },
            "type": "scattergl"
           }
          ],
          "scattermapbox": [
           {
            "marker": {
             "colorbar": {
              "outlinewidth": 0,
              "ticks": ""
             }
            },
            "type": "scattermapbox"
           }
          ],
          "scatterpolar": [
           {
            "marker": {
             "colorbar": {
              "outlinewidth": 0,
              "ticks": ""
             }
            },
            "type": "scatterpolar"
           }
          ],
          "scatterpolargl": [
           {
            "marker": {
             "colorbar": {
              "outlinewidth": 0,
              "ticks": ""
             }
            },
            "type": "scatterpolargl"
           }
          ],
          "scatterternary": [
           {
            "marker": {
             "colorbar": {
              "outlinewidth": 0,
              "ticks": ""
             }
            },
            "type": "scatterternary"
           }
          ],
          "surface": [
           {
            "colorbar": {
             "outlinewidth": 0,
             "ticks": ""
            },
            "colorscale": [
             [
              0,
              "#0d0887"
             ],
             [
              0.1111111111111111,
              "#46039f"
             ],
             [
              0.2222222222222222,
              "#7201a8"
             ],
             [
              0.3333333333333333,
              "#9c179e"
             ],
             [
              0.4444444444444444,
              "#bd3786"
             ],
             [
              0.5555555555555556,
              "#d8576b"
             ],
             [
              0.6666666666666666,
              "#ed7953"
             ],
             [
              0.7777777777777778,
              "#fb9f3a"
             ],
             [
              0.8888888888888888,
              "#fdca26"
             ],
             [
              1,
              "#f0f921"
             ]
            ],
            "type": "surface"
           }
          ],
          "table": [
           {
            "cells": {
             "fill": {
              "color": "#EBF0F8"
             },
             "line": {
              "color": "white"
             }
            },
            "header": {
             "fill": {
              "color": "#C8D4E3"
             },
             "line": {
              "color": "white"
             }
            },
            "type": "table"
           }
          ]
         },
         "layout": {
          "annotationdefaults": {
           "arrowcolor": "#2a3f5f",
           "arrowhead": 0,
           "arrowwidth": 1
          },
          "autotypenumbers": "strict",
          "coloraxis": {
           "colorbar": {
            "outlinewidth": 0,
            "ticks": ""
           }
          },
          "colorscale": {
           "diverging": [
            [
             0,
             "#8e0152"
            ],
            [
             0.1,
             "#c51b7d"
            ],
            [
             0.2,
             "#de77ae"
            ],
            [
             0.3,
             "#f1b6da"
            ],
            [
             0.4,
             "#fde0ef"
            ],
            [
             0.5,
             "#f7f7f7"
            ],
            [
             0.6,
             "#e6f5d0"
            ],
            [
             0.7,
             "#b8e186"
            ],
            [
             0.8,
             "#7fbc41"
            ],
            [
             0.9,
             "#4d9221"
            ],
            [
             1,
             "#276419"
            ]
           ],
           "sequential": [
            [
             0,
             "#0d0887"
            ],
            [
             0.1111111111111111,
             "#46039f"
            ],
            [
             0.2222222222222222,
             "#7201a8"
            ],
            [
             0.3333333333333333,
             "#9c179e"
            ],
            [
             0.4444444444444444,
             "#bd3786"
            ],
            [
             0.5555555555555556,
             "#d8576b"
            ],
            [
             0.6666666666666666,
             "#ed7953"
            ],
            [
             0.7777777777777778,
             "#fb9f3a"
            ],
            [
             0.8888888888888888,
             "#fdca26"
            ],
            [
             1,
             "#f0f921"
            ]
           ],
           "sequentialminus": [
            [
             0,
             "#0d0887"
            ],
            [
             0.1111111111111111,
             "#46039f"
            ],
            [
             0.2222222222222222,
             "#7201a8"
            ],
            [
             0.3333333333333333,
             "#9c179e"
            ],
            [
             0.4444444444444444,
             "#bd3786"
            ],
            [
             0.5555555555555556,
             "#d8576b"
            ],
            [
             0.6666666666666666,
             "#ed7953"
            ],
            [
             0.7777777777777778,
             "#fb9f3a"
            ],
            [
             0.8888888888888888,
             "#fdca26"
            ],
            [
             1,
             "#f0f921"
            ]
           ]
          },
          "colorway": [
           "#636efa",
           "#EF553B",
           "#00cc96",
           "#ab63fa",
           "#FFA15A",
           "#19d3f3",
           "#FF6692",
           "#B6E880",
           "#FF97FF",
           "#FECB52"
          ],
          "font": {
           "color": "#2a3f5f"
          },
          "geo": {
           "bgcolor": "white",
           "lakecolor": "white",
           "landcolor": "#E5ECF6",
           "showlakes": true,
           "showland": true,
           "subunitcolor": "white"
          },
          "hoverlabel": {
           "align": "left"
          },
          "hovermode": "closest",
          "mapbox": {
           "style": "light"
          },
          "paper_bgcolor": "white",
          "plot_bgcolor": "#E5ECF6",
          "polar": {
           "angularaxis": {
            "gridcolor": "white",
            "linecolor": "white",
            "ticks": ""
           },
           "bgcolor": "#E5ECF6",
           "radialaxis": {
            "gridcolor": "white",
            "linecolor": "white",
            "ticks": ""
           }
          },
          "scene": {
           "xaxis": {
            "backgroundcolor": "#E5ECF6",
            "gridcolor": "white",
            "gridwidth": 2,
            "linecolor": "white",
            "showbackground": true,
            "ticks": "",
            "zerolinecolor": "white"
           },
           "yaxis": {
            "backgroundcolor": "#E5ECF6",
            "gridcolor": "white",
            "gridwidth": 2,
            "linecolor": "white",
            "showbackground": true,
            "ticks": "",
            "zerolinecolor": "white"
           },
           "zaxis": {
            "backgroundcolor": "#E5ECF6",
            "gridcolor": "white",
            "gridwidth": 2,
            "linecolor": "white",
            "showbackground": true,
            "ticks": "",
            "zerolinecolor": "white"
           }
          },
          "shapedefaults": {
           "line": {
            "color": "#2a3f5f"
           }
          },
          "ternary": {
           "aaxis": {
            "gridcolor": "white",
            "linecolor": "white",
            "ticks": ""
           },
           "baxis": {
            "gridcolor": "white",
            "linecolor": "white",
            "ticks": ""
           },
           "bgcolor": "#E5ECF6",
           "caxis": {
            "gridcolor": "white",
            "linecolor": "white",
            "ticks": ""
           }
          },
          "title": {
           "x": 0.05
          },
          "xaxis": {
           "automargin": true,
           "gridcolor": "white",
           "linecolor": "white",
           "ticks": "",
           "title": {
            "standoff": 15
           },
           "zerolinecolor": "white",
           "zerolinewidth": 2
          },
          "yaxis": {
           "automargin": true,
           "gridcolor": "white",
           "linecolor": "white",
           "ticks": "",
           "title": {
            "standoff": 15
           },
           "zerolinecolor": "white",
           "zerolinewidth": 2
          }
         }
        },
        "updatemenus": [
         {
          "buttons": [
           {
            "args": [
             null,
             {
              "frame": {
               "duration": 200,
               "redraw": true
              },
              "fromcurrent": true,
              "mode": "immediate",
              "transition": {
               "duration": 500,
               "easing": "linear"
              }
             }
            ],
            "label": "&#9654;",
            "method": "animate"
           },
           {
            "args": [
             [
              null
             ],
             {
              "frame": {
               "duration": 0,
               "redraw": true
              },
              "fromcurrent": true,
              "mode": "immediate",
              "transition": {
               "duration": 0,
               "easing": "linear"
              }
             }
            ],
            "label": "&#9724;",
            "method": "animate"
           }
          ],
          "direction": "left",
          "pad": {
           "r": 10,
           "t": 70
          },
          "showactive": false,
          "type": "buttons",
          "x": 0.1,
          "xanchor": "right",
          "y": 0,
          "yanchor": "top"
         }
        ]
       }
      }
     },
     "metadata": {},
     "output_type": "display_data"
    }
   ],
   "source": [
    "visualizer.plot_(x,'hour',resample=False)"
   ]
  },
  {
   "cell_type": "code",
   "execution_count": 101,
   "metadata": {},
   "outputs": [
    {
     "data": {
      "text/plain": [
       "<module 'matplotlib.pyplot' from '/Users/gaurav/opt/anaconda3/lib/python3.9/site-packages/matplotlib/pyplot.py'>"
      ]
     },
     "execution_count": 101,
     "metadata": {},
     "output_type": "execute_result"
    },
    {
     "data": {
      "image/png": "[encoded data removed]",
      "text/plain": [
       "<Figure size 864x576 with 1 Axes>"
      ]
     },
     "metadata": {
      "needs_background": "light"
     },
     "output_type": "display_data"
    }
   ],
   "source": [
    "cqc.level_1_plot(grouped_data)\n"
   ]
  },
  {
   "cell_type": "code",
   "execution_count": 84,
   "metadata": {},
   "outputs": [
    {
     "name": "stdout",
     "output_type": "stream",
     "text": [
      "Residuals are being subtracted from data\n",
      "Hour lookup saved in Analytics/temp_data/hour_lookup.csv\n",
      "Model Saved : /Users/gaurav/UAH/temperature_modelling/Resources/trained_models/RandomForestRegressor/RandomForestRegressor_0.sav\n",
      "Residuals are being added back to the predictions\n",
      "Time at which model ran : 01/11/24 15:34:26\n"
     ]
    },
    {
     "data": {
      "image/png": "[encoded data removed]",
      "text/plain": [
       "<Figure size 432x288 with 1 Axes>"
      ]
     },
     "metadata": {
      "needs_background": "light"
     },
     "output_type": "display_data"
    },
    {
     "data": {
      "image/png": "[encoded data removed]",
      "text/plain": [
       "<Figure size 432x288 with 1 Axes>"
      ]
     },
     "metadata": {
      "needs_background": "light"
     },
     "output_type": "display_data"
    },
    {
     "data": {
      "image/png": "[encoded data removed]",
      "text/plain": [
       "<Figure size 432x288 with 1 Axes>"
      ]
     },
     "metadata": {
      "needs_background": "light"
     },
     "output_type": "display_data"
    }
   ],
   "source": [
    "from sklearn.ensemble import RandomForestRegressor\n",
    "\n",
    "col_list = [\n",
    "    # 'latitude', 'longitude', \n",
    "            'hour', \n",
    "            'closest_station_1_temp',\n",
    "            # 'closest_1_distance',\n",
    "      #  'day_of_year', \n",
    "       'adjusted_lst',\n",
    "       'valueImperviousfraction', 'valueTreefraction', 'valueBuildingheight',\n",
    "      #  'valueNearestDistWater',\n",
    "         'valueWaterfraction', 'valueBuildingfraction']\n",
    "\n",
    "rrf = RandomForestRegressor(max_depth=20, min_samples_leaf=2, min_samples_split=8,\n",
    "                            n_estimators=300)\n",
    "\n",
    "\n",
    "# model_dict = bulk_model_runner(rrf,grouped_data,col_list,bulk_mode=False,delete=True)\n",
    "# visualizer.plot_mean(model_dict,'Random Forest',col_list)\n",
    "\n",
    "model_dict = bulk_model_runner(rrf,grouped_data2,col_list,bulk_mode=False,delete=True,residuals=True)\n",
    "visualizer.plot_mean(model_dict,'Random Forest',col_list)\n",
    "\n",
    "\n"
   ]
  },
  {
   "cell_type": "code",
   "execution_count": 767,
   "metadata": {},
   "outputs": [
    {
     "data": {
      "text/plain": [
       "Text(0.5, 1.0, 'Mean and Standard Deviation of Predicted and Actual Temperature :Random Forest')"
      ]
     },
     "execution_count": 767,
     "metadata": {},
     "output_type": "execute_result"
    },
    {
     "data": {
      "image/png": "[encoded data removed]",
      "text/plain": [
       "<Figure size 1152x360 with 1 Axes>"
      ]
     },
     "metadata": {},
     "output_type": "display_data"
    }
   ],
   "source": [
    "mean_std_matrix = model_dict['hourly_values'].groupby('hour')[['predicted_temperature','true_temperature']].agg(['std','mean']).reset_index()\n",
    "plt.figure(figsize=(16,5))\n",
    "plt.errorbar(mean_std_matrix['hour'],mean_std_matrix['predicted_temperature']['mean'],mean_std_matrix['predicted_temperature']['std'],label = 'Predicted Temperature', capsize=2, capthick=1)\n",
    "plt.errorbar(mean_std_matrix['hour'],mean_std_matrix['true_temperature']['mean'],mean_std_matrix['true_temperature']['std'],label = 'True Temperature', capsize=2, capthick=1)\n",
    "\n",
    "plt.xlabel('Hour')\n",
    "plt.ylabel('Temperature in C')\n",
    "plt.legend()\n",
    "plt.grid()\n",
    "plt.title('Mean and Standard Deviation of Predicted and Actual Temperature :Random Forest')\n",
    "\n"
   ]
  },
  {
   "cell_type": "markdown",
   "metadata": {},
   "source": [
    "## Using 2021 model on 2022 data"
   ]
  },
  {
   "cell_type": "code",
   "execution_count": 690,
   "metadata": {},
   "outputs": [],
   "source": [
    "grouped_data = grouped_data.dropna()\n",
    "gd_22 = grouped_data"
   ]
  },
  {
   "cell_type": "code",
   "execution_count": 691,
   "metadata": {},
   "outputs": [
    {
     "ename": "TypeError",
     "evalue": "get_partitions() missing 1 required positional argument: 'selection_hour'",
     "output_type": "error",
     "traceback": [
      "\u001b[0;31m---------------------------------------------------------------------------\u001b[0m",
      "\u001b[0;31mTypeError\u001b[0m                                 Traceback (most recent call last)",
      "Input \u001b[0;32mIn [691]\u001b[0m, in \u001b[0;36m<cell line: 1>\u001b[0;34m()\u001b[0m\n\u001b[0;32m----> 1\u001b[0m \u001b[43mget_partitions\u001b[49m\u001b[43m(\u001b[49m\u001b[43mgd_22\u001b[49m\u001b[43m,\u001b[49m\u001b[43mcol_list\u001b[49m\u001b[43m)\u001b[49m\n",
      "\u001b[0;31mTypeError\u001b[0m: get_partitions() missing 1 required positional argument: 'selection_hour'"
     ]
    }
   ],
   "source": [
    "get_partitions(gd_22,col_list)"
   ]
  },
  {
   "cell_type": "code",
   "execution_count": 693,
   "metadata": {},
   "outputs": [
    {
     "name": "stderr",
     "output_type": "stream",
     "text": [
      "/Users/gaurav/opt/anaconda3/lib/python3.9/site-packages/sklearn/base.py:493: FutureWarning:\n",
      "\n",
      "The feature names should match those that were passed during fit. Starting version 1.2, an error will be raised.\n",
      "Feature names seen at fit time, yet now missing:\n",
      "- closest_station_1_temp\n",
      "\n",
      "\n"
     ]
    },
    {
     "ename": "ValueError",
     "evalue": "X has 7 features, but GradientBoostingRegressor is expecting 8 features as input.",
     "output_type": "error",
     "traceback": [
      "\u001b[0;31m---------------------------------------------------------------------------\u001b[0m",
      "\u001b[0;31mValueError\u001b[0m                                Traceback (most recent call last)",
      "Input \u001b[0;32mIn [693]\u001b[0m, in \u001b[0;36m<cell line: 18>\u001b[0;34m()\u001b[0m\n\u001b[1;32m     19\u001b[0m     data,hour_status \u001b[38;5;241m=\u001b[39m get_partitions(grouped_data,col_list,[hour_])  \u001b[38;5;66;03m#or None\u001b[39;00m\n\u001b[1;32m     20\u001b[0m \u001b[38;5;66;03m#     model_path = os.path.join(mod.MODEL_PATH,str(model_name),model_name+f'_{hour_}.sav')\u001b[39;00m\n\u001b[1;32m     21\u001b[0m \u001b[38;5;66;03m#     model = pickle.load(open(model_path, 'rb'))\u001b[39;00m\n\u001b[0;32m---> 22\u001b[0m     predictions,error \u001b[38;5;241m=\u001b[39m \u001b[43mplot_mean\u001b[49m\u001b[43m(\u001b[49m\u001b[43mmodel\u001b[49m\u001b[43m,\u001b[49m\u001b[43m \u001b[49m\u001b[43mdata\u001b[49m\u001b[43m[\u001b[49m\u001b[38;5;241;43m1\u001b[39;49m\u001b[43m]\u001b[49m\u001b[43m,\u001b[49m\u001b[43mdata\u001b[49m\u001b[43m[\u001b[49m\u001b[38;5;241;43m3\u001b[39;49m\u001b[43m]\u001b[49m\u001b[43m,\u001b[49m\u001b[43m \u001b[49m\u001b[43mhour_\u001b[49m\u001b[43m)\u001b[49m\n",
      "Input \u001b[0;32mIn [693]\u001b[0m, in \u001b[0;36mplot_mean\u001b[0;34m(model, x_test, y_test, hour_filter)\u001b[0m\n\u001b[1;32m      1\u001b[0m \u001b[38;5;28;01mdef\u001b[39;00m \u001b[38;5;21mplot_mean\u001b[39m(model, x_test, y_test, hour_filter):\n\u001b[1;32m      3\u001b[0m     plot_df \u001b[38;5;241m=\u001b[39m x_test\u001b[38;5;241m.\u001b[39mcopy()\n\u001b[0;32m----> 4\u001b[0m     plot_df[\u001b[38;5;124m'\u001b[39m\u001b[38;5;124mpredicted_temperature\u001b[39m\u001b[38;5;124m'\u001b[39m] \u001b[38;5;241m=\u001b[39m \u001b[43mmodel\u001b[49m\u001b[38;5;241;43m.\u001b[39;49m\u001b[43mpredict\u001b[49m\u001b[43m(\u001b[49m\u001b[43mplot_df\u001b[49m\u001b[43m)\u001b[49m\n\u001b[1;32m      5\u001b[0m     plot_df[\u001b[38;5;124m'\u001b[39m\u001b[38;5;124mtrue_temperature\u001b[39m\u001b[38;5;124m'\u001b[39m] \u001b[38;5;241m=\u001b[39m y_test\n\u001b[1;32m      6\u001b[0m     plot_df[\u001b[38;5;124m'\u001b[39m\u001b[38;5;124mhour\u001b[39m\u001b[38;5;124m'\u001b[39m] \u001b[38;5;241m=\u001b[39m hour_filter\n",
      "File \u001b[0;32m~/opt/anaconda3/lib/python3.9/site-packages/sklearn/ensemble/_gb.py:1877\u001b[0m, in \u001b[0;36mGradientBoostingRegressor.predict\u001b[0;34m(self, X)\u001b[0m\n\u001b[1;32m   1862\u001b[0m \u001b[38;5;28;01mdef\u001b[39;00m \u001b[38;5;21mpredict\u001b[39m(\u001b[38;5;28mself\u001b[39m, X):\n\u001b[1;32m   1863\u001b[0m \u001b[38;5;250m    \u001b[39m\u001b[38;5;124;03m\"\"\"Predict regression target for X.\u001b[39;00m\n\u001b[1;32m   1864\u001b[0m \n\u001b[1;32m   1865\u001b[0m \u001b[38;5;124;03m    Parameters\u001b[39;00m\n\u001b[0;32m   (...)\u001b[0m\n\u001b[1;32m   1875\u001b[0m \u001b[38;5;124;03m        The predicted values.\u001b[39;00m\n\u001b[1;32m   1876\u001b[0m \u001b[38;5;124;03m    \"\"\"\u001b[39;00m\n\u001b[0;32m-> 1877\u001b[0m     X \u001b[38;5;241m=\u001b[39m \u001b[38;5;28;43mself\u001b[39;49m\u001b[38;5;241;43m.\u001b[39;49m\u001b[43m_validate_data\u001b[49m\u001b[43m(\u001b[49m\n\u001b[1;32m   1878\u001b[0m \u001b[43m        \u001b[49m\u001b[43mX\u001b[49m\u001b[43m,\u001b[49m\u001b[43m \u001b[49m\u001b[43mdtype\u001b[49m\u001b[38;5;241;43m=\u001b[39;49m\u001b[43mDTYPE\u001b[49m\u001b[43m,\u001b[49m\u001b[43m \u001b[49m\u001b[43morder\u001b[49m\u001b[38;5;241;43m=\u001b[39;49m\u001b[38;5;124;43m\"\u001b[39;49m\u001b[38;5;124;43mC\u001b[39;49m\u001b[38;5;124;43m\"\u001b[39;49m\u001b[43m,\u001b[49m\u001b[43m \u001b[49m\u001b[43maccept_sparse\u001b[49m\u001b[38;5;241;43m=\u001b[39;49m\u001b[38;5;124;43m\"\u001b[39;49m\u001b[38;5;124;43mcsr\u001b[39;49m\u001b[38;5;124;43m\"\u001b[39;49m\u001b[43m,\u001b[49m\u001b[43m \u001b[49m\u001b[43mreset\u001b[49m\u001b[38;5;241;43m=\u001b[39;49m\u001b[38;5;28;43;01mFalse\u001b[39;49;00m\n\u001b[1;32m   1879\u001b[0m \u001b[43m    \u001b[49m\u001b[43m)\u001b[49m\n\u001b[1;32m   1880\u001b[0m     \u001b[38;5;66;03m# In regression we can directly return the raw value from the trees.\u001b[39;00m\n\u001b[1;32m   1881\u001b[0m     \u001b[38;5;28;01mreturn\u001b[39;00m \u001b[38;5;28mself\u001b[39m\u001b[38;5;241m.\u001b[39m_raw_predict(X)\u001b[38;5;241m.\u001b[39mravel()\n",
      "File \u001b[0;32m~/opt/anaconda3/lib/python3.9/site-packages/sklearn/base.py:585\u001b[0m, in \u001b[0;36mBaseEstimator._validate_data\u001b[0;34m(self, X, y, reset, validate_separately, **check_params)\u001b[0m\n\u001b[1;32m    582\u001b[0m     out \u001b[38;5;241m=\u001b[39m X, y\n\u001b[1;32m    584\u001b[0m \u001b[38;5;28;01mif\u001b[39;00m \u001b[38;5;129;01mnot\u001b[39;00m no_val_X \u001b[38;5;129;01mand\u001b[39;00m check_params\u001b[38;5;241m.\u001b[39mget(\u001b[38;5;124m\"\u001b[39m\u001b[38;5;124mensure_2d\u001b[39m\u001b[38;5;124m\"\u001b[39m, \u001b[38;5;28;01mTrue\u001b[39;00m):\n\u001b[0;32m--> 585\u001b[0m     \u001b[38;5;28;43mself\u001b[39;49m\u001b[38;5;241;43m.\u001b[39;49m\u001b[43m_check_n_features\u001b[49m\u001b[43m(\u001b[49m\u001b[43mX\u001b[49m\u001b[43m,\u001b[49m\u001b[43m \u001b[49m\u001b[43mreset\u001b[49m\u001b[38;5;241;43m=\u001b[39;49m\u001b[43mreset\u001b[49m\u001b[43m)\u001b[49m\n\u001b[1;32m    587\u001b[0m \u001b[38;5;28;01mreturn\u001b[39;00m out\n",
      "File \u001b[0;32m~/opt/anaconda3/lib/python3.9/site-packages/sklearn/base.py:400\u001b[0m, in \u001b[0;36mBaseEstimator._check_n_features\u001b[0;34m(self, X, reset)\u001b[0m\n\u001b[1;32m    397\u001b[0m     \u001b[38;5;28;01mreturn\u001b[39;00m\n\u001b[1;32m    399\u001b[0m \u001b[38;5;28;01mif\u001b[39;00m n_features \u001b[38;5;241m!=\u001b[39m \u001b[38;5;28mself\u001b[39m\u001b[38;5;241m.\u001b[39mn_features_in_:\n\u001b[0;32m--> 400\u001b[0m     \u001b[38;5;28;01mraise\u001b[39;00m \u001b[38;5;167;01mValueError\u001b[39;00m(\n\u001b[1;32m    401\u001b[0m         \u001b[38;5;124mf\u001b[39m\u001b[38;5;124m\"\u001b[39m\u001b[38;5;124mX has \u001b[39m\u001b[38;5;132;01m{\u001b[39;00mn_features\u001b[38;5;132;01m}\u001b[39;00m\u001b[38;5;124m features, but \u001b[39m\u001b[38;5;132;01m{\u001b[39;00m\u001b[38;5;28mself\u001b[39m\u001b[38;5;241m.\u001b[39m\u001b[38;5;18m__class__\u001b[39m\u001b[38;5;241m.\u001b[39m\u001b[38;5;18m__name__\u001b[39m\u001b[38;5;132;01m}\u001b[39;00m\u001b[38;5;124m \u001b[39m\u001b[38;5;124m\"\u001b[39m\n\u001b[1;32m    402\u001b[0m         \u001b[38;5;124mf\u001b[39m\u001b[38;5;124m\"\u001b[39m\u001b[38;5;124mis expecting \u001b[39m\u001b[38;5;132;01m{\u001b[39;00m\u001b[38;5;28mself\u001b[39m\u001b[38;5;241m.\u001b[39mn_features_in_\u001b[38;5;132;01m}\u001b[39;00m\u001b[38;5;124m features as input.\u001b[39m\u001b[38;5;124m\"\u001b[39m\n\u001b[1;32m    403\u001b[0m     )\n",
      "\u001b[0;31mValueError\u001b[0m: X has 7 features, but GradientBoostingRegressor is expecting 8 features as input."
     ]
    }
   ],
   "source": [
    "def plot_mean(model, x_test, y_test, hour_filter):\n",
    "\n",
    "    plot_df = x_test.copy()\n",
    "    plot_df['predicted_temperature'] = model.predict(plot_df)\n",
    "    plot_df['true_temperature'] = y_test\n",
    "    plot_df['hour'] = hour_filter\n",
    "    error_score = metrics.mean_squared_error(plot_df['true_temperature'],plot_df['predicted_temperature'],squared=False,)\n",
    "\n",
    "    return plot_df,error_score\n",
    "\n",
    "model_name = 'GradientBoostingRegressor'\n",
    "model_dict_new = {}\n",
    "\n",
    "# model_path = os.path.join(mod.MODEL_PATH,str(model_name))\n",
    "# model = [ x for x in os.listdir(model_path) if '.sav' in x]\n",
    "# model = os.path.join(model_path,model[0])\n",
    "# model = pickle.load(open(model, 'rb'))\n",
    "for hour_ in range(24):\n",
    "    data,hour_status = get_partitions(grouped_data,col_list,[hour_])  #or None\n",
    "#     model_path = os.path.join(mod.MODEL_PATH,str(model_name),model_name+f'_{hour_}.sav')\n",
    "#     model = pickle.load(open(model_path, 'rb'))\n",
    "    predictions,error = plot_mean(model, data[1],data[3], hour_)\n",
    "#     model_dict_new[hour_] = [predictions,error,None]\n",
    "\n",
    "\n",
    "# model_dict_new = bulk_model_runner(model,grouped_data,col_list,bulk_mode=False,delete=True,residuals=True)\n",
    "# visualizer.plot_mean(model_dict,'Random Forest',col_list)\n",
    "\n",
    "# plot_mean(model, data[1],data[3], )\n"
   ]
  },
  {
   "cell_type": "code",
   "execution_count": 505,
   "metadata": {},
   "outputs": [
    {
     "name": "stdout",
     "output_type": "stream",
     "text": [
      "Feature importances not available\n"
     ]
    },
    {
     "data": {
      "image/png": "[encoded data removed]",
      "text/plain": [
       "<Figure size 432x288 with 1 Axes>"
      ]
     },
     "metadata": {
      "needs_background": "light"
     },
     "output_type": "display_data"
    },
    {
     "data": {
      "image/png": "[encoded data removed]",
      "text/plain": [
       "<Figure size 432x288 with 1 Axes>"
      ]
     },
     "metadata": {
      "needs_background": "light"
     },
     "output_type": "display_data"
    }
   ],
   "source": [
    "visualizer.plot_mean(model_dict_new,'GBR Transfer Learning',col_list)"
   ]
  },
  {
   "cell_type": "markdown",
   "metadata": {},
   "source": [
    "**Model 2 : XGBoost**"
   ]
  },
  {
   "cell_type": "code",
   "execution_count": 730,
   "metadata": {},
   "outputs": [
    {
     "name": "stdout",
     "output_type": "stream",
     "text": [
      "Residuals are being subtracted from data\n",
      "Hour lookup saved in Analytics/temp_data/hour_lookup.csv\n",
      "Model Saved : /Users/gaurav/UAH/temperature_modelling/Resources/trained_models/GradientBoostingRegressor/GradientBoostingRegressor_0.sav\n",
      "Residuals are being added back to the predictions\n",
      "Time at which model ran : 01/11/24 12:38:20\n"
     ]
    },
    {
     "data": {
      "image/png": "[encoded data removed]",
      "text/plain": [
       "<Figure size 432x288 with 1 Axes>"
      ]
     },
     "metadata": {},
     "output_type": "display_data"
    },
    {
     "data": {
      "image/png": "[encoded data removed]",
      "text/plain": [
       "<Figure size 432x288 with 1 Axes>"
      ]
     },
     "metadata": {},
     "output_type": "display_data"
    },
    {
     "data": {
      "image/png": "[encoded data removed]",
      "text/plain": [
       "<Figure size 432x288 with 1 Axes>"
      ]
     },
     "metadata": {},
     "output_type": "display_data"
    }
   ],
   "source": [
    "## Using June data\n",
    "from sklearn.ensemble import GradientBoostingRegressor as GBR\n",
    "\n",
    "col_list = [\n",
    "    # 'latitude', 'longitude', \n",
    "            'hour',  \n",
    "            'closest_station_1_temp',\n",
    "            # 'closest_1_distance',\n",
    "      #  'day_of_year', \n",
    "       'adjusted_lst',\n",
    "       'valueImperviousfraction', 'valueTreefraction', 'valueBuildingheight',\n",
    "    #    'valueNearestDistWater',\n",
    "         'valueWaterfraction', 'valueBuildingfraction']\n",
    "\n",
    "gbr = GBR()\n",
    "\n",
    "model_dict = bulk_model_runner(gbr,grouped_data,col_list,bulk_mode=False,delete=True,residuals=True)\n",
    "visualizer.plot_mean(model_dict,'GBR',col_list)\n"
   ]
  },
  {
   "cell_type": "code",
   "execution_count": 102,
   "metadata": {},
   "outputs": [
    {
     "name": "stdout",
     "output_type": "stream",
     "text": [
      "Residuals are being subtracted from data\n",
      "Hour lookup saved in Analytics/temp_data/hour_lookup.csv\n",
      "Model Saved : /Users/gaurav/UAH/temperature_modelling/Resources/trained_models/GradientBoostingRegressor/GradientBoostingRegressor_0.sav\n",
      "Residuals are being added back to the predictions\n",
      "Time at which model ran : 01/11/24 15:57:30\n"
     ]
    },
    {
     "data": {
      "image/png": "[encoded data removed]",
      "text/plain": [
       "<Figure size 432x288 with 1 Axes>"
      ]
     },
     "metadata": {
      "needs_background": "light"
     },
     "output_type": "display_data"
    },
    {
     "data": {
      "image/png": "[encoded data removed]",
      "text/plain": [
       "<Figure size 432x288 with 1 Axes>"
      ]
     },
     "metadata": {
      "needs_background": "light"
     },
     "output_type": "display_data"
    },
    {
     "data": {
      "image/png": "[encoded data removed]",
      "text/plain": [
       "<Figure size 432x288 with 1 Axes>"
      ]
     },
     "metadata": {
      "needs_background": "light"
     },
     "output_type": "display_data"
    }
   ],
   "source": [
    "from sklearn.ensemble import GradientBoostingRegressor as GBR\n",
    "\n",
    "col_list = [\n",
    "    # 'latitude', 'longitude', \n",
    "            'hour',  \n",
    "            'closest_station_1_temp',\n",
    "            # 'closest_1_distance',\n",
    "      #  'day_of_year', \n",
    "       'adjusted_lst',\n",
    "       'valueImperviousfraction', 'valueTreefraction', 'valueBuildingheight',\n",
    "    #    'valueNearestDistWater',\n",
    "         'valueWaterfraction', 'valueBuildingfraction']\n",
    "params = {\n",
    "    'learning_rate': 0.1,  # Learning rate (shrinkage)\n",
    "    'n_estimators': 100,  # Number of boosting stages\n",
    "    'max_depth': 3,  # Maximum depth of the individual trees\n",
    "    'subsample': 0.8,  # Fraction of samples used for fitting the trees (controls overfitting)\n",
    "    'loss': 'squared_error',  # Least Squares regression\n",
    "    'alpha': 0.5,  # L1 regularization term (only available in scikit-learn 0.24.0 and later)\n",
    "}\n",
    "gbr = GBR(**params)\n",
    "\n",
    "model_dict = bulk_model_runner(gbr,grouped_data2,col_list,bulk_mode=False,delete=True,residuals=True)\n",
    "visualizer.plot_mean(model_dict,'GBR',col_list)\n"
   ]
  },
  {
   "cell_type": "code",
   "execution_count": 86,
   "metadata": {},
   "outputs": [
    {
     "name": "stdout",
     "output_type": "stream",
     "text": [
      "Residuals are being subtracted from data\n",
      "Hour lookup saved in Analytics/temp_data/hour_lookup.csv\n",
      "Model Saved : /Users/gaurav/UAH/temperature_modelling/Resources/trained_models/XGBRegressor/XGBRegressor_0.sav\n",
      "Residuals are being added back to the predictions\n",
      "Time at which model ran : 01/11/24 15:36:46\n"
     ]
    },
    {
     "data": {
      "image/png": "[encoded data removed]",
      "text/plain": [
       "<Figure size 432x288 with 1 Axes>"
      ]
     },
     "metadata": {
      "needs_background": "light"
     },
     "output_type": "display_data"
    },
    {
     "data": {
      "image/png": "[encoded data removed]",
      "text/plain": [
       "<Figure size 432x288 with 1 Axes>"
      ]
     },
     "metadata": {
      "needs_background": "light"
     },
     "output_type": "display_data"
    },
    {
     "data": {
      "image/png": "[encoded data removed]",
      "text/plain": [
       "<Figure size 432x288 with 1 Axes>"
      ]
     },
     "metadata": {
      "needs_background": "light"
     },
     "output_type": "display_data"
    }
   ],
   "source": [
    "import xgboost as xgb\n",
    "from sklearn.model_selection import RandomizedSearchCV\n",
    "import scipy.stats as stats\n",
    "\n",
    "# Define the hyperparameter distributions\n",
    "params = {\n",
    "    'objective': 'reg:squarederror',\n",
    "    'eval_metric': 'rmse',\n",
    "    'eta': 0.01,  # Learning rate (shrinkage)\n",
    "    # 'max_depth': 3,\n",
    "    'lambda': 1,  # L2 regularization term\n",
    "    'alpha': 0.5,  # L1 regularization term\n",
    "}\n",
    "\n",
    "col_list = [\n",
    "    # 'latitude', 'longitude', \n",
    "            'hour', \n",
    "            'closest_station_1_temp',\n",
    "          # 'closest_1_distance',\n",
    "      #  'day_of_year', \n",
    "       'adjusted_lst',\n",
    "       'valueImperviousfraction', 'valueTreefraction', 'valueBuildingheight',\n",
    "      #  'valueNearestDistWater',\n",
    "         'valueWaterfraction', 'valueBuildingfraction']\n",
    "\n",
    "\n",
    "xgb_model = xgb.XGBRegressor(**params)\n",
    "# xgb_model = xgb.XGBRegressor()\n",
    "\n",
    "\n",
    "model_dict = bulk_model_runner(xgb_model,grouped_data,col_list,bulk_mode=False,delete=True,residuals=True)\n",
    "visualizer.plot_mean(model_dict,'XGB',col_list)\n"
   ]
  },
  {
   "cell_type": "markdown",
   "metadata": {},
   "source": [
    "### Neural Networks"
   ]
  },
  {
   "cell_type": "code",
   "execution_count": 71,
   "metadata": {},
   "outputs": [
    {
     "name": "stdout",
     "output_type": "stream",
     "text": [
      "Residuals are being subtracted from data\n",
      "Hour lookup saved in Analytics/temp_data/hour_lookup.csv\n",
      "Model Saved : /Users/gaurav/UAH/temperature_modelling/Resources/trained_models/MLPRegressor/MLPRegressor_0.sav\n",
      "Residuals are being added back to the predictions\n",
      "Feature importances not available\n"
     ]
    },
    {
     "name": "stderr",
     "output_type": "stream",
     "text": [
      "/Users/gaurav/opt/anaconda3/lib/python3.9/site-packages/sklearn/neural_network/_multilayer_perceptron.py:692: ConvergenceWarning:\n",
      "\n",
      "Stochastic Optimizer: Maximum iterations (500) reached and the optimization hasn't converged yet.\n",
      "\n"
     ]
    },
    {
     "data": {
      "image/png": "[encoded data removed]",
      "text/plain": [
       "<Figure size 432x288 with 1 Axes>"
      ]
     },
     "metadata": {
      "needs_background": "light"
     },
     "output_type": "display_data"
    },
    {
     "data": {
      "image/png": "[encoded data removed]",
      "text/plain": [
       "<Figure size 432x288 with 1 Axes>"
      ]
     },
     "metadata": {
      "needs_background": "light"
     },
     "output_type": "display_data"
    }
   ],
   "source": [
    "from sklearn.neural_network import MLPRegressor\n",
    "from sklearn.preprocessing import StandardScaler\n",
    "\n",
    "col_list = [\n",
    "    # 'latitude', 'longitude', \n",
    "            'hour', \n",
    "            # 'closest_station_1_temp',\n",
    "            # 'closest_1_distance',\n",
    "      #  'day_of_year', \n",
    "       'adjusted_lst',\n",
    "       'valueImperviousfraction', 'valueTreefraction', 'valueBuildingheight',\n",
    "       'valueNearestDistWater',\n",
    "         'valueWaterfraction', 'valueBuildingfraction']\n",
    "\n",
    "\n",
    "\n",
    "nn = MLPRegressor(hidden_layer_sizes=(15,10,5),activation='relu', solver='adam', max_iter=500)\n",
    "\n",
    "\n",
    "model_dict = bulk_model_runner(nn,grouped_data,col_list,bulk_mode=False,delete=True,residuals=True)\n",
    "visualizer.plot_mean(model_dict,'Random Forest',col_list)"
   ]
  },
  {
   "cell_type": "code",
   "execution_count": 213,
   "metadata": {},
   "outputs": [
    {
     "data": {
      "image/png": "[encoded data removed]",
      "text/plain": [
       "<Figure size 1080x1080 with 3 Axes>"
      ]
     },
     "metadata": {},
     "output_type": "display_data"
    }
   ],
   "source": [
    "def get_delta_plots(final_dict):\n",
    "    ''' Final dict is of format : \n",
    "        { {hour : [predictions,error,feature_importances]}}\n",
    "        access : final_dict[0][0],final_dict[5][0]\n",
    "    '''\n",
    "    df_ = final_dict['hourly_values']\n",
    "    df_ = df_[['predicted_temperature','true_temperature','hour','hourly_rms']]\n",
    "    # df_['hour']  = 0\n",
    "\n",
    "    # for hrs in final_dict.keys():\n",
    "    #     if hrs ==0:\n",
    "    #         continue\n",
    "    #     datax = final_dict[hrs][0]\n",
    "    #     datax = datax[['predicted_temperature','true_temperature','hour']]\n",
    "    #     datax['hour']  = hrs\n",
    "\n",
    "    #     df_ = pd.concat([df_,datax])\n",
    "\n",
    "    df_agg = df_.groupby('hour').mean().reset_index()\n",
    "    df_agg['delta_temp'] = df_agg.predicted_temperature - df_agg.true_temperature\n",
    "\n",
    "\n",
    "    avg_rmse = df_.hourly_rms.mean()\n",
    "\n",
    "    df_['station'] = df_.index\n",
    "    df_['delta'] = df_.predicted_temperature - df_.true_temperature\n",
    "    df_ = df_.reset_index().drop('index',axis=1)\n",
    "\n",
    "\n",
    "    import seaborn as sns\n",
    "    # sns.set_theme(style=\"whitegrid\")\n",
    "    sns.set_style(\"white\")\n",
    "    plt.figure(figsize=(15,15))\n",
    "\n",
    "    plt.subplot2grid((2, 2), (0, 0), rowspan=1, colspan=1)\n",
    "    sns.lineplot(x=df_agg.hour,y=df_agg.delta_temp)\n",
    "    plt.title('Average of Delta Temperature for all stations')\n",
    "    plt.xlabel('Hour')\n",
    "    plt.grid()\n",
    "\n",
    "    plt.ylabel('Delta Temperature')\n",
    "\n",
    "\n",
    "    plt.subplot2grid((2, 2), (0, 1), rowspan=1, colspan=1)\n",
    "    sns.lineplot(x = df_agg.hour,y = df_agg.true_temperature,label='True Temperature')\n",
    "    sns.lineplot(x = df_agg.hour,y = df_agg.predicted_temperature,label='Predicted Temperature')\n",
    "    plt.title(f'True Temperature VS Predicted for test data : Avg RMSE = {round(avg_rmse,3)}')\n",
    "    plt.xlabel('Hour')\n",
    "    plt.ylabel('Temperature')\n",
    "\n",
    "    # Create a subplot that spans the entire second row\n",
    "    plt.subplot2grid((2, 2), (1, 0), rowspan=1, colspan=2)\n",
    "    df_['station'] = df_['station'].astype(str)\n",
    "    sns.lineplot(x='hour', y='delta', hue='station', data=df_, marker='o')\n",
    "    plt.title('Delta Temperature for all stations')\n",
    "    # Show the plot)\n",
    "    plt.legend(bbox_to_anchor=(1.05, 1), loc='upper left')\n",
    "\n",
    "\n",
    "\n",
    "    # plt.tight_layout()\n",
    "    plt.show()\n",
    "\n",
    "get_delta_plots(model_dict)"
   ]
  },
  {
   "cell_type": "code",
   "execution_count": null,
   "metadata": {},
   "outputs": [],
   "source": []
  }
 ],
 "metadata": {
  "kernelspec": {
   "display_name": "base",
   "language": "python",
   "name": "python3"
  },
  "language_info": {
   "codemirror_mode": {
    "name": "ipython",
    "version": 3
   },
   "file_extension": ".py",
   "mimetype": "text/x-python",
   "name": "python",
   "nbconvert_exporter": "python",
   "pygments_lexer": "ipython3",
   "version": "3.9.12"
  }
 },
 "nbformat": 4,
 "nbformat_minor": 2
}
