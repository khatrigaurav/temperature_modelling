{
 "cells": [
  {
   "cell_type": "markdown",
   "id": "bc2fc78c",
   "metadata": {},
   "source": [
    "Implementation of 5 data QC steps identified as : https://app.clickup.com/9009146577/v/dc/8cftaph-127/8cftaph-287"
   ]
  },
  {
   "cell_type": "code",
   "execution_count": 4,
   "id": "eb44e290",
   "metadata": {},
   "outputs": [
    {
     "name": "stdout",
     "output_type": "stream",
     "text": [
      "The autoreload extension is already loaded. To reload it, use:\n",
      "  %reload_ext autoreload\n"
     ]
    }
   ],
   "source": [
    "%load_ext autoreload\n",
    "%autoreload 2\n",
    "\n",
    "import os\n",
    "import pandas as pd\n",
    "import time\n",
    "import plotly.express as pe\n",
    "import plotly.offline as pyo\n",
    "import plotly.graph_objects as go\n",
    "\n",
    "from datetime import datetime\n",
    "\n",
    "\n",
    "os.chdir('/Users/gaurav/UAH/temperature_modelling/')\n",
    "\n",
    "from lib import dataprocess as dp\n",
    "from lib import crowdqc_test as qc\n",
    "from sklearn.neighbors import NearestNeighbors\n",
    "import numpy as np\n",
    "import matplotlib.pyplot as plt\n"
   ]
  },
  {
   "cell_type": "code",
   "execution_count": 5,
   "id": "ac8a0db5",
   "metadata": {},
   "outputs": [],
   "source": [
    "# dp.process_downloaded_data('Madison','wunderground','pws','2021')\n",
    "df = pd.read_csv('data/processed_data/Madison_2022/master_Madison_pws_.csv')\n",
    "df = dp.process_wunder(df)\n"
   ]
  },
  {
   "cell_type": "markdown",
   "id": "ffb7261e",
   "metadata": {},
   "source": [
    "### Step 1 : Clean data with more than 35% missing observations"
   ]
  },
  {
   "cell_type": "code",
   "execution_count": 6,
   "id": "ef16d88a",
   "metadata": {},
   "outputs": [
    {
     "name": "stdout",
     "output_type": "stream",
     "text": [
      "Old Stats : Num of stations 182, Total rows 1207770\n",
      "New Stats : Num of stations 147, Total rows 1149262\n"
     ]
    }
   ],
   "source": [
    "print(f'Old Stats : Num of stations {len(df.station.unique())}, Total rows {len(df)}')\n",
    "soc = (df.groupby(['station']).count()/86)['temperature']\n",
    "valid_stations = soc.iloc[np.where(soc > 35)].index.tolist()\n",
    "df = df[df['station'].isin(valid_stations)]\n",
    "\n",
    "print(f'New Stats : Num of stations {len(df.station.unique())}, Total rows {len(df)}')"
   ]
  },
  {
   "cell_type": "markdown",
   "id": "9d72c4ef",
   "metadata": {},
   "source": [
    "### Step 2 : Filling null values\n",
    "\n",
    "Idea is : Fill null values with interpolated values for now and later, if there is some discrepancy in data, qc1,qc2 steps will handle it."
   ]
  },
  {
   "cell_type": "code",
   "execution_count": 7,
   "id": "25f59acc",
   "metadata": {},
   "outputs": [],
   "source": [
    "df['temperature'] = df['temperature'].interpolate(method='linear',limit_direction='both')"
   ]
  },
  {
   "cell_type": "markdown",
   "id": "05649cef",
   "metadata": {},
   "source": [
    "### Step 3 : QC paper implementations\n"
   ]
  },
  {
   "cell_type": "code",
   "execution_count": 8,
   "id": "618d30ab",
   "metadata": {},
   "outputs": [
    {
     "name": "stdout",
     "output_type": "stream",
     "text": [
      "QC check 1 failed : Temperature exceeds given range\n",
      "#########################\n",
      "56.0\n",
      "-74.0\n",
      "Following indexes removed after level 1 check:  Int64Index([986116, 986117, 986118, 986119, 986120, 986121, 986122, 986123,\n",
      "            986124, 986125, 986126, 986161, 986162, 986163, 986164, 986165,\n",
      "            986166, 986167, 986593, 986594, 986595, 986596, 986597],\n",
      "           dtype='int64')\n"
     ]
    }
   ],
   "source": [
    "temp_field = 'temperature'\n",
    "\n",
    "#Getting indexes with invalid temperature values\n",
    "index_ = qc.level1_check(df,temp_field)\n",
    "df = df[~df.index.isin(index_)]\n",
    "\n",
    "print('Following indexes removed after level 1 check: ',index_)"
   ]
  },
  {
   "cell_type": "code",
   "execution_count": 9,
   "id": "69fbd088",
   "metadata": {},
   "outputs": [
    {
     "name": "stdout",
     "output_type": "stream",
     "text": [
      "\n",
      "QC Check 2 passed : Spike Test\n",
      "#########################\n"
     ]
    }
   ],
   "source": [
    "time_resolution = qc.level2_check(df,temp_field,'beg_time')"
   ]
  }
 ],
 "metadata": {
  "kernelspec": {
   "display_name": "Python 3 (ipykernel)",
   "language": "python",
   "name": "python3"
  },
  "language_info": {
   "codemirror_mode": {
    "name": "ipython",
    "version": 3
   },
   "file_extension": ".py",
   "mimetype": "text/x-python",
   "name": "python",
   "nbconvert_exporter": "python",
   "pygments_lexer": "ipython3",
   "version": "3.9.12"
  }
 },
 "nbformat": 4,
 "nbformat_minor": 5
}
