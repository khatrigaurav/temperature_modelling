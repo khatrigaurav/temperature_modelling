{
 "cells": [
  {
   "cell_type": "markdown",
   "id": "d2669df6",
   "metadata": {},
   "source": [
    "This notebook is aimed at using plotly to find diurnal variations in data."
   ]
  },
  {
   "cell_type": "code",
   "execution_count": 92,
   "id": "1a583985",
   "metadata": {},
   "outputs": [],
   "source": [
    "%load_ext autoreload\n",
    "%autoreload 2\n",
    "\n",
    "import os\n",
    "import pandas as pd\n",
    "import time\n",
    "import plotly.express as pe\n",
    "import plotly.offline as pyo\n",
    "import plotly.graph_objects as go\n",
    "import plotly.colors as colors\n",
    "import matplotlib.pyplot as plt\n",
    "\n",
    "from datetime import datetime\n",
    "\n",
    "#\n",
    "os.chdir('/Users/gaurav/UAH/temperature_modelling/')\n",
    "\n",
    "from lib import dataprocess as dp\n",
    "from lib import crowdqc as cqc"
   ]
  },
  {
   "cell_type": "code",
   "execution_count": null,
   "metadata": {},
   "outputs": [],
   "source": [
    "dp.plot_(grouped_data_normal[grouped_data_normal.station=='KWIMADIS162'], animation_frame_comp='hour',resample=False)\n"
   ]
  },
  {
   "cell_type": "markdown",
   "metadata": {},
   "source": [
    "Analysis of Fault stations"
   ]
  },
  {
   "cell_type": "code",
   "execution_count": null,
   "metadata": {},
   "outputs": [],
   "source": [
    "data = pd.read_csv('/Users/gaurav/UAH/temperature_modelling/data/processed_data/Madison_2021/master_Madison_pws_.csv')"
   ]
  },
  {
   "cell_type": "code",
   "execution_count": null,
   "metadata": {},
   "outputs": [],
   "source": [
    "missing_stations = []\n",
    "for x in non_flags:\n",
    "    fitch_38 = data[data.stationID==x]\n",
    "    fitch_38 = fitch_38[(fitch_38.obsTimeLocal>'2021-06-00') & (fitch_38.obsTimeLocal<'2021-06-30')]\n",
    "\n",
    "\n",
    "    fitch_38.obsTimeLocal = pd.to_datetime(fitch_38.obsTimeLocal)\n",
    "    fitch_38 = fitch_38.resample('H', on='obsTimeLocal').mean().reset_index()\n",
    "    obs_by_day = fitch_38.count()['temperature']\n",
    "    obs_by_day = obs_by_day/30\n",
    "    obs = fitch_38.resample('D', on='obsTimeLocal').mean().reset_index().count()['temperature']\n",
    "\n",
    "    if obs_by_day<18 or obs < 22:\n",
    "        print(f'{x} has {obs_by_day} observations per day in June 2021')\n",
    "   \n",
    "        print(f'{x} has {obs} observations in June 2021')\n",
    "\n",
    "        missing_stations.append(x)"
   ]
  },
  {
   "cell_type": "code",
   "execution_count": null,
   "metadata": {},
   "outputs": [],
   "source": [
    "print(missing_stations)\n",
    "print(flags)"
   ]
  },
  {
   "cell_type": "code",
   "execution_count": null,
   "id": "15f72392",
   "metadata": {},
   "outputs": [],
   "source": [
    "[x for x in grouped_data.columns if 'value' in x.lower()]"
   ]
  },
  {
   "cell_type": "code",
   "execution_count": null,
   "id": "c814c29e",
   "metadata": {},
   "outputs": [],
   "source": [
    "grouped_data = pd.read_csv('Analytics/temp_data/grouped_data_untouched.csv')\n",
    "predictions2,outliers_lst = cqc.filter_quartiles(grouped_data,feature_column='valueBuildingfraction')\n",
    "\n",
    "for hour in predictions2.keys():\n",
    "    # if hour in [7,8]:\n",
    "    figx = pe.scatter(grouped_data.query(\"hour==@hour\"),x = 'valueBuildingfraction', y='temperature',color='station',title=f'Temperature Pattern for Normal Stations at hour : {hour} ')\n",
    "    figx.add_trace(go.Scatter(x=grouped_data.query(\"hour==@hour\").valueBuildingfraction, y=predictions2[hour][0.02], mode='lines', name='5% line'))\n",
    "    figx.add_trace(go.Scatter(x=grouped_data.query(\"hour==@hour\").valueBuildingfraction, y=predictions2[hour][0.98], mode='lines', name='95% line'))\n",
    "    figx.show()"
   ]
  },
  {
   "cell_type": "code",
   "execution_count": null,
   "id": "b7c6fb60",
   "metadata": {},
   "outputs": [],
   "source": []
  },
  {
   "cell_type": "code",
   "execution_count": null,
   "id": "bd73e785",
   "metadata": {},
   "outputs": [],
   "source": []
  },
  {
   "cell_type": "code",
   "execution_count": null,
   "id": "44e24562",
   "metadata": {},
   "outputs": [],
   "source": [
    "import pandas as pd\n",
    "wind_data = pd.read_csv('Analytics/wind_data.csv')\n",
    "wind_data.DATE = pd.to_datetime(wind_data.DATE)\n",
    "wind_data = wind_data[(wind_data.DATE.dt.year==2021) & (wind_data.DATE.dt.month==6)]"
   ]
  },
  {
   "cell_type": "code",
   "execution_count": null,
   "id": "02c89659",
   "metadata": {},
   "outputs": [],
   "source": [
    "import pandas as pd\n",
    "wind_data = pd.read_csv('Analytics/wind_data.csv')\n",
    "wind_data.DATE = pd.to_datetime(wind_data.DATE)\n",
    "wind_data = wind_data[(wind_data.DATE.dt.year==2021) & (wind_data.DATE.dt.month==6)]\n",
    "\n",
    "wind_cols = [k for k in  wind_data.columns if 'wind' in k.lower() or \"wnd\" in k.lower()]\n",
    "wind_cols = ['STATION', 'DATE', 'SOURCE',]+ wind_cols\n",
    "wind_data_ = wind_data[wind_cols]\n",
    "wind_data_.isna().sum()\n",
    "\n",
    "wind_data_seg = wind_data_[['STATION', 'DATE','HourlyWindDirection','HourlyWindSpeed']]\n",
    "# wind_data_mean = wind_data_seg.resample('H', on='DATE').mean().reset_index()\n",
    "wind_data_seg['hour'] = wind_data_seg.DATE.dt.hour\n",
    "wind_data_seg = wind_data_seg[(~wind_data_seg.HourlyWindDirection.isna()) & (wind_data_seg.HourlyWindDirection != 'VRB')]\n",
    "\n",
    "import numpy as np\n",
    "\n",
    "wind_data_seg['HourlyWindDirection']  = wind_data_seg['HourlyWindDirection'].astype(int)\n",
    "wind_data_mean = wind_data_seg.groupby(['STATION','hour']).mean().reset_index()\n",
    "wind_data_mean['horizontal_wind'] =wind_data_mean['HourlyWindSpeed'] * np.cos(np.radians(wind_data_mean['HourlyWindDirection']))\n",
    "wind_data_mean['vertical_wind'] =wind_data_mean['HourlyWindSpeed'] * np.sin(np.radians(wind_data_mean['HourlyWindDirection']))\n",
    "wind_data_mean = wind_data_mean[[ 'hour', 'horizontal_wind', 'vertical_wind']]\n"
   ]
  },
  {
   "cell_type": "code",
   "execution_count": null,
   "id": "f3110508",
   "metadata": {},
   "outputs": [],
   "source": [
    "import numpy as np\n",
    "\n",
    "wind_data_seg['HourlyWindDirection']  = wind_data_seg['HourlyWindDirection'].astype(int)\n",
    "wind_data_mean = wind_data_seg.groupby(['STATION','hour']).mean().reset_index()\n",
    "wind_data_mean['horizontal_wind'] =wind_data_mean['HourlyWindSpeed'] * np.cos(np.radians(wind_data_mean['HourlyWindDirection']))\n",
    "wind_data_mean['vertical_wind'] =wind_data_mean['HourlyWindSpeed'] * np.sin(np.radians(wind_data_mean['HourlyWindDirection']))\n",
    "wind_data_mean = wind_data_mean[[ 'hour', 'horizontal_wind', 'vertical_wind']]\n"
   ]
  },
  {
   "cell_type": "code",
   "execution_count": null,
   "id": "9e20292a",
   "metadata": {},
   "outputs": [],
   "source": [
    "wind_data_mean = wind_data_mean[[ 'hour', 'horizontal_wind', 'vertical_wind']]\n",
    "wind_data_mean"
   ]
  },
  {
   "cell_type": "markdown",
   "id": "596ff7e3",
   "metadata": {},
   "source": [
    "# Evaluation of features"
   ]
  },
  {
   "cell_type": "code",
   "execution_count": null,
   "id": "fe822e83",
   "metadata": {},
   "outputs": [],
   "source": [
    "grouped_data = pd.read_csv('Analytics/temp_data/grouped_data_untouched.csv')\n",
    "\n",
    "grouped_data = grouped_data[['station', 'hour', 'temperature',\n",
    "         'adjusted_lst',\n",
    "       'valueImperviousfraction', 'valueTreefraction', 'valueBuildingheight',\n",
    "       'valueNearestDistWater', 'valueWaterfraction', 'valueBuildingfraction']]\n",
    "\n",
    "import seaborn as sns\n",
    "plt.figure(figsize=(20,10))\n",
    "corr = grouped_data.corr()\n",
    "sns.heatmap(corr, annot=True)"
   ]
  },
  {
   "cell_type": "code",
   "execution_count": null,
   "id": "356edf26",
   "metadata": {},
   "outputs": [],
   "source": [
    "feature_cols = ['adjusted_lst','valueImperviousfraction', 'valueTreefraction', 'valueBuildingheight',\n",
    " 'valueNearestDistWater', 'valueWaterfraction', 'valueBuildingfraction']\n",
    "\n",
    "\n",
    "def find_frequent(outliers_dict):\n",
    "    hash_map = dict()\n",
    "    hash_map_tree = dict()\n",
    "\n",
    "    for hrs in outliers_dict.keys():\n",
    "        val = outliers_dict[hrs]\n",
    "        for v in val:\n",
    "            hash_map[v] = 1 + hash_map.get(v,0)\n",
    "            hash_map_tree[v] = 1 + hash_map_tree.get(v,0)\n",
    "\n",
    "    hash_map_tree = {k: v for k, v in sorted(hash_map_tree.items(), key=lambda item: item[1],reverse=True)}\n",
    "    return hash_map_tree"
   ]
  },
  {
   "cell_type": "code",
   "execution_count": null,
   "id": "04648857",
   "metadata": {},
   "outputs": [],
   "source": [
    "for feature in feature_cols:\n",
    "    predictions2,outliers_lst = cqc.filter_quartiles(grouped_data,feature_column=feature)\n",
    "    # top_5 = find_frequent(outliers_lst)\n",
    "    # top_5 = {k:v for k,v in sorted(top_5.items(),key=lambda x: x[1],reverse=True)[:5]}\n",
    "    # print(feature)\n",
    "    for keys in outliers_lst.keys():\n",
    "        if keys in [10,12,13]:\n",
    "            # print(f'{feature} ')\n",
    "            print(feature,keys,outliers_lst[keys])\n",
    "\n",
    "# predictions1,outliers_lst = cqc.filter_quartiles(grouped_data,feature_column=feature)\n",
    "\n",
    "# for hour in predictions1.keys():\n",
    "#     # if hour in [7,8]:\n",
    "#     figx = pe.scatter(grouped_data.query(\"hour==@hour\"),x = 'valueTreefraction', y='temperature',color='valueNearestDistWater',title=f'Temperature Pattern for Normal Stations at hour : {hour} ')\n",
    "#     figx.add_trace(go.Scatter(x=grouped_data.query(\"hour==@hour\").valueTreefraction, y=predictions1[hour][quants[0]], mode='lines', name='5% line'))\n",
    "#     figx.add_trace(go.Scatter(x=grouped_data.query(\"hour==@hour\").valueTreefraction, y=predictions1[hour][quants[1]], mode='lines', name='95% line'))\n",
    "#     figx.show()"
   ]
  },
  {
   "cell_type": "code",
   "execution_count": null,
   "id": "8873456e",
   "metadata": {},
   "outputs": [],
   "source": []
  },
  {
   "cell_type": "code",
   "execution_count": 1,
   "id": "01fe1b37",
   "metadata": {},
   "outputs": [],
   "source": [
    "import numpy as np\n",
    "from scipy.spatial.distance import pdist"
   ]
  },
  {
   "cell_type": "code",
   "execution_count": 10,
   "id": "7945c08a",
   "metadata": {},
   "outputs": [],
   "source": [
    "x = np.array([4.0, 2.0, 4.1, 0.3, 2.0])\n",
    "y = np.array([5.5, 1.2, 3.7, 2.0, 2.5])\n",
    "z = np.array([4.2, 6.1, 0.2, 0.7, 5.2])\n",
    "\n",
    "s0 = [2., 2.]\n",
    "distance_matrix = pdist([s0] + list(zip(x,y)))"
   ]
  },
  {
   "cell_type": "code",
   "execution_count": 11,
   "id": "ba1663ae",
   "metadata": {},
   "outputs": [
    {
     "data": {
      "text/plain": [
       "array([[0.        , 4.03112887, 0.8       , 2.70185122, 1.7       ,\n",
       "        0.5       ],\n",
       "       [4.03112887, 0.        , 4.74236228, 1.80277564, 5.09313263,\n",
       "        3.60555128],\n",
       "       [0.8       , 4.74236228, 0.        , 3.26496554, 1.87882942,\n",
       "        1.3       ],\n",
       "       [2.70185122, 1.80277564, 3.26496554, 0.        , 4.16293166,\n",
       "        2.41867732],\n",
       "       [1.7       , 5.09313263, 1.87882942, 4.16293166, 0.        ,\n",
       "        1.77200451],\n",
       "       [0.5       , 3.60555128, 1.3       , 2.41867732, 1.77200451,\n",
       "        0.        ]])"
      ]
     },
     "execution_count": 11,
     "metadata": {},
     "output_type": "execute_result"
    }
   ],
   "source": [
    "from scipy.spatial.distance import squareform\n",
    "squareform(distance_matrix)"
   ]
  },
  {
   "cell_type": "code",
   "execution_count": 12,
   "id": "49255acd",
   "metadata": {},
   "outputs": [],
   "source": [
    "from skgstat.models import spherical\n",
    "model = lambda h: spherical(h, 7.0, 2.0, 0.0)\n",
    "variances = model(distance_matrix[:5])"
   ]
  },
  {
   "cell_type": "code",
   "execution_count": 26,
   "id": "8ade4946",
   "metadata": {},
   "outputs": [],
   "source": [
    "dists = pdist(list(zip(x,y)))\n",
    "M = squareform(model(dists))\n",
    "\n",
    "from scipy.linalg import solve\n",
    "a = solve(M, variances)"
   ]
  },
  {
   "cell_type": "code",
   "execution_count": 27,
   "id": "67ce71d3",
   "metadata": {},
   "outputs": [],
   "source": [
    "B = np.concatenate((variances, [1]))\n",
    "M = np.concatenate((M, [[1, 1, 1, 1, 1]]), axis=0)\n",
    "M = np.concatenate((M, [[1], [1], [1], [1], [1], [0]]), axis=1)\n",
    "weights = solve(M, B)"
   ]
  },
  {
   "cell_type": "code",
   "execution_count": 29,
   "id": "b12ba118",
   "metadata": {},
   "outputs": [
    {
     "name": "stdout",
     "output_type": "stream",
     "text": [
      "[-0.02155993  0.36166541  0.01802147  0.03655808  0.59258941]\n",
      "[-0.01711142  0.36476979  0.01998039  0.0405826   0.59177864 -0.01291662]\n"
     ]
    }
   ],
   "source": [
    "print(a)\n",
    "print(weights)"
   ]
  },
  {
   "cell_type": "code",
   "execution_count": 67,
   "id": "1be8c0a0",
   "metadata": {},
   "outputs": [],
   "source": [
    "data = skgstat.data.aniso(N=1000)"
   ]
  },
  {
   "cell_type": "code",
   "execution_count": 72,
   "id": "b3d67b62",
   "metadata": {},
   "outputs": [],
   "source": [
    "V = skgstat.Variogram(data['sample'][0], data['sample'][1],maxlag=90, n_lags=25, model='gaussian', normalize=False)\n",
    "\n",
    "\n",
    "# In [37]: V.plot()\n",
    "# Out[37]: <Figure size 800x500 with 2 Axes>\n",
    "\n",
    "from skgstat import OrdinaryKriging\n",
    "\n",
    "ok = OrdinaryKriging(V, min_points=1, max_points=5, mode='exact')"
   ]
  },
  {
   "cell_type": "code",
   "execution_count": 73,
   "id": "9ac1fae4",
   "metadata": {},
   "outputs": [
    {
     "name": "stdout",
     "output_type": "stream",
     "text": [
      "Warning: for 9960 locations, not enough neighbors were found within the range.\n"
     ]
    }
   ],
   "source": [
    "xx, yy = np.mgrid[0:99:100j, 0:99:100j]\n",
    "field = ok.transform(xx.flatten(), yy.flatten()).reshape(xx.shape)\n",
    "# s2 = ok.sigma.reshape(xx.shape)"
   ]
  },
  {
   "cell_type": "code",
   "execution_count": 76,
   "id": "607f716f",
   "metadata": {},
   "outputs": [
    {
     "data": {
      "text/plain": [
       "<matplotlib.image.AxesImage at 0x28249f9a0>"
      ]
     },
     "execution_count": 76,
     "metadata": {},
     "output_type": "execute_result"
    },
    {
     "data": {
      "image/png": "[encoded data removed]",
      "text/plain": [
       "<Figure size 432x288 with 1 Axes>"
      ]
     },
     "metadata": {
      "needs_background": "light"
     },
     "output_type": "display_data"
    }
   ],
   "source": [
    "import matplotlib.pyplot as plt\n",
    "plt.imshow(s2)"
   ]
  },
  {
   "cell_type": "code",
   "execution_count": 81,
   "id": "bc852bbe",
   "metadata": {},
   "outputs": [],
   "source": [
    "import pandas as pd\n",
    "grouped_data = pd.read_csv('../Analytics/temp_data/grouped_data_untouched_6.csv')"
   ]
  },
  {
   "cell_type": "code",
   "execution_count": 82,
   "id": "fc388019",
   "metadata": {},
   "outputs": [
    {
     "data": {
      "text/html": [
       "<div>\n",
       "<style scoped>\n",
       "    .dataframe tbody tr th:only-of-type {\n",
       "        vertical-align: middle;\n",
       "    }\n",
       "\n",
       "    .dataframe tbody tr th {\n",
       "        vertical-align: top;\n",
       "    }\n",
       "\n",
       "    .dataframe thead th {\n",
       "        text-align: right;\n",
       "    }\n",
       "</style>\n",
       "<table border=\"1\" class=\"dataframe\">\n",
       "  <thead>\n",
       "    <tr style=\"text-align: right;\">\n",
       "      <th></th>\n",
       "      <th>station</th>\n",
       "      <th>hour</th>\n",
       "      <th>latitude</th>\n",
       "      <th>longitude</th>\n",
       "      <th>temperature</th>\n",
       "      <th>closest_station_1_temp</th>\n",
       "      <th>closest_station_2_temp</th>\n",
       "      <th>closest_station_3_temp</th>\n",
       "      <th>closest_1_distance</th>\n",
       "      <th>closest_2_distance</th>\n",
       "      <th>closest_3_distance</th>\n",
       "      <th>day_of_year</th>\n",
       "      <th>adjusted_lst</th>\n",
       "      <th>valueImperviousfraction</th>\n",
       "      <th>valueTreefraction</th>\n",
       "      <th>valueBuildingheight</th>\n",
       "      <th>valueNearestDistWater</th>\n",
       "      <th>valueWaterfraction</th>\n",
       "      <th>valueBuildingfraction</th>\n",
       "      <th>beg_time</th>\n",
       "    </tr>\n",
       "  </thead>\n",
       "  <tbody>\n",
       "    <tr>\n",
       "      <th>0</th>\n",
       "      <td>KWIFITCH21</td>\n",
       "      <td>0</td>\n",
       "      <td>42.997337</td>\n",
       "      <td>-89.439064</td>\n",
       "      <td>19.931034</td>\n",
       "      <td>19.862069</td>\n",
       "      <td>20.859937</td>\n",
       "      <td>19.931034</td>\n",
       "      <td>0.008206</td>\n",
       "      <td>0.010795</td>\n",
       "      <td>0.012080</td>\n",
       "      <td>166.0</td>\n",
       "      <td>0.658309</td>\n",
       "      <td>38.0</td>\n",
       "      <td>27.571429</td>\n",
       "      <td>0.0</td>\n",
       "      <td>803.621907</td>\n",
       "      <td>0.0</td>\n",
       "      <td>24.3175</td>\n",
       "      <td>2021-06-01</td>\n",
       "    </tr>\n",
       "    <tr>\n",
       "      <th>1</th>\n",
       "      <td>KWIFITCH21</td>\n",
       "      <td>1</td>\n",
       "      <td>42.997337</td>\n",
       "      <td>-89.439064</td>\n",
       "      <td>19.344828</td>\n",
       "      <td>19.275862</td>\n",
       "      <td>20.338973</td>\n",
       "      <td>19.379310</td>\n",
       "      <td>0.008206</td>\n",
       "      <td>0.010795</td>\n",
       "      <td>0.012080</td>\n",
       "      <td>166.0</td>\n",
       "      <td>0.902230</td>\n",
       "      <td>38.0</td>\n",
       "      <td>27.571429</td>\n",
       "      <td>0.0</td>\n",
       "      <td>803.621907</td>\n",
       "      <td>0.0</td>\n",
       "      <td>24.3175</td>\n",
       "      <td>2021-06-01</td>\n",
       "    </tr>\n",
       "    <tr>\n",
       "      <th>2</th>\n",
       "      <td>KWIFITCH21</td>\n",
       "      <td>2</td>\n",
       "      <td>42.997337</td>\n",
       "      <td>-89.439064</td>\n",
       "      <td>18.655172</td>\n",
       "      <td>18.620690</td>\n",
       "      <td>19.886975</td>\n",
       "      <td>18.689655</td>\n",
       "      <td>0.008206</td>\n",
       "      <td>0.010795</td>\n",
       "      <td>0.012080</td>\n",
       "      <td>166.0</td>\n",
       "      <td>1.146151</td>\n",
       "      <td>38.0</td>\n",
       "      <td>27.571429</td>\n",
       "      <td>0.0</td>\n",
       "      <td>803.621907</td>\n",
       "      <td>0.0</td>\n",
       "      <td>24.3175</td>\n",
       "      <td>2021-06-01</td>\n",
       "    </tr>\n",
       "    <tr>\n",
       "      <th>3</th>\n",
       "      <td>KWIFITCH21</td>\n",
       "      <td>3</td>\n",
       "      <td>42.997337</td>\n",
       "      <td>-89.439064</td>\n",
       "      <td>18.103448</td>\n",
       "      <td>18.206897</td>\n",
       "      <td>19.503942</td>\n",
       "      <td>18.241379</td>\n",
       "      <td>0.008206</td>\n",
       "      <td>0.010795</td>\n",
       "      <td>0.012080</td>\n",
       "      <td>166.0</td>\n",
       "      <td>1.159073</td>\n",
       "      <td>38.0</td>\n",
       "      <td>27.571429</td>\n",
       "      <td>0.0</td>\n",
       "      <td>803.621907</td>\n",
       "      <td>0.0</td>\n",
       "      <td>24.3175</td>\n",
       "      <td>2021-06-01</td>\n",
       "    </tr>\n",
       "    <tr>\n",
       "      <th>4</th>\n",
       "      <td>KWIFITCH21</td>\n",
       "      <td>4</td>\n",
       "      <td>42.997337</td>\n",
       "      <td>-89.439064</td>\n",
       "      <td>17.827586</td>\n",
       "      <td>18.000000</td>\n",
       "      <td>19.258841</td>\n",
       "      <td>17.965517</td>\n",
       "      <td>0.008206</td>\n",
       "      <td>0.010795</td>\n",
       "      <td>0.012080</td>\n",
       "      <td>166.0</td>\n",
       "      <td>1.171995</td>\n",
       "      <td>38.0</td>\n",
       "      <td>27.571429</td>\n",
       "      <td>0.0</td>\n",
       "      <td>803.621907</td>\n",
       "      <td>0.0</td>\n",
       "      <td>24.3175</td>\n",
       "      <td>2021-06-01</td>\n",
       "    </tr>\n",
       "    <tr>\n",
       "      <th>...</th>\n",
       "      <td>...</td>\n",
       "      <td>...</td>\n",
       "      <td>...</td>\n",
       "      <td>...</td>\n",
       "      <td>...</td>\n",
       "      <td>...</td>\n",
       "      <td>...</td>\n",
       "      <td>...</td>\n",
       "      <td>...</td>\n",
       "      <td>...</td>\n",
       "      <td>...</td>\n",
       "      <td>...</td>\n",
       "      <td>...</td>\n",
       "      <td>...</td>\n",
       "      <td>...</td>\n",
       "      <td>...</td>\n",
       "      <td>...</td>\n",
       "      <td>...</td>\n",
       "      <td>...</td>\n",
       "      <td>...</td>\n",
       "    </tr>\n",
       "    <tr>\n",
       "      <th>2587</th>\n",
       "      <td>KWIWINDS10</td>\n",
       "      <td>19</td>\n",
       "      <td>43.206000</td>\n",
       "      <td>-89.348000</td>\n",
       "      <td>24.862069</td>\n",
       "      <td>24.792638</td>\n",
       "      <td>24.827586</td>\n",
       "      <td>24.655172</td>\n",
       "      <td>0.032850</td>\n",
       "      <td>0.051517</td>\n",
       "      <td>0.065299</td>\n",
       "      <td>166.0</td>\n",
       "      <td>-1.749784</td>\n",
       "      <td>31.0</td>\n",
       "      <td>10.400000</td>\n",
       "      <td>0.0</td>\n",
       "      <td>47.229699</td>\n",
       "      <td>0.0</td>\n",
       "      <td>14.9899</td>\n",
       "      <td>2021-06-01</td>\n",
       "    </tr>\n",
       "    <tr>\n",
       "      <th>2588</th>\n",
       "      <td>KWIWINDS10</td>\n",
       "      <td>20</td>\n",
       "      <td>43.206000</td>\n",
       "      <td>-89.348000</td>\n",
       "      <td>23.517241</td>\n",
       "      <td>23.564360</td>\n",
       "      <td>23.137931</td>\n",
       "      <td>23.068966</td>\n",
       "      <td>0.032850</td>\n",
       "      <td>0.051517</td>\n",
       "      <td>0.065299</td>\n",
       "      <td>166.0</td>\n",
       "      <td>-0.128572</td>\n",
       "      <td>31.0</td>\n",
       "      <td>10.400000</td>\n",
       "      <td>0.0</td>\n",
       "      <td>47.229699</td>\n",
       "      <td>0.0</td>\n",
       "      <td>14.9899</td>\n",
       "      <td>2021-06-01</td>\n",
       "    </tr>\n",
       "    <tr>\n",
       "      <th>2589</th>\n",
       "      <td>KWIWINDS10</td>\n",
       "      <td>21</td>\n",
       "      <td>43.206000</td>\n",
       "      <td>-89.348000</td>\n",
       "      <td>22.034483</td>\n",
       "      <td>22.439531</td>\n",
       "      <td>21.172414</td>\n",
       "      <td>22.034483</td>\n",
       "      <td>0.032850</td>\n",
       "      <td>0.051517</td>\n",
       "      <td>0.065299</td>\n",
       "      <td>166.0</td>\n",
       "      <td>1.211416</td>\n",
       "      <td>31.0</td>\n",
       "      <td>10.400000</td>\n",
       "      <td>0.0</td>\n",
       "      <td>47.229699</td>\n",
       "      <td>0.0</td>\n",
       "      <td>14.9899</td>\n",
       "      <td>2021-06-01</td>\n",
       "    </tr>\n",
       "    <tr>\n",
       "      <th>2590</th>\n",
       "      <td>KWIWINDS10</td>\n",
       "      <td>22</td>\n",
       "      <td>43.206000</td>\n",
       "      <td>-89.348000</td>\n",
       "      <td>21.068966</td>\n",
       "      <td>21.866427</td>\n",
       "      <td>20.103448</td>\n",
       "      <td>21.275862</td>\n",
       "      <td>0.032850</td>\n",
       "      <td>0.051517</td>\n",
       "      <td>0.065299</td>\n",
       "      <td>166.0</td>\n",
       "      <td>-1.510430</td>\n",
       "      <td>31.0</td>\n",
       "      <td>10.400000</td>\n",
       "      <td>0.0</td>\n",
       "      <td>47.229699</td>\n",
       "      <td>0.0</td>\n",
       "      <td>14.9899</td>\n",
       "      <td>2021-06-01</td>\n",
       "    </tr>\n",
       "    <tr>\n",
       "      <th>2591</th>\n",
       "      <td>KWIWINDS10</td>\n",
       "      <td>23</td>\n",
       "      <td>43.206000</td>\n",
       "      <td>-89.348000</td>\n",
       "      <td>20.379310</td>\n",
       "      <td>21.569184</td>\n",
       "      <td>19.586207</td>\n",
       "      <td>20.724138</td>\n",
       "      <td>0.032850</td>\n",
       "      <td>0.051517</td>\n",
       "      <td>0.065299</td>\n",
       "      <td>166.0</td>\n",
       "      <td>-0.722727</td>\n",
       "      <td>31.0</td>\n",
       "      <td>10.400000</td>\n",
       "      <td>0.0</td>\n",
       "      <td>47.229699</td>\n",
       "      <td>0.0</td>\n",
       "      <td>14.9899</td>\n",
       "      <td>2021-06-01</td>\n",
       "    </tr>\n",
       "  </tbody>\n",
       "</table>\n",
       "<p>2592 rows × 20 columns</p>\n",
       "</div>"
      ],
      "text/plain": [
       "         station  hour   latitude  longitude  temperature  \\\n",
       "0     KWIFITCH21     0  42.997337 -89.439064    19.931034   \n",
       "1     KWIFITCH21     1  42.997337 -89.439064    19.344828   \n",
       "2     KWIFITCH21     2  42.997337 -89.439064    18.655172   \n",
       "3     KWIFITCH21     3  42.997337 -89.439064    18.103448   \n",
       "4     KWIFITCH21     4  42.997337 -89.439064    17.827586   \n",
       "...          ...   ...        ...        ...          ...   \n",
       "2587  KWIWINDS10    19  43.206000 -89.348000    24.862069   \n",
       "2588  KWIWINDS10    20  43.206000 -89.348000    23.517241   \n",
       "2589  KWIWINDS10    21  43.206000 -89.348000    22.034483   \n",
       "2590  KWIWINDS10    22  43.206000 -89.348000    21.068966   \n",
       "2591  KWIWINDS10    23  43.206000 -89.348000    20.379310   \n",
       "\n",
       "      closest_station_1_temp  closest_station_2_temp  closest_station_3_temp  \\\n",
       "0                  19.862069               20.859937               19.931034   \n",
       "1                  19.275862               20.338973               19.379310   \n",
       "2                  18.620690               19.886975               18.689655   \n",
       "3                  18.206897               19.503942               18.241379   \n",
       "4                  18.000000               19.258841               17.965517   \n",
       "...                      ...                     ...                     ...   \n",
       "2587               24.792638               24.827586               24.655172   \n",
       "2588               23.564360               23.137931               23.068966   \n",
       "2589               22.439531               21.172414               22.034483   \n",
       "2590               21.866427               20.103448               21.275862   \n",
       "2591               21.569184               19.586207               20.724138   \n",
       "\n",
       "      closest_1_distance  closest_2_distance  closest_3_distance  day_of_year  \\\n",
       "0               0.008206            0.010795            0.012080        166.0   \n",
       "1               0.008206            0.010795            0.012080        166.0   \n",
       "2               0.008206            0.010795            0.012080        166.0   \n",
       "3               0.008206            0.010795            0.012080        166.0   \n",
       "4               0.008206            0.010795            0.012080        166.0   \n",
       "...                  ...                 ...                 ...          ...   \n",
       "2587            0.032850            0.051517            0.065299        166.0   \n",
       "2588            0.032850            0.051517            0.065299        166.0   \n",
       "2589            0.032850            0.051517            0.065299        166.0   \n",
       "2590            0.032850            0.051517            0.065299        166.0   \n",
       "2591            0.032850            0.051517            0.065299        166.0   \n",
       "\n",
       "      adjusted_lst  valueImperviousfraction  valueTreefraction  \\\n",
       "0         0.658309                     38.0          27.571429   \n",
       "1         0.902230                     38.0          27.571429   \n",
       "2         1.146151                     38.0          27.571429   \n",
       "3         1.159073                     38.0          27.571429   \n",
       "4         1.171995                     38.0          27.571429   \n",
       "...            ...                      ...                ...   \n",
       "2587     -1.749784                     31.0          10.400000   \n",
       "2588     -0.128572                     31.0          10.400000   \n",
       "2589      1.211416                     31.0          10.400000   \n",
       "2590     -1.510430                     31.0          10.400000   \n",
       "2591     -0.722727                     31.0          10.400000   \n",
       "\n",
       "      valueBuildingheight  valueNearestDistWater  valueWaterfraction  \\\n",
       "0                     0.0             803.621907                 0.0   \n",
       "1                     0.0             803.621907                 0.0   \n",
       "2                     0.0             803.621907                 0.0   \n",
       "3                     0.0             803.621907                 0.0   \n",
       "4                     0.0             803.621907                 0.0   \n",
       "...                   ...                    ...                 ...   \n",
       "2587                  0.0              47.229699                 0.0   \n",
       "2588                  0.0              47.229699                 0.0   \n",
       "2589                  0.0              47.229699                 0.0   \n",
       "2590                  0.0              47.229699                 0.0   \n",
       "2591                  0.0              47.229699                 0.0   \n",
       "\n",
       "      valueBuildingfraction    beg_time  \n",
       "0                   24.3175  2021-06-01  \n",
       "1                   24.3175  2021-06-01  \n",
       "2                   24.3175  2021-06-01  \n",
       "3                   24.3175  2021-06-01  \n",
       "4                   24.3175  2021-06-01  \n",
       "...                     ...         ...  \n",
       "2587                14.9899  2021-06-01  \n",
       "2588                14.9899  2021-06-01  \n",
       "2589                14.9899  2021-06-01  \n",
       "2590                14.9899  2021-06-01  \n",
       "2591                14.9899  2021-06-01  \n",
       "\n",
       "[2592 rows x 20 columns]"
      ]
     },
     "execution_count": 82,
     "metadata": {},
     "output_type": "execute_result"
    }
   ],
   "source": [
    "V = skgstat.Variogram(grouped_data, data['sample'][1],maxlag=90, n_lags=25, model='gaussian', normalize=False)\n"
   ]
  },
  {
   "cell_type": "code",
   "execution_count": 110,
   "id": "503cfcf0",
   "metadata": {},
   "outputs": [
    {
     "name": "stderr",
     "output_type": "stream",
     "text": [
      "/Users/gaurav/opt/anaconda3/lib/python3.9/site-packages/skgstat/plotting/variogram_plot.py:123: UserWarning:\n",
      "\n",
      "Matplotlib is currently using module://matplotlib_inline.backend_inline, which is a non-GUI backend, so cannot show the figure.\n",
      "\n"
     ]
    },
    {
     "data": {
      "image/png": "[encoded data removed]",
      "text/plain": [
       "<Figure size 576x360 with 2 Axes>"
      ]
     },
     "execution_count": 110,
     "metadata": {},
     "output_type": "execute_result"
    },
    {
     "data": {
      "image/png": "[encoded data removed]",
      "text/plain": [
       "<Figure size 576x360 with 2 Axes>"
      ]
     },
     "metadata": {
      "needs_background": "light"
     },
     "output_type": "display_data"
    }
   ],
   "source": [
    "V = skgstat.Variogram(grouped_data[['latitude','longitude']], grouped_data.temperature,maxlag=0.02, n_lags=25, model='gaussian', normalize=False)\n",
    "V.plot()"
   ]
  },
  {
   "cell_type": "code",
   "execution_count": 126,
   "id": "4aebd281",
   "metadata": {},
   "outputs": [
    {
     "data": {
      "text/html": [
       "<div>\n",
       "<style scoped>\n",
       "    .dataframe tbody tr th:only-of-type {\n",
       "        vertical-align: middle;\n",
       "    }\n",
       "\n",
       "    .dataframe tbody tr th {\n",
       "        vertical-align: top;\n",
       "    }\n",
       "\n",
       "    .dataframe thead th {\n",
       "        text-align: right;\n",
       "    }\n",
       "</style>\n",
       "<table border=\"1\" class=\"dataframe\">\n",
       "  <thead>\n",
       "    <tr style=\"text-align: right;\">\n",
       "      <th></th>\n",
       "      <th>latitude</th>\n",
       "      <th>longitude</th>\n",
       "      <th>temperature</th>\n",
       "    </tr>\n",
       "  </thead>\n",
       "  <tbody>\n",
       "    <tr>\n",
       "      <th>0</th>\n",
       "      <td>4754.387541</td>\n",
       "      <td>10.634756</td>\n",
       "      <td>19.931034</td>\n",
       "    </tr>\n",
       "    <tr>\n",
       "      <th>1</th>\n",
       "      <td>4754.387541</td>\n",
       "      <td>10.634756</td>\n",
       "      <td>19.344828</td>\n",
       "    </tr>\n",
       "    <tr>\n",
       "      <th>2</th>\n",
       "      <td>4754.387541</td>\n",
       "      <td>10.634756</td>\n",
       "      <td>18.655172</td>\n",
       "    </tr>\n",
       "    <tr>\n",
       "      <th>3</th>\n",
       "      <td>4754.387541</td>\n",
       "      <td>10.634756</td>\n",
       "      <td>18.103448</td>\n",
       "    </tr>\n",
       "    <tr>\n",
       "      <th>4</th>\n",
       "      <td>4754.387541</td>\n",
       "      <td>10.634756</td>\n",
       "      <td>17.827586</td>\n",
       "    </tr>\n",
       "    <tr>\n",
       "      <th>...</th>\n",
       "      <td>...</td>\n",
       "      <td>...</td>\n",
       "      <td>...</td>\n",
       "    </tr>\n",
       "    <tr>\n",
       "      <th>2587</th>\n",
       "      <td>4777.460244</td>\n",
       "      <td>20.599476</td>\n",
       "      <td>24.862069</td>\n",
       "    </tr>\n",
       "    <tr>\n",
       "      <th>2588</th>\n",
       "      <td>4777.460244</td>\n",
       "      <td>20.599476</td>\n",
       "      <td>23.517241</td>\n",
       "    </tr>\n",
       "    <tr>\n",
       "      <th>2589</th>\n",
       "      <td>4777.460244</td>\n",
       "      <td>20.599476</td>\n",
       "      <td>22.034483</td>\n",
       "    </tr>\n",
       "    <tr>\n",
       "      <th>2590</th>\n",
       "      <td>4777.460244</td>\n",
       "      <td>20.599476</td>\n",
       "      <td>21.068966</td>\n",
       "    </tr>\n",
       "    <tr>\n",
       "      <th>2591</th>\n",
       "      <td>4777.460244</td>\n",
       "      <td>20.599476</td>\n",
       "      <td>20.379310</td>\n",
       "    </tr>\n",
       "  </tbody>\n",
       "</table>\n",
       "<p>2592 rows × 3 columns</p>\n",
       "</div>"
      ],
      "text/plain": [
       "         latitude  longitude  temperature\n",
       "0     4754.387541  10.634756    19.931034\n",
       "1     4754.387541  10.634756    19.344828\n",
       "2     4754.387541  10.634756    18.655172\n",
       "3     4754.387541  10.634756    18.103448\n",
       "4     4754.387541  10.634756    17.827586\n",
       "...           ...        ...          ...\n",
       "2587  4777.460244  20.599476    24.862069\n",
       "2588  4777.460244  20.599476    23.517241\n",
       "2589  4777.460244  20.599476    22.034483\n",
       "2590  4777.460244  20.599476    21.068966\n",
       "2591  4777.460244  20.599476    20.379310\n",
       "\n",
       "[2592 rows x 3 columns]"
      ]
     },
     "execution_count": 126,
     "metadata": {},
     "output_type": "execute_result"
    }
   ],
   "source": [
    "from lib import helper as help\n",
    "data = grouped_data[['latitude','longitude','temperature']]\n",
    "# data_new = help.convert_to_gpd(data,'epsg:4326',convert_to='epsg:7789')  \n",
    "# data_new = data_new[['latitude','longitude','temperature']]\n",
    "# data_new['latitude'] = 1000*data_new['latitude']/np.mean(data_new['latitude'])\n",
    "# data_new['longitude'] = 1000*data_new['longitude']/np.mean(data_new['longitude'])\n",
    "# data_new\n",
    "\n",
    "# Latitude: 1 deg = 110.574 km\n",
    "# Longitude: 1 deg = 111.320*cos(latitude) km\n",
    "data['latitude'] = data['latitude']*110.574\n",
    "data['longitude'] = np.cos(data['longitude'])*110.574\n",
    "data"
   ]
  },
  {
   "cell_type": "code",
   "execution_count": 139,
   "id": "b426da2d",
   "metadata": {},
   "outputs": [
    {
     "name": "stderr",
     "output_type": "stream",
     "text": [
      "/Users/gaurav/opt/anaconda3/lib/python3.9/site-packages/skgstat/plotting/variogram_plot.py:123: UserWarning:\n",
      "\n",
      "Matplotlib is currently using module://matplotlib_inline.backend_inline, which is a non-GUI backend, so cannot show the figure.\n",
      "\n"
     ]
    },
    {
     "data": {
      "image/png": "[encoded data removed]",
      "text/plain": [
       "<Figure size 576x360 with 2 Axes>"
      ]
     },
     "execution_count": 139,
     "metadata": {},
     "output_type": "execute_result"
    },
    {
     "data": {
      "image/png": "[encoded data removed]",
      "text/plain": [
       "<Figure size 576x360 with 2 Axes>"
      ]
     },
     "metadata": {
      "needs_background": "light"
     },
     "output_type": "display_data"
    }
   ],
   "source": [
    "V = skgstat.Variogram(data[['latitude','longitude']], data.temperature,maxlag=100, n_lags=40, model='gaussian', normalize=False)\n",
    "V.plot()"
   ]
  },
  {
   "cell_type": "code",
   "execution_count": null,
   "metadata": {},
   "outputs": [],
   "source": [
    "#epsg of plane coordinates\n"
   ]
  }
 ],
 "metadata": {
  "kernelspec": {
   "display_name": "Python 3 (ipykernel)",
   "language": "python",
   "name": "python3"
  },
  "language_info": {
   "codemirror_mode": {
    "name": "ipython",
    "version": 3
   },
   "file_extension": ".py",
   "mimetype": "text/x-python",
   "name": "python",
   "nbconvert_exporter": "python",
   "pygments_lexer": "ipython3",
   "version": "3.9.12"
  }
 },
 "nbformat": 4,
 "nbformat_minor": 5
}
